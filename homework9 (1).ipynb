{
  "nbformat": 4,
  "nbformat_minor": 0,
  "metadata": {
    "colab": {
      "name": "homework9.ipynb",
      "provenance": [],
      "collapsed_sections": []
    },
    "kernelspec": {
      "name": "python3",
      "display_name": "Python 3"
    },
    "language_info": {
      "name": "python"
    },
    "accelerator": "GPU",
    "widgets": {
      "application/vnd.jupyter.widget-state+json": {
        "b660832a537c478c8b9c740864ed364c": {
          "model_module": "@jupyter-widgets/controls",
          "model_name": "HBoxModel",
          "model_module_version": "1.5.0",
          "state": {
            "_dom_classes": [],
            "_model_module": "@jupyter-widgets/controls",
            "_model_module_version": "1.5.0",
            "_model_name": "HBoxModel",
            "_view_count": null,
            "_view_module": "@jupyter-widgets/controls",
            "_view_module_version": "1.5.0",
            "_view_name": "HBoxView",
            "box_style": "",
            "children": [
              "IPY_MODEL_8d7f2b9384c94bbd8d36ced769e91239",
              "IPY_MODEL_944816da94db4fc7b88fa26ea995ea25",
              "IPY_MODEL_2d8704cbc213446181842bce945693dd"
            ],
            "layout": "IPY_MODEL_8c56b5d9eff64d2591fb1b7a2a4d0ad3"
          }
        },
        "8d7f2b9384c94bbd8d36ced769e91239": {
          "model_module": "@jupyter-widgets/controls",
          "model_name": "HTMLModel",
          "model_module_version": "1.5.0",
          "state": {
            "_dom_classes": [],
            "_model_module": "@jupyter-widgets/controls",
            "_model_module_version": "1.5.0",
            "_model_name": "HTMLModel",
            "_view_count": null,
            "_view_module": "@jupyter-widgets/controls",
            "_view_module_version": "1.5.0",
            "_view_name": "HTMLView",
            "description": "",
            "description_tooltip": null,
            "layout": "IPY_MODEL_4eb29c0ab71a4ef2825be12bfc6903b4",
            "placeholder": "​",
            "style": "IPY_MODEL_42ef3f48ba1b4c8c826f90f27b5aa1ae",
            "value": "Downloading: 100%"
          }
        },
        "944816da94db4fc7b88fa26ea995ea25": {
          "model_module": "@jupyter-widgets/controls",
          "model_name": "FloatProgressModel",
          "model_module_version": "1.5.0",
          "state": {
            "_dom_classes": [],
            "_model_module": "@jupyter-widgets/controls",
            "_model_module_version": "1.5.0",
            "_model_name": "FloatProgressModel",
            "_view_count": null,
            "_view_module": "@jupyter-widgets/controls",
            "_view_module_version": "1.5.0",
            "_view_name": "ProgressView",
            "bar_style": "success",
            "description": "",
            "description_tooltip": null,
            "layout": "IPY_MODEL_a8ae828f1d714fb3ab1ee57d86cfb0fb",
            "max": 49,
            "min": 0,
            "orientation": "horizontal",
            "style": "IPY_MODEL_f704bbc5afab45888de3584e13857594",
            "value": 49
          }
        },
        "2d8704cbc213446181842bce945693dd": {
          "model_module": "@jupyter-widgets/controls",
          "model_name": "HTMLModel",
          "model_module_version": "1.5.0",
          "state": {
            "_dom_classes": [],
            "_model_module": "@jupyter-widgets/controls",
            "_model_module_version": "1.5.0",
            "_model_name": "HTMLModel",
            "_view_count": null,
            "_view_module": "@jupyter-widgets/controls",
            "_view_module_version": "1.5.0",
            "_view_name": "HTMLView",
            "description": "",
            "description_tooltip": null,
            "layout": "IPY_MODEL_24198b7a0fce495398300bd5067fbb30",
            "placeholder": "​",
            "style": "IPY_MODEL_d72b2073bbd648959cd650050e36e8c5",
            "value": " 49.0/49.0 [00:00&lt;00:00, 1.23kB/s]"
          }
        },
        "8c56b5d9eff64d2591fb1b7a2a4d0ad3": {
          "model_module": "@jupyter-widgets/base",
          "model_name": "LayoutModel",
          "model_module_version": "1.2.0",
          "state": {
            "_model_module": "@jupyter-widgets/base",
            "_model_module_version": "1.2.0",
            "_model_name": "LayoutModel",
            "_view_count": null,
            "_view_module": "@jupyter-widgets/base",
            "_view_module_version": "1.2.0",
            "_view_name": "LayoutView",
            "align_content": null,
            "align_items": null,
            "align_self": null,
            "border": null,
            "bottom": null,
            "display": null,
            "flex": null,
            "flex_flow": null,
            "grid_area": null,
            "grid_auto_columns": null,
            "grid_auto_flow": null,
            "grid_auto_rows": null,
            "grid_column": null,
            "grid_gap": null,
            "grid_row": null,
            "grid_template_areas": null,
            "grid_template_columns": null,
            "grid_template_rows": null,
            "height": null,
            "justify_content": null,
            "justify_items": null,
            "left": null,
            "margin": null,
            "max_height": null,
            "max_width": null,
            "min_height": null,
            "min_width": null,
            "object_fit": null,
            "object_position": null,
            "order": null,
            "overflow": null,
            "overflow_x": null,
            "overflow_y": null,
            "padding": null,
            "right": null,
            "top": null,
            "visibility": null,
            "width": null
          }
        },
        "4eb29c0ab71a4ef2825be12bfc6903b4": {
          "model_module": "@jupyter-widgets/base",
          "model_name": "LayoutModel",
          "model_module_version": "1.2.0",
          "state": {
            "_model_module": "@jupyter-widgets/base",
            "_model_module_version": "1.2.0",
            "_model_name": "LayoutModel",
            "_view_count": null,
            "_view_module": "@jupyter-widgets/base",
            "_view_module_version": "1.2.0",
            "_view_name": "LayoutView",
            "align_content": null,
            "align_items": null,
            "align_self": null,
            "border": null,
            "bottom": null,
            "display": null,
            "flex": null,
            "flex_flow": null,
            "grid_area": null,
            "grid_auto_columns": null,
            "grid_auto_flow": null,
            "grid_auto_rows": null,
            "grid_column": null,
            "grid_gap": null,
            "grid_row": null,
            "grid_template_areas": null,
            "grid_template_columns": null,
            "grid_template_rows": null,
            "height": null,
            "justify_content": null,
            "justify_items": null,
            "left": null,
            "margin": null,
            "max_height": null,
            "max_width": null,
            "min_height": null,
            "min_width": null,
            "object_fit": null,
            "object_position": null,
            "order": null,
            "overflow": null,
            "overflow_x": null,
            "overflow_y": null,
            "padding": null,
            "right": null,
            "top": null,
            "visibility": null,
            "width": null
          }
        },
        "42ef3f48ba1b4c8c826f90f27b5aa1ae": {
          "model_module": "@jupyter-widgets/controls",
          "model_name": "DescriptionStyleModel",
          "model_module_version": "1.5.0",
          "state": {
            "_model_module": "@jupyter-widgets/controls",
            "_model_module_version": "1.5.0",
            "_model_name": "DescriptionStyleModel",
            "_view_count": null,
            "_view_module": "@jupyter-widgets/base",
            "_view_module_version": "1.2.0",
            "_view_name": "StyleView",
            "description_width": ""
          }
        },
        "a8ae828f1d714fb3ab1ee57d86cfb0fb": {
          "model_module": "@jupyter-widgets/base",
          "model_name": "LayoutModel",
          "model_module_version": "1.2.0",
          "state": {
            "_model_module": "@jupyter-widgets/base",
            "_model_module_version": "1.2.0",
            "_model_name": "LayoutModel",
            "_view_count": null,
            "_view_module": "@jupyter-widgets/base",
            "_view_module_version": "1.2.0",
            "_view_name": "LayoutView",
            "align_content": null,
            "align_items": null,
            "align_self": null,
            "border": null,
            "bottom": null,
            "display": null,
            "flex": null,
            "flex_flow": null,
            "grid_area": null,
            "grid_auto_columns": null,
            "grid_auto_flow": null,
            "grid_auto_rows": null,
            "grid_column": null,
            "grid_gap": null,
            "grid_row": null,
            "grid_template_areas": null,
            "grid_template_columns": null,
            "grid_template_rows": null,
            "height": null,
            "justify_content": null,
            "justify_items": null,
            "left": null,
            "margin": null,
            "max_height": null,
            "max_width": null,
            "min_height": null,
            "min_width": null,
            "object_fit": null,
            "object_position": null,
            "order": null,
            "overflow": null,
            "overflow_x": null,
            "overflow_y": null,
            "padding": null,
            "right": null,
            "top": null,
            "visibility": null,
            "width": null
          }
        },
        "f704bbc5afab45888de3584e13857594": {
          "model_module": "@jupyter-widgets/controls",
          "model_name": "ProgressStyleModel",
          "model_module_version": "1.5.0",
          "state": {
            "_model_module": "@jupyter-widgets/controls",
            "_model_module_version": "1.5.0",
            "_model_name": "ProgressStyleModel",
            "_view_count": null,
            "_view_module": "@jupyter-widgets/base",
            "_view_module_version": "1.2.0",
            "_view_name": "StyleView",
            "bar_color": null,
            "description_width": ""
          }
        },
        "24198b7a0fce495398300bd5067fbb30": {
          "model_module": "@jupyter-widgets/base",
          "model_name": "LayoutModel",
          "model_module_version": "1.2.0",
          "state": {
            "_model_module": "@jupyter-widgets/base",
            "_model_module_version": "1.2.0",
            "_model_name": "LayoutModel",
            "_view_count": null,
            "_view_module": "@jupyter-widgets/base",
            "_view_module_version": "1.2.0",
            "_view_name": "LayoutView",
            "align_content": null,
            "align_items": null,
            "align_self": null,
            "border": null,
            "bottom": null,
            "display": null,
            "flex": null,
            "flex_flow": null,
            "grid_area": null,
            "grid_auto_columns": null,
            "grid_auto_flow": null,
            "grid_auto_rows": null,
            "grid_column": null,
            "grid_gap": null,
            "grid_row": null,
            "grid_template_areas": null,
            "grid_template_columns": null,
            "grid_template_rows": null,
            "height": null,
            "justify_content": null,
            "justify_items": null,
            "left": null,
            "margin": null,
            "max_height": null,
            "max_width": null,
            "min_height": null,
            "min_width": null,
            "object_fit": null,
            "object_position": null,
            "order": null,
            "overflow": null,
            "overflow_x": null,
            "overflow_y": null,
            "padding": null,
            "right": null,
            "top": null,
            "visibility": null,
            "width": null
          }
        },
        "d72b2073bbd648959cd650050e36e8c5": {
          "model_module": "@jupyter-widgets/controls",
          "model_name": "DescriptionStyleModel",
          "model_module_version": "1.5.0",
          "state": {
            "_model_module": "@jupyter-widgets/controls",
            "_model_module_version": "1.5.0",
            "_model_name": "DescriptionStyleModel",
            "_view_count": null,
            "_view_module": "@jupyter-widgets/base",
            "_view_module_version": "1.2.0",
            "_view_name": "StyleView",
            "description_width": ""
          }
        },
        "4a62a3a889f744e49a4ca08eba519c10": {
          "model_module": "@jupyter-widgets/controls",
          "model_name": "HBoxModel",
          "model_module_version": "1.5.0",
          "state": {
            "_dom_classes": [],
            "_model_module": "@jupyter-widgets/controls",
            "_model_module_version": "1.5.0",
            "_model_name": "HBoxModel",
            "_view_count": null,
            "_view_module": "@jupyter-widgets/controls",
            "_view_module_version": "1.5.0",
            "_view_name": "HBoxView",
            "box_style": "",
            "children": [
              "IPY_MODEL_b2dd36f76adf43f99cee432ecac00a81",
              "IPY_MODEL_23fa94cb096c4033b0f7acc2bdf7dc48",
              "IPY_MODEL_77f696b7b4ce4046bf30ddfd9e4acd1a"
            ],
            "layout": "IPY_MODEL_d834d72049754bbdabe6e386bccaddcf"
          }
        },
        "b2dd36f76adf43f99cee432ecac00a81": {
          "model_module": "@jupyter-widgets/controls",
          "model_name": "HTMLModel",
          "model_module_version": "1.5.0",
          "state": {
            "_dom_classes": [],
            "_model_module": "@jupyter-widgets/controls",
            "_model_module_version": "1.5.0",
            "_model_name": "HTMLModel",
            "_view_count": null,
            "_view_module": "@jupyter-widgets/controls",
            "_view_module_version": "1.5.0",
            "_view_name": "HTMLView",
            "description": "",
            "description_tooltip": null,
            "layout": "IPY_MODEL_e3ae3888465b437abf8be4185ed65818",
            "placeholder": "​",
            "style": "IPY_MODEL_1451bdacf0ac4763bea82f51a956d65e",
            "value": "Downloading: 100%"
          }
        },
        "23fa94cb096c4033b0f7acc2bdf7dc48": {
          "model_module": "@jupyter-widgets/controls",
          "model_name": "FloatProgressModel",
          "model_module_version": "1.5.0",
          "state": {
            "_dom_classes": [],
            "_model_module": "@jupyter-widgets/controls",
            "_model_module_version": "1.5.0",
            "_model_name": "FloatProgressModel",
            "_view_count": null,
            "_view_module": "@jupyter-widgets/controls",
            "_view_module_version": "1.5.0",
            "_view_name": "ProgressView",
            "bar_style": "success",
            "description": "",
            "description_tooltip": null,
            "layout": "IPY_MODEL_1b5c4178e6f443988e5c1d5065005805",
            "max": 806,
            "min": 0,
            "orientation": "horizontal",
            "style": "IPY_MODEL_79d24c4ab384434097d34f80ea2c0fdc",
            "value": 806
          }
        },
        "77f696b7b4ce4046bf30ddfd9e4acd1a": {
          "model_module": "@jupyter-widgets/controls",
          "model_name": "HTMLModel",
          "model_module_version": "1.5.0",
          "state": {
            "_dom_classes": [],
            "_model_module": "@jupyter-widgets/controls",
            "_model_module_version": "1.5.0",
            "_model_name": "HTMLModel",
            "_view_count": null,
            "_view_module": "@jupyter-widgets/controls",
            "_view_module_version": "1.5.0",
            "_view_name": "HTMLView",
            "description": "",
            "description_tooltip": null,
            "layout": "IPY_MODEL_b5fe096163f14cc6b80370fa726718be",
            "placeholder": "​",
            "style": "IPY_MODEL_0dd13a865231484baa7407eaeac949f1",
            "value": " 806/806 [00:00&lt;00:00, 24.5kB/s]"
          }
        },
        "d834d72049754bbdabe6e386bccaddcf": {
          "model_module": "@jupyter-widgets/base",
          "model_name": "LayoutModel",
          "model_module_version": "1.2.0",
          "state": {
            "_model_module": "@jupyter-widgets/base",
            "_model_module_version": "1.2.0",
            "_model_name": "LayoutModel",
            "_view_count": null,
            "_view_module": "@jupyter-widgets/base",
            "_view_module_version": "1.2.0",
            "_view_name": "LayoutView",
            "align_content": null,
            "align_items": null,
            "align_self": null,
            "border": null,
            "bottom": null,
            "display": null,
            "flex": null,
            "flex_flow": null,
            "grid_area": null,
            "grid_auto_columns": null,
            "grid_auto_flow": null,
            "grid_auto_rows": null,
            "grid_column": null,
            "grid_gap": null,
            "grid_row": null,
            "grid_template_areas": null,
            "grid_template_columns": null,
            "grid_template_rows": null,
            "height": null,
            "justify_content": null,
            "justify_items": null,
            "left": null,
            "margin": null,
            "max_height": null,
            "max_width": null,
            "min_height": null,
            "min_width": null,
            "object_fit": null,
            "object_position": null,
            "order": null,
            "overflow": null,
            "overflow_x": null,
            "overflow_y": null,
            "padding": null,
            "right": null,
            "top": null,
            "visibility": null,
            "width": null
          }
        },
        "e3ae3888465b437abf8be4185ed65818": {
          "model_module": "@jupyter-widgets/base",
          "model_name": "LayoutModel",
          "model_module_version": "1.2.0",
          "state": {
            "_model_module": "@jupyter-widgets/base",
            "_model_module_version": "1.2.0",
            "_model_name": "LayoutModel",
            "_view_count": null,
            "_view_module": "@jupyter-widgets/base",
            "_view_module_version": "1.2.0",
            "_view_name": "LayoutView",
            "align_content": null,
            "align_items": null,
            "align_self": null,
            "border": null,
            "bottom": null,
            "display": null,
            "flex": null,
            "flex_flow": null,
            "grid_area": null,
            "grid_auto_columns": null,
            "grid_auto_flow": null,
            "grid_auto_rows": null,
            "grid_column": null,
            "grid_gap": null,
            "grid_row": null,
            "grid_template_areas": null,
            "grid_template_columns": null,
            "grid_template_rows": null,
            "height": null,
            "justify_content": null,
            "justify_items": null,
            "left": null,
            "margin": null,
            "max_height": null,
            "max_width": null,
            "min_height": null,
            "min_width": null,
            "object_fit": null,
            "object_position": null,
            "order": null,
            "overflow": null,
            "overflow_x": null,
            "overflow_y": null,
            "padding": null,
            "right": null,
            "top": null,
            "visibility": null,
            "width": null
          }
        },
        "1451bdacf0ac4763bea82f51a956d65e": {
          "model_module": "@jupyter-widgets/controls",
          "model_name": "DescriptionStyleModel",
          "model_module_version": "1.5.0",
          "state": {
            "_model_module": "@jupyter-widgets/controls",
            "_model_module_version": "1.5.0",
            "_model_name": "DescriptionStyleModel",
            "_view_count": null,
            "_view_module": "@jupyter-widgets/base",
            "_view_module_version": "1.2.0",
            "_view_name": "StyleView",
            "description_width": ""
          }
        },
        "1b5c4178e6f443988e5c1d5065005805": {
          "model_module": "@jupyter-widgets/base",
          "model_name": "LayoutModel",
          "model_module_version": "1.2.0",
          "state": {
            "_model_module": "@jupyter-widgets/base",
            "_model_module_version": "1.2.0",
            "_model_name": "LayoutModel",
            "_view_count": null,
            "_view_module": "@jupyter-widgets/base",
            "_view_module_version": "1.2.0",
            "_view_name": "LayoutView",
            "align_content": null,
            "align_items": null,
            "align_self": null,
            "border": null,
            "bottom": null,
            "display": null,
            "flex": null,
            "flex_flow": null,
            "grid_area": null,
            "grid_auto_columns": null,
            "grid_auto_flow": null,
            "grid_auto_rows": null,
            "grid_column": null,
            "grid_gap": null,
            "grid_row": null,
            "grid_template_areas": null,
            "grid_template_columns": null,
            "grid_template_rows": null,
            "height": null,
            "justify_content": null,
            "justify_items": null,
            "left": null,
            "margin": null,
            "max_height": null,
            "max_width": null,
            "min_height": null,
            "min_width": null,
            "object_fit": null,
            "object_position": null,
            "order": null,
            "overflow": null,
            "overflow_x": null,
            "overflow_y": null,
            "padding": null,
            "right": null,
            "top": null,
            "visibility": null,
            "width": null
          }
        },
        "79d24c4ab384434097d34f80ea2c0fdc": {
          "model_module": "@jupyter-widgets/controls",
          "model_name": "ProgressStyleModel",
          "model_module_version": "1.5.0",
          "state": {
            "_model_module": "@jupyter-widgets/controls",
            "_model_module_version": "1.5.0",
            "_model_name": "ProgressStyleModel",
            "_view_count": null,
            "_view_module": "@jupyter-widgets/base",
            "_view_module_version": "1.2.0",
            "_view_name": "StyleView",
            "bar_color": null,
            "description_width": ""
          }
        },
        "b5fe096163f14cc6b80370fa726718be": {
          "model_module": "@jupyter-widgets/base",
          "model_name": "LayoutModel",
          "model_module_version": "1.2.0",
          "state": {
            "_model_module": "@jupyter-widgets/base",
            "_model_module_version": "1.2.0",
            "_model_name": "LayoutModel",
            "_view_count": null,
            "_view_module": "@jupyter-widgets/base",
            "_view_module_version": "1.2.0",
            "_view_name": "LayoutView",
            "align_content": null,
            "align_items": null,
            "align_self": null,
            "border": null,
            "bottom": null,
            "display": null,
            "flex": null,
            "flex_flow": null,
            "grid_area": null,
            "grid_auto_columns": null,
            "grid_auto_flow": null,
            "grid_auto_rows": null,
            "grid_column": null,
            "grid_gap": null,
            "grid_row": null,
            "grid_template_areas": null,
            "grid_template_columns": null,
            "grid_template_rows": null,
            "height": null,
            "justify_content": null,
            "justify_items": null,
            "left": null,
            "margin": null,
            "max_height": null,
            "max_width": null,
            "min_height": null,
            "min_width": null,
            "object_fit": null,
            "object_position": null,
            "order": null,
            "overflow": null,
            "overflow_x": null,
            "overflow_y": null,
            "padding": null,
            "right": null,
            "top": null,
            "visibility": null,
            "width": null
          }
        },
        "0dd13a865231484baa7407eaeac949f1": {
          "model_module": "@jupyter-widgets/controls",
          "model_name": "DescriptionStyleModel",
          "model_module_version": "1.5.0",
          "state": {
            "_model_module": "@jupyter-widgets/controls",
            "_model_module_version": "1.5.0",
            "_model_name": "DescriptionStyleModel",
            "_view_count": null,
            "_view_module": "@jupyter-widgets/base",
            "_view_module_version": "1.2.0",
            "_view_name": "StyleView",
            "description_width": ""
          }
        },
        "e5b01613de1248a497c45d793730b747": {
          "model_module": "@jupyter-widgets/controls",
          "model_name": "HBoxModel",
          "model_module_version": "1.5.0",
          "state": {
            "_dom_classes": [],
            "_model_module": "@jupyter-widgets/controls",
            "_model_module_version": "1.5.0",
            "_model_name": "HBoxModel",
            "_view_count": null,
            "_view_module": "@jupyter-widgets/controls",
            "_view_module_version": "1.5.0",
            "_view_name": "HBoxView",
            "box_style": "",
            "children": [
              "IPY_MODEL_7d715eaa8f754a6582b86576d785dc08",
              "IPY_MODEL_2496fbd1666b4fc19be26ef89b855752",
              "IPY_MODEL_7fcdc2f3d9a24db1a2f95d09b2297149"
            ],
            "layout": "IPY_MODEL_057d2497a19d442bb0d9b7c96d5daeb4"
          }
        },
        "7d715eaa8f754a6582b86576d785dc08": {
          "model_module": "@jupyter-widgets/controls",
          "model_name": "HTMLModel",
          "model_module_version": "1.5.0",
          "state": {
            "_dom_classes": [],
            "_model_module": "@jupyter-widgets/controls",
            "_model_module_version": "1.5.0",
            "_model_name": "HTMLModel",
            "_view_count": null,
            "_view_module": "@jupyter-widgets/controls",
            "_view_module_version": "1.5.0",
            "_view_name": "HTMLView",
            "description": "",
            "description_tooltip": null,
            "layout": "IPY_MODEL_f3f6e40fae884beea5f14b196c1c7ebe",
            "placeholder": "​",
            "style": "IPY_MODEL_083510beb4274fffb1119d589117ea85",
            "value": "Downloading: 100%"
          }
        },
        "2496fbd1666b4fc19be26ef89b855752": {
          "model_module": "@jupyter-widgets/controls",
          "model_name": "FloatProgressModel",
          "model_module_version": "1.5.0",
          "state": {
            "_dom_classes": [],
            "_model_module": "@jupyter-widgets/controls",
            "_model_module_version": "1.5.0",
            "_model_name": "FloatProgressModel",
            "_view_count": null,
            "_view_module": "@jupyter-widgets/controls",
            "_view_module_version": "1.5.0",
            "_view_name": "ProgressView",
            "bar_style": "success",
            "description": "",
            "description_tooltip": null,
            "layout": "IPY_MODEL_ee086c2e88e04e809c933694248e6b1f",
            "max": 521414,
            "min": 0,
            "orientation": "horizontal",
            "style": "IPY_MODEL_012dde88684548e48456c1a270094542",
            "value": 521414
          }
        },
        "7fcdc2f3d9a24db1a2f95d09b2297149": {
          "model_module": "@jupyter-widgets/controls",
          "model_name": "HTMLModel",
          "model_module_version": "1.5.0",
          "state": {
            "_dom_classes": [],
            "_model_module": "@jupyter-widgets/controls",
            "_model_module_version": "1.5.0",
            "_model_name": "HTMLModel",
            "_view_count": null,
            "_view_module": "@jupyter-widgets/controls",
            "_view_module_version": "1.5.0",
            "_view_name": "HTMLView",
            "description": "",
            "description_tooltip": null,
            "layout": "IPY_MODEL_30467e543e7247f780818c7c318bb3bd",
            "placeholder": "​",
            "style": "IPY_MODEL_ee1ac0bd0abf4c8fb63eb3709d20c609",
            "value": " 509k/509k [00:00&lt;00:00, 886kB/s]"
          }
        },
        "057d2497a19d442bb0d9b7c96d5daeb4": {
          "model_module": "@jupyter-widgets/base",
          "model_name": "LayoutModel",
          "model_module_version": "1.2.0",
          "state": {
            "_model_module": "@jupyter-widgets/base",
            "_model_module_version": "1.2.0",
            "_model_name": "LayoutModel",
            "_view_count": null,
            "_view_module": "@jupyter-widgets/base",
            "_view_module_version": "1.2.0",
            "_view_name": "LayoutView",
            "align_content": null,
            "align_items": null,
            "align_self": null,
            "border": null,
            "bottom": null,
            "display": null,
            "flex": null,
            "flex_flow": null,
            "grid_area": null,
            "grid_auto_columns": null,
            "grid_auto_flow": null,
            "grid_auto_rows": null,
            "grid_column": null,
            "grid_gap": null,
            "grid_row": null,
            "grid_template_areas": null,
            "grid_template_columns": null,
            "grid_template_rows": null,
            "height": null,
            "justify_content": null,
            "justify_items": null,
            "left": null,
            "margin": null,
            "max_height": null,
            "max_width": null,
            "min_height": null,
            "min_width": null,
            "object_fit": null,
            "object_position": null,
            "order": null,
            "overflow": null,
            "overflow_x": null,
            "overflow_y": null,
            "padding": null,
            "right": null,
            "top": null,
            "visibility": null,
            "width": null
          }
        },
        "f3f6e40fae884beea5f14b196c1c7ebe": {
          "model_module": "@jupyter-widgets/base",
          "model_name": "LayoutModel",
          "model_module_version": "1.2.0",
          "state": {
            "_model_module": "@jupyter-widgets/base",
            "_model_module_version": "1.2.0",
            "_model_name": "LayoutModel",
            "_view_count": null,
            "_view_module": "@jupyter-widgets/base",
            "_view_module_version": "1.2.0",
            "_view_name": "LayoutView",
            "align_content": null,
            "align_items": null,
            "align_self": null,
            "border": null,
            "bottom": null,
            "display": null,
            "flex": null,
            "flex_flow": null,
            "grid_area": null,
            "grid_auto_columns": null,
            "grid_auto_flow": null,
            "grid_auto_rows": null,
            "grid_column": null,
            "grid_gap": null,
            "grid_row": null,
            "grid_template_areas": null,
            "grid_template_columns": null,
            "grid_template_rows": null,
            "height": null,
            "justify_content": null,
            "justify_items": null,
            "left": null,
            "margin": null,
            "max_height": null,
            "max_width": null,
            "min_height": null,
            "min_width": null,
            "object_fit": null,
            "object_position": null,
            "order": null,
            "overflow": null,
            "overflow_x": null,
            "overflow_y": null,
            "padding": null,
            "right": null,
            "top": null,
            "visibility": null,
            "width": null
          }
        },
        "083510beb4274fffb1119d589117ea85": {
          "model_module": "@jupyter-widgets/controls",
          "model_name": "DescriptionStyleModel",
          "model_module_version": "1.5.0",
          "state": {
            "_model_module": "@jupyter-widgets/controls",
            "_model_module_version": "1.5.0",
            "_model_name": "DescriptionStyleModel",
            "_view_count": null,
            "_view_module": "@jupyter-widgets/base",
            "_view_module_version": "1.2.0",
            "_view_name": "StyleView",
            "description_width": ""
          }
        },
        "ee086c2e88e04e809c933694248e6b1f": {
          "model_module": "@jupyter-widgets/base",
          "model_name": "LayoutModel",
          "model_module_version": "1.2.0",
          "state": {
            "_model_module": "@jupyter-widgets/base",
            "_model_module_version": "1.2.0",
            "_model_name": "LayoutModel",
            "_view_count": null,
            "_view_module": "@jupyter-widgets/base",
            "_view_module_version": "1.2.0",
            "_view_name": "LayoutView",
            "align_content": null,
            "align_items": null,
            "align_self": null,
            "border": null,
            "bottom": null,
            "display": null,
            "flex": null,
            "flex_flow": null,
            "grid_area": null,
            "grid_auto_columns": null,
            "grid_auto_flow": null,
            "grid_auto_rows": null,
            "grid_column": null,
            "grid_gap": null,
            "grid_row": null,
            "grid_template_areas": null,
            "grid_template_columns": null,
            "grid_template_rows": null,
            "height": null,
            "justify_content": null,
            "justify_items": null,
            "left": null,
            "margin": null,
            "max_height": null,
            "max_width": null,
            "min_height": null,
            "min_width": null,
            "object_fit": null,
            "object_position": null,
            "order": null,
            "overflow": null,
            "overflow_x": null,
            "overflow_y": null,
            "padding": null,
            "right": null,
            "top": null,
            "visibility": null,
            "width": null
          }
        },
        "012dde88684548e48456c1a270094542": {
          "model_module": "@jupyter-widgets/controls",
          "model_name": "ProgressStyleModel",
          "model_module_version": "1.5.0",
          "state": {
            "_model_module": "@jupyter-widgets/controls",
            "_model_module_version": "1.5.0",
            "_model_name": "ProgressStyleModel",
            "_view_count": null,
            "_view_module": "@jupyter-widgets/base",
            "_view_module_version": "1.2.0",
            "_view_name": "StyleView",
            "bar_color": null,
            "description_width": ""
          }
        },
        "30467e543e7247f780818c7c318bb3bd": {
          "model_module": "@jupyter-widgets/base",
          "model_name": "LayoutModel",
          "model_module_version": "1.2.0",
          "state": {
            "_model_module": "@jupyter-widgets/base",
            "_model_module_version": "1.2.0",
            "_model_name": "LayoutModel",
            "_view_count": null,
            "_view_module": "@jupyter-widgets/base",
            "_view_module_version": "1.2.0",
            "_view_name": "LayoutView",
            "align_content": null,
            "align_items": null,
            "align_self": null,
            "border": null,
            "bottom": null,
            "display": null,
            "flex": null,
            "flex_flow": null,
            "grid_area": null,
            "grid_auto_columns": null,
            "grid_auto_flow": null,
            "grid_auto_rows": null,
            "grid_column": null,
            "grid_gap": null,
            "grid_row": null,
            "grid_template_areas": null,
            "grid_template_columns": null,
            "grid_template_rows": null,
            "height": null,
            "justify_content": null,
            "justify_items": null,
            "left": null,
            "margin": null,
            "max_height": null,
            "max_width": null,
            "min_height": null,
            "min_width": null,
            "object_fit": null,
            "object_position": null,
            "order": null,
            "overflow": null,
            "overflow_x": null,
            "overflow_y": null,
            "padding": null,
            "right": null,
            "top": null,
            "visibility": null,
            "width": null
          }
        },
        "ee1ac0bd0abf4c8fb63eb3709d20c609": {
          "model_module": "@jupyter-widgets/controls",
          "model_name": "DescriptionStyleModel",
          "model_module_version": "1.5.0",
          "state": {
            "_model_module": "@jupyter-widgets/controls",
            "_model_module_version": "1.5.0",
            "_model_name": "DescriptionStyleModel",
            "_view_count": null,
            "_view_module": "@jupyter-widgets/base",
            "_view_module_version": "1.2.0",
            "_view_name": "StyleView",
            "description_width": ""
          }
        },
        "c3a03d9902bd4e0a85e3a5c71dd0c560": {
          "model_module": "@jupyter-widgets/controls",
          "model_name": "HBoxModel",
          "model_module_version": "1.5.0",
          "state": {
            "_dom_classes": [],
            "_model_module": "@jupyter-widgets/controls",
            "_model_module_version": "1.5.0",
            "_model_name": "HBoxModel",
            "_view_count": null,
            "_view_module": "@jupyter-widgets/controls",
            "_view_module_version": "1.5.0",
            "_view_name": "HBoxView",
            "box_style": "",
            "children": [
              "IPY_MODEL_650c61ad4b8b458ca10b9fc7f6429f7f",
              "IPY_MODEL_ef3b65c5225c4efbaa3edda829f83daf",
              "IPY_MODEL_f086c17071ae494c80723e27c836066a"
            ],
            "layout": "IPY_MODEL_6f2f5c5bf13a499da7dfa4f00f1f0130"
          }
        },
        "650c61ad4b8b458ca10b9fc7f6429f7f": {
          "model_module": "@jupyter-widgets/controls",
          "model_name": "HTMLModel",
          "model_module_version": "1.5.0",
          "state": {
            "_dom_classes": [],
            "_model_module": "@jupyter-widgets/controls",
            "_model_module_version": "1.5.0",
            "_model_name": "HTMLModel",
            "_view_count": null,
            "_view_module": "@jupyter-widgets/controls",
            "_view_module_version": "1.5.0",
            "_view_name": "HTMLView",
            "description": "",
            "description_tooltip": null,
            "layout": "IPY_MODEL_ca491830e6fe4d089a78a3648256e123",
            "placeholder": "​",
            "style": "IPY_MODEL_8f5d879e78eb40eea31ca509b178df19",
            "value": "Downloading: 100%"
          }
        },
        "ef3b65c5225c4efbaa3edda829f83daf": {
          "model_module": "@jupyter-widgets/controls",
          "model_name": "FloatProgressModel",
          "model_module_version": "1.5.0",
          "state": {
            "_dom_classes": [],
            "_model_module": "@jupyter-widgets/controls",
            "_model_module_version": "1.5.0",
            "_model_name": "FloatProgressModel",
            "_view_count": null,
            "_view_module": "@jupyter-widgets/controls",
            "_view_module_version": "1.5.0",
            "_view_name": "ProgressView",
            "bar_style": "success",
            "description": "",
            "description_tooltip": null,
            "layout": "IPY_MODEL_a7baa23531b5483f8141565f18047502",
            "max": 112,
            "min": 0,
            "orientation": "horizontal",
            "style": "IPY_MODEL_041e2208e76d49028f036ba02287b565",
            "value": 112
          }
        },
        "f086c17071ae494c80723e27c836066a": {
          "model_module": "@jupyter-widgets/controls",
          "model_name": "HTMLModel",
          "model_module_version": "1.5.0",
          "state": {
            "_dom_classes": [],
            "_model_module": "@jupyter-widgets/controls",
            "_model_module_version": "1.5.0",
            "_model_name": "HTMLModel",
            "_view_count": null,
            "_view_module": "@jupyter-widgets/controls",
            "_view_module_version": "1.5.0",
            "_view_name": "HTMLView",
            "description": "",
            "description_tooltip": null,
            "layout": "IPY_MODEL_8b0ae00dd04c4304ab157661057d7f5a",
            "placeholder": "​",
            "style": "IPY_MODEL_5bf9245a89154440bdeee498e1cc4d35",
            "value": " 112/112 [00:00&lt;00:00, 3.24kB/s]"
          }
        },
        "6f2f5c5bf13a499da7dfa4f00f1f0130": {
          "model_module": "@jupyter-widgets/base",
          "model_name": "LayoutModel",
          "model_module_version": "1.2.0",
          "state": {
            "_model_module": "@jupyter-widgets/base",
            "_model_module_version": "1.2.0",
            "_model_name": "LayoutModel",
            "_view_count": null,
            "_view_module": "@jupyter-widgets/base",
            "_view_module_version": "1.2.0",
            "_view_name": "LayoutView",
            "align_content": null,
            "align_items": null,
            "align_self": null,
            "border": null,
            "bottom": null,
            "display": null,
            "flex": null,
            "flex_flow": null,
            "grid_area": null,
            "grid_auto_columns": null,
            "grid_auto_flow": null,
            "grid_auto_rows": null,
            "grid_column": null,
            "grid_gap": null,
            "grid_row": null,
            "grid_template_areas": null,
            "grid_template_columns": null,
            "grid_template_rows": null,
            "height": null,
            "justify_content": null,
            "justify_items": null,
            "left": null,
            "margin": null,
            "max_height": null,
            "max_width": null,
            "min_height": null,
            "min_width": null,
            "object_fit": null,
            "object_position": null,
            "order": null,
            "overflow": null,
            "overflow_x": null,
            "overflow_y": null,
            "padding": null,
            "right": null,
            "top": null,
            "visibility": null,
            "width": null
          }
        },
        "ca491830e6fe4d089a78a3648256e123": {
          "model_module": "@jupyter-widgets/base",
          "model_name": "LayoutModel",
          "model_module_version": "1.2.0",
          "state": {
            "_model_module": "@jupyter-widgets/base",
            "_model_module_version": "1.2.0",
            "_model_name": "LayoutModel",
            "_view_count": null,
            "_view_module": "@jupyter-widgets/base",
            "_view_module_version": "1.2.0",
            "_view_name": "LayoutView",
            "align_content": null,
            "align_items": null,
            "align_self": null,
            "border": null,
            "bottom": null,
            "display": null,
            "flex": null,
            "flex_flow": null,
            "grid_area": null,
            "grid_auto_columns": null,
            "grid_auto_flow": null,
            "grid_auto_rows": null,
            "grid_column": null,
            "grid_gap": null,
            "grid_row": null,
            "grid_template_areas": null,
            "grid_template_columns": null,
            "grid_template_rows": null,
            "height": null,
            "justify_content": null,
            "justify_items": null,
            "left": null,
            "margin": null,
            "max_height": null,
            "max_width": null,
            "min_height": null,
            "min_width": null,
            "object_fit": null,
            "object_position": null,
            "order": null,
            "overflow": null,
            "overflow_x": null,
            "overflow_y": null,
            "padding": null,
            "right": null,
            "top": null,
            "visibility": null,
            "width": null
          }
        },
        "8f5d879e78eb40eea31ca509b178df19": {
          "model_module": "@jupyter-widgets/controls",
          "model_name": "DescriptionStyleModel",
          "model_module_version": "1.5.0",
          "state": {
            "_model_module": "@jupyter-widgets/controls",
            "_model_module_version": "1.5.0",
            "_model_name": "DescriptionStyleModel",
            "_view_count": null,
            "_view_module": "@jupyter-widgets/base",
            "_view_module_version": "1.2.0",
            "_view_name": "StyleView",
            "description_width": ""
          }
        },
        "a7baa23531b5483f8141565f18047502": {
          "model_module": "@jupyter-widgets/base",
          "model_name": "LayoutModel",
          "model_module_version": "1.2.0",
          "state": {
            "_model_module": "@jupyter-widgets/base",
            "_model_module_version": "1.2.0",
            "_model_name": "LayoutModel",
            "_view_count": null,
            "_view_module": "@jupyter-widgets/base",
            "_view_module_version": "1.2.0",
            "_view_name": "LayoutView",
            "align_content": null,
            "align_items": null,
            "align_self": null,
            "border": null,
            "bottom": null,
            "display": null,
            "flex": null,
            "flex_flow": null,
            "grid_area": null,
            "grid_auto_columns": null,
            "grid_auto_flow": null,
            "grid_auto_rows": null,
            "grid_column": null,
            "grid_gap": null,
            "grid_row": null,
            "grid_template_areas": null,
            "grid_template_columns": null,
            "grid_template_rows": null,
            "height": null,
            "justify_content": null,
            "justify_items": null,
            "left": null,
            "margin": null,
            "max_height": null,
            "max_width": null,
            "min_height": null,
            "min_width": null,
            "object_fit": null,
            "object_position": null,
            "order": null,
            "overflow": null,
            "overflow_x": null,
            "overflow_y": null,
            "padding": null,
            "right": null,
            "top": null,
            "visibility": null,
            "width": null
          }
        },
        "041e2208e76d49028f036ba02287b565": {
          "model_module": "@jupyter-widgets/controls",
          "model_name": "ProgressStyleModel",
          "model_module_version": "1.5.0",
          "state": {
            "_model_module": "@jupyter-widgets/controls",
            "_model_module_version": "1.5.0",
            "_model_name": "ProgressStyleModel",
            "_view_count": null,
            "_view_module": "@jupyter-widgets/base",
            "_view_module_version": "1.2.0",
            "_view_name": "StyleView",
            "bar_color": null,
            "description_width": ""
          }
        },
        "8b0ae00dd04c4304ab157661057d7f5a": {
          "model_module": "@jupyter-widgets/base",
          "model_name": "LayoutModel",
          "model_module_version": "1.2.0",
          "state": {
            "_model_module": "@jupyter-widgets/base",
            "_model_module_version": "1.2.0",
            "_model_name": "LayoutModel",
            "_view_count": null,
            "_view_module": "@jupyter-widgets/base",
            "_view_module_version": "1.2.0",
            "_view_name": "LayoutView",
            "align_content": null,
            "align_items": null,
            "align_self": null,
            "border": null,
            "bottom": null,
            "display": null,
            "flex": null,
            "flex_flow": null,
            "grid_area": null,
            "grid_auto_columns": null,
            "grid_auto_flow": null,
            "grid_auto_rows": null,
            "grid_column": null,
            "grid_gap": null,
            "grid_row": null,
            "grid_template_areas": null,
            "grid_template_columns": null,
            "grid_template_rows": null,
            "height": null,
            "justify_content": null,
            "justify_items": null,
            "left": null,
            "margin": null,
            "max_height": null,
            "max_width": null,
            "min_height": null,
            "min_width": null,
            "object_fit": null,
            "object_position": null,
            "order": null,
            "overflow": null,
            "overflow_x": null,
            "overflow_y": null,
            "padding": null,
            "right": null,
            "top": null,
            "visibility": null,
            "width": null
          }
        },
        "5bf9245a89154440bdeee498e1cc4d35": {
          "model_module": "@jupyter-widgets/controls",
          "model_name": "DescriptionStyleModel",
          "model_module_version": "1.5.0",
          "state": {
            "_model_module": "@jupyter-widgets/controls",
            "_model_module_version": "1.5.0",
            "_model_name": "DescriptionStyleModel",
            "_view_count": null,
            "_view_module": "@jupyter-widgets/base",
            "_view_module_version": "1.2.0",
            "_view_name": "StyleView",
            "description_width": ""
          }
        },
        "f5610646d83848afa355672f7564715d": {
          "model_module": "@jupyter-widgets/controls",
          "model_name": "HBoxModel",
          "model_module_version": "1.5.0",
          "state": {
            "_dom_classes": [],
            "_model_module": "@jupyter-widgets/controls",
            "_model_module_version": "1.5.0",
            "_model_name": "HBoxModel",
            "_view_count": null,
            "_view_module": "@jupyter-widgets/controls",
            "_view_module_version": "1.5.0",
            "_view_name": "HBoxView",
            "box_style": "",
            "children": [
              "IPY_MODEL_485dd8db90694544bcda4f20b118536e",
              "IPY_MODEL_89dc1229d0794642bea28a12e2689c05",
              "IPY_MODEL_be3211238b104493ae40b48bb5c90c4c"
            ],
            "layout": "IPY_MODEL_e5edff2bb2594e67839dad8a11ca9629"
          }
        },
        "485dd8db90694544bcda4f20b118536e": {
          "model_module": "@jupyter-widgets/controls",
          "model_name": "HTMLModel",
          "model_module_version": "1.5.0",
          "state": {
            "_dom_classes": [],
            "_model_module": "@jupyter-widgets/controls",
            "_model_module_version": "1.5.0",
            "_model_name": "HTMLModel",
            "_view_count": null,
            "_view_module": "@jupyter-widgets/controls",
            "_view_module_version": "1.5.0",
            "_view_name": "HTMLView",
            "description": "",
            "description_tooltip": null,
            "layout": "IPY_MODEL_2f6e17a70c874b24a5667ae0c22febd3",
            "placeholder": "​",
            "style": "IPY_MODEL_43ce4974b5dc41eda3283e042b05b8c1",
            "value": "Downloading: 100%"
          }
        },
        "89dc1229d0794642bea28a12e2689c05": {
          "model_module": "@jupyter-widgets/controls",
          "model_name": "FloatProgressModel",
          "model_module_version": "1.5.0",
          "state": {
            "_dom_classes": [],
            "_model_module": "@jupyter-widgets/controls",
            "_model_module_version": "1.5.0",
            "_model_name": "FloatProgressModel",
            "_view_count": null,
            "_view_module": "@jupyter-widgets/controls",
            "_view_module_version": "1.5.0",
            "_view_name": "ProgressView",
            "bar_style": "success",
            "description": "",
            "description_tooltip": null,
            "layout": "IPY_MODEL_043587e874174762a0cb238305b9b8ae",
            "max": 516063655,
            "min": 0,
            "orientation": "horizontal",
            "style": "IPY_MODEL_1b275312c0a84cd3bac0c9362834e4ac",
            "value": 516063655
          }
        },
        "be3211238b104493ae40b48bb5c90c4c": {
          "model_module": "@jupyter-widgets/controls",
          "model_name": "HTMLModel",
          "model_module_version": "1.5.0",
          "state": {
            "_dom_classes": [],
            "_model_module": "@jupyter-widgets/controls",
            "_model_module_version": "1.5.0",
            "_model_name": "HTMLModel",
            "_view_count": null,
            "_view_module": "@jupyter-widgets/controls",
            "_view_module_version": "1.5.0",
            "_view_name": "HTMLView",
            "description": "",
            "description_tooltip": null,
            "layout": "IPY_MODEL_3c1eecdffc794864a8f8537647b0711d",
            "placeholder": "​",
            "style": "IPY_MODEL_dd4cb33675c34282aee0c6108d8e02cc",
            "value": " 492M/492M [00:23&lt;00:00, 50.1MB/s]"
          }
        },
        "e5edff2bb2594e67839dad8a11ca9629": {
          "model_module": "@jupyter-widgets/base",
          "model_name": "LayoutModel",
          "model_module_version": "1.2.0",
          "state": {
            "_model_module": "@jupyter-widgets/base",
            "_model_module_version": "1.2.0",
            "_model_name": "LayoutModel",
            "_view_count": null,
            "_view_module": "@jupyter-widgets/base",
            "_view_module_version": "1.2.0",
            "_view_name": "LayoutView",
            "align_content": null,
            "align_items": null,
            "align_self": null,
            "border": null,
            "bottom": null,
            "display": null,
            "flex": null,
            "flex_flow": null,
            "grid_area": null,
            "grid_auto_columns": null,
            "grid_auto_flow": null,
            "grid_auto_rows": null,
            "grid_column": null,
            "grid_gap": null,
            "grid_row": null,
            "grid_template_areas": null,
            "grid_template_columns": null,
            "grid_template_rows": null,
            "height": null,
            "justify_content": null,
            "justify_items": null,
            "left": null,
            "margin": null,
            "max_height": null,
            "max_width": null,
            "min_height": null,
            "min_width": null,
            "object_fit": null,
            "object_position": null,
            "order": null,
            "overflow": null,
            "overflow_x": null,
            "overflow_y": null,
            "padding": null,
            "right": null,
            "top": null,
            "visibility": null,
            "width": null
          }
        },
        "2f6e17a70c874b24a5667ae0c22febd3": {
          "model_module": "@jupyter-widgets/base",
          "model_name": "LayoutModel",
          "model_module_version": "1.2.0",
          "state": {
            "_model_module": "@jupyter-widgets/base",
            "_model_module_version": "1.2.0",
            "_model_name": "LayoutModel",
            "_view_count": null,
            "_view_module": "@jupyter-widgets/base",
            "_view_module_version": "1.2.0",
            "_view_name": "LayoutView",
            "align_content": null,
            "align_items": null,
            "align_self": null,
            "border": null,
            "bottom": null,
            "display": null,
            "flex": null,
            "flex_flow": null,
            "grid_area": null,
            "grid_auto_columns": null,
            "grid_auto_flow": null,
            "grid_auto_rows": null,
            "grid_column": null,
            "grid_gap": null,
            "grid_row": null,
            "grid_template_areas": null,
            "grid_template_columns": null,
            "grid_template_rows": null,
            "height": null,
            "justify_content": null,
            "justify_items": null,
            "left": null,
            "margin": null,
            "max_height": null,
            "max_width": null,
            "min_height": null,
            "min_width": null,
            "object_fit": null,
            "object_position": null,
            "order": null,
            "overflow": null,
            "overflow_x": null,
            "overflow_y": null,
            "padding": null,
            "right": null,
            "top": null,
            "visibility": null,
            "width": null
          }
        },
        "43ce4974b5dc41eda3283e042b05b8c1": {
          "model_module": "@jupyter-widgets/controls",
          "model_name": "DescriptionStyleModel",
          "model_module_version": "1.5.0",
          "state": {
            "_model_module": "@jupyter-widgets/controls",
            "_model_module_version": "1.5.0",
            "_model_name": "DescriptionStyleModel",
            "_view_count": null,
            "_view_module": "@jupyter-widgets/base",
            "_view_module_version": "1.2.0",
            "_view_name": "StyleView",
            "description_width": ""
          }
        },
        "043587e874174762a0cb238305b9b8ae": {
          "model_module": "@jupyter-widgets/base",
          "model_name": "LayoutModel",
          "model_module_version": "1.2.0",
          "state": {
            "_model_module": "@jupyter-widgets/base",
            "_model_module_version": "1.2.0",
            "_model_name": "LayoutModel",
            "_view_count": null,
            "_view_module": "@jupyter-widgets/base",
            "_view_module_version": "1.2.0",
            "_view_name": "LayoutView",
            "align_content": null,
            "align_items": null,
            "align_self": null,
            "border": null,
            "bottom": null,
            "display": null,
            "flex": null,
            "flex_flow": null,
            "grid_area": null,
            "grid_auto_columns": null,
            "grid_auto_flow": null,
            "grid_auto_rows": null,
            "grid_column": null,
            "grid_gap": null,
            "grid_row": null,
            "grid_template_areas": null,
            "grid_template_columns": null,
            "grid_template_rows": null,
            "height": null,
            "justify_content": null,
            "justify_items": null,
            "left": null,
            "margin": null,
            "max_height": null,
            "max_width": null,
            "min_height": null,
            "min_width": null,
            "object_fit": null,
            "object_position": null,
            "order": null,
            "overflow": null,
            "overflow_x": null,
            "overflow_y": null,
            "padding": null,
            "right": null,
            "top": null,
            "visibility": null,
            "width": null
          }
        },
        "1b275312c0a84cd3bac0c9362834e4ac": {
          "model_module": "@jupyter-widgets/controls",
          "model_name": "ProgressStyleModel",
          "model_module_version": "1.5.0",
          "state": {
            "_model_module": "@jupyter-widgets/controls",
            "_model_module_version": "1.5.0",
            "_model_name": "ProgressStyleModel",
            "_view_count": null,
            "_view_module": "@jupyter-widgets/base",
            "_view_module_version": "1.2.0",
            "_view_name": "StyleView",
            "bar_color": null,
            "description_width": ""
          }
        },
        "3c1eecdffc794864a8f8537647b0711d": {
          "model_module": "@jupyter-widgets/base",
          "model_name": "LayoutModel",
          "model_module_version": "1.2.0",
          "state": {
            "_model_module": "@jupyter-widgets/base",
            "_model_module_version": "1.2.0",
            "_model_name": "LayoutModel",
            "_view_count": null,
            "_view_module": "@jupyter-widgets/base",
            "_view_module_version": "1.2.0",
            "_view_name": "LayoutView",
            "align_content": null,
            "align_items": null,
            "align_self": null,
            "border": null,
            "bottom": null,
            "display": null,
            "flex": null,
            "flex_flow": null,
            "grid_area": null,
            "grid_auto_columns": null,
            "grid_auto_flow": null,
            "grid_auto_rows": null,
            "grid_column": null,
            "grid_gap": null,
            "grid_row": null,
            "grid_template_areas": null,
            "grid_template_columns": null,
            "grid_template_rows": null,
            "height": null,
            "justify_content": null,
            "justify_items": null,
            "left": null,
            "margin": null,
            "max_height": null,
            "max_width": null,
            "min_height": null,
            "min_width": null,
            "object_fit": null,
            "object_position": null,
            "order": null,
            "overflow": null,
            "overflow_x": null,
            "overflow_y": null,
            "padding": null,
            "right": null,
            "top": null,
            "visibility": null,
            "width": null
          }
        },
        "dd4cb33675c34282aee0c6108d8e02cc": {
          "model_module": "@jupyter-widgets/controls",
          "model_name": "DescriptionStyleModel",
          "model_module_version": "1.5.0",
          "state": {
            "_model_module": "@jupyter-widgets/controls",
            "_model_module_version": "1.5.0",
            "_model_name": "DescriptionStyleModel",
            "_view_count": null,
            "_view_module": "@jupyter-widgets/base",
            "_view_module_version": "1.2.0",
            "_view_name": "StyleView",
            "description_width": ""
          }
        }
      }
    }
  },
  "cells": [
    {
      "cell_type": "markdown",
      "source": [
        "# Задание 1 (8 баллов).\n",
        "Дообучите 3 предобученных модели на тех же данных, что и в семинаре. Сравните качество и выберите лучшую. Модели должны отличаться друг от друга не только параметрами ru/en/multilingual, base/large, cased/uncased. Все три выбранные модели должны работать лучше, чем бейзлайн без дообучения (т.е. если модель не работает, попробуйте другую)."
      ],
      "metadata": {
        "id": "T0G7bdthVxam"
      }
    },
    {
      "cell_type": "code",
      "execution_count": 1,
      "metadata": {
        "colab": {
          "base_uri": "https://localhost:8080/"
        },
        "id": "k4JElBC54f9R",
        "outputId": "ca4e1d15-547b-451a-a72f-3cb1819127ef"
      },
      "outputs": [
        {
          "output_type": "stream",
          "name": "stdout",
          "text": [
            "Collecting transformers\n",
            "  Downloading transformers-4.19.2-py3-none-any.whl (4.2 MB)\n",
            "\u001b[K     |████████████████████████████████| 4.2 MB 7.4 MB/s \n",
            "\u001b[?25hRequirement already satisfied: sklearn in /usr/local/lib/python3.7/dist-packages (0.0)\n",
            "Requirement already satisfied: pandas in /usr/local/lib/python3.7/dist-packages (1.3.5)\n",
            "Requirement already satisfied: matplotlib in /usr/local/lib/python3.7/dist-packages (3.2.2)\n",
            "Collecting huggingface-hub<1.0,>=0.1.0\n",
            "  Downloading huggingface_hub-0.6.0-py3-none-any.whl (84 kB)\n",
            "\u001b[K     |████████████████████████████████| 84 kB 4.0 MB/s \n",
            "\u001b[?25hCollecting tokenizers!=0.11.3,<0.13,>=0.11.1\n",
            "  Downloading tokenizers-0.12.1-cp37-cp37m-manylinux_2_12_x86_64.manylinux2010_x86_64.whl (6.6 MB)\n",
            "\u001b[K     |████████████████████████████████| 6.6 MB 55.0 MB/s \n",
            "\u001b[?25hRequirement already satisfied: importlib-metadata in /usr/local/lib/python3.7/dist-packages (from transformers) (4.11.3)\n",
            "Requirement already satisfied: packaging>=20.0 in /usr/local/lib/python3.7/dist-packages (from transformers) (21.3)\n",
            "Requirement already satisfied: filelock in /usr/local/lib/python3.7/dist-packages (from transformers) (3.7.0)\n",
            "Collecting pyyaml>=5.1\n",
            "  Downloading PyYAML-6.0-cp37-cp37m-manylinux_2_5_x86_64.manylinux1_x86_64.manylinux_2_12_x86_64.manylinux2010_x86_64.whl (596 kB)\n",
            "\u001b[K     |████████████████████████████████| 596 kB 61.1 MB/s \n",
            "\u001b[?25hRequirement already satisfied: requests in /usr/local/lib/python3.7/dist-packages (from transformers) (2.23.0)\n",
            "Requirement already satisfied: regex!=2019.12.17 in /usr/local/lib/python3.7/dist-packages (from transformers) (2019.12.20)\n",
            "Requirement already satisfied: tqdm>=4.27 in /usr/local/lib/python3.7/dist-packages (from transformers) (4.64.0)\n",
            "Requirement already satisfied: numpy>=1.17 in /usr/local/lib/python3.7/dist-packages (from transformers) (1.21.6)\n",
            "Requirement already satisfied: typing-extensions>=3.7.4.3 in /usr/local/lib/python3.7/dist-packages (from huggingface-hub<1.0,>=0.1.0->transformers) (4.2.0)\n",
            "Requirement already satisfied: pyparsing!=3.0.5,>=2.0.2 in /usr/local/lib/python3.7/dist-packages (from packaging>=20.0->transformers) (3.0.9)\n",
            "Requirement already satisfied: scikit-learn in /usr/local/lib/python3.7/dist-packages (from sklearn) (1.0.2)\n",
            "Requirement already satisfied: pytz>=2017.3 in /usr/local/lib/python3.7/dist-packages (from pandas) (2022.1)\n",
            "Requirement already satisfied: python-dateutil>=2.7.3 in /usr/local/lib/python3.7/dist-packages (from pandas) (2.8.2)\n",
            "Requirement already satisfied: six>=1.5 in /usr/local/lib/python3.7/dist-packages (from python-dateutil>=2.7.3->pandas) (1.15.0)\n",
            "Requirement already satisfied: cycler>=0.10 in /usr/local/lib/python3.7/dist-packages (from matplotlib) (0.11.0)\n",
            "Requirement already satisfied: kiwisolver>=1.0.1 in /usr/local/lib/python3.7/dist-packages (from matplotlib) (1.4.2)\n",
            "Requirement already satisfied: zipp>=0.5 in /usr/local/lib/python3.7/dist-packages (from importlib-metadata->transformers) (3.8.0)\n",
            "Requirement already satisfied: idna<3,>=2.5 in /usr/local/lib/python3.7/dist-packages (from requests->transformers) (2.10)\n",
            "Requirement already satisfied: certifi>=2017.4.17 in /usr/local/lib/python3.7/dist-packages (from requests->transformers) (2021.10.8)\n",
            "Requirement already satisfied: urllib3!=1.25.0,!=1.25.1,<1.26,>=1.21.1 in /usr/local/lib/python3.7/dist-packages (from requests->transformers) (1.24.3)\n",
            "Requirement already satisfied: chardet<4,>=3.0.2 in /usr/local/lib/python3.7/dist-packages (from requests->transformers) (3.0.4)\n",
            "Requirement already satisfied: joblib>=0.11 in /usr/local/lib/python3.7/dist-packages (from scikit-learn->sklearn) (1.1.0)\n",
            "Requirement already satisfied: scipy>=1.1.0 in /usr/local/lib/python3.7/dist-packages (from scikit-learn->sklearn) (1.4.1)\n",
            "Requirement already satisfied: threadpoolctl>=2.0.0 in /usr/local/lib/python3.7/dist-packages (from scikit-learn->sklearn) (3.1.0)\n",
            "Installing collected packages: pyyaml, tokenizers, huggingface-hub, transformers\n",
            "  Attempting uninstall: pyyaml\n",
            "    Found existing installation: PyYAML 3.13\n",
            "    Uninstalling PyYAML-3.13:\n",
            "      Successfully uninstalled PyYAML-3.13\n",
            "Successfully installed huggingface-hub-0.6.0 pyyaml-6.0 tokenizers-0.12.1 transformers-4.19.2\n"
          ]
        }
      ],
      "source": [
        "!pip install transformers sklearn pandas matplotlib\n"
      ]
    },
    {
      "cell_type": "code",
      "source": [
        "import os, re\n",
        "import numpy as np\n",
        "from time import time\n",
        "from sklearn.model_selection import train_test_split\n",
        "import pandas as pd\n",
        "from collections import Counter\n",
        "from string import punctuation\n",
        "import matplotlib.pyplot as plt\n",
        "%matplotlib inline\n",
        "\n",
        "\n",
        "import pandas as pd\n",
        "import tensorflow as tf\n",
        "\n",
        "from matplotlib import pyplot as plt\n",
        "from sklearn.model_selection import train_test_split\n",
        "from sklearn.linear_model import LogisticRegression\n",
        "from sklearn.metrics import classification_report\n",
        "from transformers import TFAutoModel\n",
        "from transformers import AutoTokenizer\n",
        "from tqdm.auto import tqdm"
      ],
      "metadata": {
        "id": "t-uerLCK88wg"
      },
      "execution_count": 2,
      "outputs": []
    },
    {
      "cell_type": "code",
      "source": [
        "data = pd.read_csv('lenta_sample.csv')\n",
        "data.topic.value_counts()"
      ],
      "metadata": {
        "colab": {
          "base_uri": "https://localhost:8080/"
        },
        "id": "_3Wbns6x9APy",
        "outputId": "91a34380-d5bc-40ab-ec3d-3104898b8f3e"
      },
      "execution_count": 3,
      "outputs": [
        {
          "output_type": "execute_result",
          "data": {
            "text/plain": [
              "Из жизни             55\n",
              "Наука и техника      54\n",
              "Бывший СССР          54\n",
              "Культура             53\n",
              "Ценности             45\n",
              "Дом                  45\n",
              "Бизнес               44\n",
              "Интернет и СМИ       44\n",
              "Силовые структуры    40\n",
              "Спорт                39\n",
              "Россия               32\n",
              "Экономика            32\n",
              "Мир                  27\n",
              "69-я параллель       13\n",
              "Легпром              13\n",
              "Библиотека           10\n",
              "Крым                  7\n",
              "Name: topic, dtype: int64"
            ]
          },
          "metadata": {},
          "execution_count": 3
        }
      ]
    },
    {
      "cell_type": "markdown",
      "source": [
        "# distilbert-base-ru-cased"
      ],
      "metadata": {
        "id": "paqa3KfbPTGY"
      }
    },
    {
      "cell_type": "code",
      "source": [
        "tokenizer = AutoTokenizer.from_pretrained('Geotrend/distilbert-base-ru-cased')\n",
        "model_distilbert_ru = TFAutoModel.from_pretrained('Geotrend/distilbert-base-ru-cased', trainable=True, from_pt=True)"
      ],
      "metadata": {
        "colab": {
          "base_uri": "https://localhost:8080/"
        },
        "id": "rbNSNwWS9C-B",
        "outputId": "fa3469fd-1a1b-4b54-bf54-31725bc30a46"
      },
      "execution_count": null,
      "outputs": [
        {
          "output_type": "stream",
          "name": "stderr",
          "text": [
            "Some weights of the PyTorch model were not used when initializing the TF 2.0 model TFDistilBertModel: ['vocab_projector.bias', 'vocab_transform.bias', 'vocab_projector.weight', 'vocab_layer_norm.bias', 'vocab_layer_norm.weight', 'vocab_transform.weight']\n",
            "- This IS expected if you are initializing TFDistilBertModel from a PyTorch model trained on another task or with another architecture (e.g. initializing a TFBertForSequenceClassification model from a BertForPreTraining model).\n",
            "- This IS NOT expected if you are initializing TFDistilBertModel from a PyTorch model that you expect to be exactly identical (e.g. initializing a TFBertForSequenceClassification model from a BertForSequenceClassification model).\n",
            "All the weights of TFDistilBertModel were initialized from the PyTorch model.\n",
            "If your task is similar to the task the model of the checkpoint was trained on, you can already use TFDistilBertModel for predictions without further training.\n"
          ]
        }
      ]
    },
    {
      "cell_type": "code",
      "source": [
        "X = []\n",
        "\n",
        "for text in data.title:\n",
        "    ids = tokenizer.encode(text)\n",
        "    \n",
        "    X.append(ids[:512])\n",
        "  \n",
        "X = tf.keras.preprocessing.sequence.pad_sequences(X, padding='post', maxlen=512)\n",
        "\n",
        "id2label = {i:label for i, label in enumerate(set(data.topic.values))}\n",
        "label2id = {l:i for i, l in id2label.items()}\n",
        "\n",
        "y = tf.keras.utils.to_categorical([label2id[label] for label in data.topic.values])"
      ],
      "metadata": {
        "id": "6c7mIshR9SZO"
      },
      "execution_count": null,
      "outputs": []
    },
    {
      "cell_type": "code",
      "source": [
        "train_index, valid_index = train_test_split(list(range(len(X))), test_size=0.05, stratify=data.topic, random_state=0)\n",
        "X_train, y_train = X[train_index], y[train_index]\n",
        "X_valid, y_valid = X[valid_index], y[valid_index]"
      ],
      "metadata": {
        "id": "WRr8AQI_9WAe"
      },
      "execution_count": null,
      "outputs": []
    },
    {
      "cell_type": "code",
      "source": [
        "input_word_ids = tf.keras.layers.Input(shape=(512,), dtype=tf.int32,\n",
        "                                     name=\"input_ids\")\n",
        "\n",
        "output = model_distilbert_ru({\"input_ids\":input_word_ids})\n",
        "drop = tf.keras.layers.Dropout(0.3)(output[0][:, 0]) \n",
        "dense = tf.keras.layers.Dense(y.shape[1], activation='softmax')(drop)\n",
        "\n",
        "model_clf = tf.keras.Model(inputs=input_word_ids, outputs=dense)\n",
        "\n",
        "\n",
        "model_clf.compile(tf.optimizers.Adam(learning_rate=2e-6,\n",
        "                                    ), \n",
        "                  loss='categorical_crossentropy', \n",
        "                  metrics=['accuracy', \n",
        "                           tf.keras.metrics.RecallAtPrecision(0.80, name='rec_prec')])"
      ],
      "metadata": {
        "id": "QfZon8DP9Yms"
      },
      "execution_count": null,
      "outputs": []
    },
    {
      "cell_type": "code",
      "source": [
        "model_clf.fit(X_train, y_train, \n",
        "          validation_data=(X_valid, y_valid),\n",
        "          batch_size=2,\n",
        "         epochs=20)\n"
      ],
      "metadata": {
        "colab": {
          "base_uri": "https://localhost:8080/"
        },
        "id": "0wF9iQVb9b1T",
        "outputId": "51eb23c4-3529-4452-ca2b-c2b0b989a77b"
      },
      "execution_count": null,
      "outputs": [
        {
          "output_type": "stream",
          "name": "stdout",
          "text": [
            "Epoch 1/20\n",
            "288/288 [==============================] - 53s 145ms/step - loss: 2.8222 - accuracy: 0.0642 - rec_prec: 0.0000e+00 - val_loss: 2.7409 - val_accuracy: 0.0645 - val_rec_prec: 0.0000e+00\n",
            "Epoch 2/20\n",
            "288/288 [==============================] - 39s 136ms/step - loss: 2.8002 - accuracy: 0.0781 - rec_prec: 0.0000e+00 - val_loss: 2.7085 - val_accuracy: 0.0968 - val_rec_prec: 0.0000e+00\n",
            "Epoch 3/20\n",
            "288/288 [==============================] - 40s 138ms/step - loss: 2.7526 - accuracy: 0.0764 - rec_prec: 0.0000e+00 - val_loss: 2.6856 - val_accuracy: 0.0968 - val_rec_prec: 0.0000e+00\n",
            "Epoch 4/20\n",
            "288/288 [==============================] - 40s 139ms/step - loss: 2.7374 - accuracy: 0.0903 - rec_prec: 0.0000e+00 - val_loss: 2.6824 - val_accuracy: 0.0323 - val_rec_prec: 0.0000e+00\n",
            "Epoch 5/20\n",
            "288/288 [==============================] - 40s 138ms/step - loss: 2.7431 - accuracy: 0.0781 - rec_prec: 0.0000e+00 - val_loss: 2.6774 - val_accuracy: 0.0968 - val_rec_prec: 0.0000e+00\n",
            "Epoch 6/20\n",
            "288/288 [==============================] - 40s 138ms/step - loss: 2.7258 - accuracy: 0.0885 - rec_prec: 0.0000e+00 - val_loss: 2.6549 - val_accuracy: 0.0968 - val_rec_prec: 0.0000e+00\n",
            "Epoch 7/20\n",
            "288/288 [==============================] - 40s 137ms/step - loss: 2.6657 - accuracy: 0.1094 - rec_prec: 0.0000e+00 - val_loss: 2.6104 - val_accuracy: 0.1613 - val_rec_prec: 0.0323\n",
            "Epoch 8/20\n",
            "288/288 [==============================] - 40s 137ms/step - loss: 2.5851 - accuracy: 0.1580 - rec_prec: 0.0104 - val_loss: 2.5587 - val_accuracy: 0.1935 - val_rec_prec: 0.0000e+00\n",
            "Epoch 9/20\n",
            "288/288 [==============================] - 40s 138ms/step - loss: 2.4950 - accuracy: 0.1997 - rec_prec: 0.0226 - val_loss: 2.4191 - val_accuracy: 0.3548 - val_rec_prec: 0.1935\n",
            "Epoch 10/20\n",
            "288/288 [==============================] - 40s 138ms/step - loss: 2.3244 - accuracy: 0.2795 - rec_prec: 0.0330 - val_loss: 2.2309 - val_accuracy: 0.2903 - val_rec_prec: 0.0968\n",
            "Epoch 11/20\n",
            "288/288 [==============================] - 40s 138ms/step - loss: 2.0873 - accuracy: 0.3351 - rec_prec: 0.0903 - val_loss: 2.0087 - val_accuracy: 0.4194 - val_rec_prec: 0.1613\n",
            "Epoch 12/20\n",
            "288/288 [==============================] - 40s 138ms/step - loss: 1.8248 - accuracy: 0.4340 - rec_prec: 0.1458 - val_loss: 1.9703 - val_accuracy: 0.4194 - val_rec_prec: 0.1613\n",
            "Epoch 13/20\n",
            "288/288 [==============================] - 40s 137ms/step - loss: 1.6601 - accuracy: 0.4861 - rec_prec: 0.2257 - val_loss: 1.8539 - val_accuracy: 0.4516 - val_rec_prec: 0.3226\n",
            "Epoch 14/20\n",
            "288/288 [==============================] - 40s 137ms/step - loss: 1.4543 - accuracy: 0.5660 - rec_prec: 0.2986 - val_loss: 1.7257 - val_accuracy: 0.4516 - val_rec_prec: 0.3226\n",
            "Epoch 15/20\n",
            "288/288 [==============================] - 40s 138ms/step - loss: 1.2678 - accuracy: 0.6076 - rec_prec: 0.4375 - val_loss: 1.6775 - val_accuracy: 0.5161 - val_rec_prec: 0.4194\n",
            "Epoch 16/20\n",
            "288/288 [==============================] - 40s 138ms/step - loss: 1.1036 - accuracy: 0.6892 - rec_prec: 0.5573 - val_loss: 1.6435 - val_accuracy: 0.4839 - val_rec_prec: 0.4516\n",
            "Epoch 17/20\n",
            "288/288 [==============================] - 40s 138ms/step - loss: 0.9978 - accuracy: 0.6910 - rec_prec: 0.5920 - val_loss: 1.6864 - val_accuracy: 0.5806 - val_rec_prec: 0.0968\n",
            "Epoch 18/20\n",
            "288/288 [==============================] - 40s 138ms/step - loss: 0.8668 - accuracy: 0.7431 - rec_prec: 0.7135 - val_loss: 1.6933 - val_accuracy: 0.5161 - val_rec_prec: 0.3226\n",
            "Epoch 19/20\n",
            "288/288 [==============================] - 40s 138ms/step - loss: 0.8119 - accuracy: 0.7500 - rec_prec: 0.6858 - val_loss: 1.6408 - val_accuracy: 0.5484 - val_rec_prec: 0.4194\n",
            "Epoch 20/20\n",
            "288/288 [==============================] - 40s 138ms/step - loss: 0.6951 - accuracy: 0.8177 - rec_prec: 0.8194 - val_loss: 1.6681 - val_accuracy: 0.5806 - val_rec_prec: 0.2903\n"
          ]
        },
        {
          "output_type": "execute_result",
          "data": {
            "text/plain": [
              "<keras.callbacks.History at 0x7fb3262f3ed0>"
            ]
          },
          "metadata": {},
          "execution_count": 8
        }
      ]
    },
    {
      "cell_type": "code",
      "source": [
        "print(model_clf.history.history.keys())\n",
        "plt.plot(model_clf.history.history['accuracy'])\n",
        "plt.plot(model_clf.history.history['val_accuracy'])\n",
        "plt.title('model rec_prec')\n",
        "plt.ylabel('rec_prec')\n",
        "plt.xlabel('epoch')\n",
        "plt.legend(['train', 'val'], loc='upper left')\n",
        "plt.show()\n"
      ],
      "metadata": {
        "colab": {
          "base_uri": "https://localhost:8080/",
          "height": 312
        },
        "id": "6jJca7BY9fOM",
        "outputId": "8f153724-8aa6-407e-eb24-044b6f65c4c6"
      },
      "execution_count": null,
      "outputs": [
        {
          "output_type": "stream",
          "name": "stdout",
          "text": [
            "dict_keys(['loss', 'accuracy', 'rec_prec', 'val_loss', 'val_accuracy', 'val_rec_prec'])\n"
          ]
        },
        {
          "output_type": "display_data",
          "data": {
            "text/plain": [
              "<Figure size 432x288 with 1 Axes>"
            ],
            "image/png": "[encoded data removed]"
          },
          "metadata": {
            "needs_background": "light"
          }
        }
      ]
    },
    {
      "cell_type": "code",
      "source": [
        "pred = model_clf.predict(X_valid, batch_size=5).argmax(1)\n",
        "print(classification_report(y_valid.argmax(1), pred, labels=list(range(len(label2id))),\n",
        "                            target_names=list(label2id), zero_division=0))"
      ],
      "metadata": {
        "colab": {
          "base_uri": "https://localhost:8080/"
        },
        "id": "lvUgyQOF9oZv",
        "outputId": "a165327c-d9ba-4dbb-d002-7759c88077b7"
      },
      "execution_count": null,
      "outputs": [
        {
          "output_type": "stream",
          "name": "stdout",
          "text": [
            "                   precision    recall  f1-score   support\n",
            "\n",
            "         Из жизни       0.33      0.33      0.33         3\n",
            "            Спорт       1.00      1.00      1.00         2\n",
            "              Дом       1.00      1.00      1.00         2\n",
            "             Крым       0.00      0.00      0.00         0\n",
            "   Интернет и СМИ       0.50      0.50      0.50         2\n",
            "   69-я параллель       0.00      0.00      0.00         1\n",
            "  Наука и техника       0.50      0.67      0.57         3\n",
            "       Библиотека       0.00      0.00      0.00         0\n",
            "        Экономика       1.00      0.50      0.67         2\n",
            "      Бывший СССР       0.67      0.67      0.67         3\n",
            "           Бизнес       0.67      1.00      0.80         2\n",
            "              Мир       0.00      0.00      0.00         1\n",
            "         Культура       0.75      1.00      0.86         3\n",
            "         Ценности       0.50      0.50      0.50         2\n",
            "Силовые структуры       0.50      0.50      0.50         2\n",
            "           Россия       0.00      0.00      0.00         2\n",
            "          Легпром       0.00      0.00      0.00         1\n",
            "\n",
            "        micro avg       0.58      0.58      0.58        31\n",
            "        macro avg       0.44      0.45      0.44        31\n",
            "     weighted avg       0.55      0.58      0.56        31\n",
            "\n"
          ]
        }
      ]
    },
    {
      "cell_type": "markdown",
      "source": [
        "## bert-base-multilingual-cased\n",
        "\n"
      ],
      "metadata": {
        "id": "QJodfkGtPcgd"
      }
    },
    {
      "cell_type": "code",
      "source": [
        "# Мультиязычный берт\n",
        "tokenizer = AutoTokenizer.from_pretrained('bert-base-multilingual-cased')\n",
        "cased_model = TFAutoModel.from_pretrained('bert-base-multilingual-cased')"
      ],
      "metadata": {
        "colab": {
          "base_uri": "https://localhost:8080/"
        },
        "id": "4sVOAPbU9-tL",
        "outputId": "a24b483f-ec1b-49b3-808b-92d781aa4a6d"
      },
      "execution_count": null,
      "outputs": [
        {
          "output_type": "stream",
          "name": "stderr",
          "text": [
            "Some layers from the model checkpoint at bert-base-multilingual-cased were not used when initializing TFBertModel: ['mlm___cls', 'nsp___cls']\n",
            "- This IS expected if you are initializing TFBertModel from the checkpoint of a model trained on another task or with another architecture (e.g. initializing a BertForSequenceClassification model from a BertForPreTraining model).\n",
            "- This IS NOT expected if you are initializing TFBertModel from the checkpoint of a model that you expect to be exactly identical (initializing a BertForSequenceClassification model from a BertForSequenceClassification model).\n",
            "All the layers of TFBertModel were initialized from the model checkpoint at bert-base-multilingual-cased.\n",
            "If your task is similar to the task the model of the checkpoint was trained on, you can already use TFBertModel for predictions without further training.\n"
          ]
        }
      ]
    },
    {
      "cell_type": "code",
      "source": [
        "X = []\n",
        "\n",
        "for text in data.title:\n",
        "    ids = tokenizer.encode(text)\n",
        "    \n",
        "    X.append(ids[:512])\n",
        "  \n",
        "X = tf.keras.preprocessing.sequence.pad_sequences(X, padding='post', maxlen=512)\n",
        "\n",
        "id2label = {i:label for i, label in enumerate(set(data.topic.values))}\n",
        "label2id = {l:i for i, l in id2label.items()}\n",
        "\n",
        "y = tf.keras.utils.to_categorical([label2id[label] for label in data.topic.values])"
      ],
      "metadata": {
        "id": "MIZBVf7P-fsJ"
      },
      "execution_count": null,
      "outputs": []
    },
    {
      "cell_type": "code",
      "source": [
        "train_index, valid_index = train_test_split(list(range(len(X))), test_size=0.05, stratify=data.topic, random_state=0)\n",
        "X_train, y_train = X[train_index], y[train_index]\n",
        "X_valid, y_valid = X[valid_index], y[valid_index]"
      ],
      "metadata": {
        "id": "M6j80a_4-li1"
      },
      "execution_count": null,
      "outputs": []
    },
    {
      "cell_type": "code",
      "source": [
        "input_word_ids = tf.keras.layers.Input(shape=(512,), dtype=tf.int32,\n",
        "                                     name=\"input_ids\")\n",
        "\n",
        "output = cased_model({\"input_ids\":input_word_ids})\n",
        "drop = tf.keras.layers.Dropout(0.3)(output[0][:, 0]) \n",
        "dense = tf.keras.layers.Dense(y.shape[1], activation='softmax')(drop)\n",
        "\n",
        "model_clf = tf.keras.Model(inputs=input_word_ids, outputs=dense)\n",
        "\n",
        "\n",
        "model_clf.compile(tf.optimizers.Adam(learning_rate=2e-6,\n",
        "                                    ), \n",
        "                  loss='categorical_crossentropy', \n",
        "                  metrics=['accuracy', \n",
        "                           tf.keras.metrics.RecallAtPrecision(0.80, name='rec_prec')])"
      ],
      "metadata": {
        "id": "TeomS5FT-r8X"
      },
      "execution_count": null,
      "outputs": []
    },
    {
      "cell_type": "code",
      "source": [
        "model_clf.fit(X_train, y_train, \n",
        "          validation_data=(X_valid, y_valid),\n",
        "          batch_size=2,\n",
        "         epochs=20)\n"
      ],
      "metadata": {
        "colab": {
          "base_uri": "https://localhost:8080/"
        },
        "id": "4YwSEc3e-1ws",
        "outputId": "bcc12bac-f954-4d96-b511-21ab7d5d024a"
      },
      "execution_count": null,
      "outputs": [
        {
          "output_type": "stream",
          "name": "stdout",
          "text": [
            "Epoch 1/20\n",
            "WARNING:tensorflow:Gradients do not exist for variables ['tf_bert_model/bert/pooler/dense/kernel:0', 'tf_bert_model/bert/pooler/dense/bias:0'] when minimizing the loss. If you're using `model.compile()`, did you forget to provide a `loss`argument?\n",
            "WARNING:tensorflow:Gradients do not exist for variables ['tf_bert_model/bert/pooler/dense/kernel:0', 'tf_bert_model/bert/pooler/dense/bias:0'] when minimizing the loss. If you're using `model.compile()`, did you forget to provide a `loss`argument?\n",
            "288/288 [==============================] - 101s 320ms/step - loss: 2.8834 - accuracy: 0.0712 - rec_prec: 0.0000e+00 - val_loss: 2.7872 - val_accuracy: 0.0968 - val_rec_prec: 0.0645\n",
            "Epoch 2/20\n",
            "288/288 [==============================] - 90s 311ms/step - loss: 2.7587 - accuracy: 0.0885 - rec_prec: 0.0000e+00 - val_loss: 2.5427 - val_accuracy: 0.2258 - val_rec_prec: 0.0000e+00\n",
            "Epoch 3/20\n",
            "288/288 [==============================] - 90s 311ms/step - loss: 2.6477 - accuracy: 0.1840 - rec_prec: 0.0017 - val_loss: 2.2613 - val_accuracy: 0.2903 - val_rec_prec: 0.0968\n",
            "Epoch 4/20\n",
            "288/288 [==============================] - 89s 311ms/step - loss: 2.3697 - accuracy: 0.2969 - rec_prec: 0.0174 - val_loss: 1.9419 - val_accuracy: 0.5484 - val_rec_prec: 0.2903\n",
            "Epoch 5/20\n",
            "288/288 [==============================] - 89s 311ms/step - loss: 1.9391 - accuracy: 0.4115 - rec_prec: 0.0833 - val_loss: 1.5435 - val_accuracy: 0.5484 - val_rec_prec: 0.2581\n",
            "Epoch 6/20\n",
            "288/288 [==============================] - 89s 310ms/step - loss: 1.5793 - accuracy: 0.5122 - rec_prec: 0.2135 - val_loss: 1.3932 - val_accuracy: 0.5484 - val_rec_prec: 0.2581\n",
            "Epoch 7/20\n",
            "288/288 [==============================] - 89s 310ms/step - loss: 1.3211 - accuracy: 0.6024 - rec_prec: 0.3194 - val_loss: 1.3822 - val_accuracy: 0.4516 - val_rec_prec: 0.3548\n",
            "Epoch 8/20\n",
            "288/288 [==============================] - 89s 310ms/step - loss: 1.1275 - accuracy: 0.6372 - rec_prec: 0.4878 - val_loss: 1.2920 - val_accuracy: 0.5161 - val_rec_prec: 0.4194\n",
            "Epoch 9/20\n",
            "288/288 [==============================] - 89s 310ms/step - loss: 0.9470 - accuracy: 0.7292 - rec_prec: 0.6250 - val_loss: 1.3804 - val_accuracy: 0.6129 - val_rec_prec: 0.4194\n",
            "Epoch 10/20\n",
            "288/288 [==============================] - 89s 310ms/step - loss: 0.7897 - accuracy: 0.7344 - rec_prec: 0.6788 - val_loss: 1.3666 - val_accuracy: 0.5806 - val_rec_prec: 0.3871\n",
            "Epoch 11/20\n",
            "288/288 [==============================] - 89s 310ms/step - loss: 0.6528 - accuracy: 0.8056 - rec_prec: 0.8073 - val_loss: 1.3414 - val_accuracy: 0.5806 - val_rec_prec: 0.4516\n",
            "Epoch 12/20\n",
            "288/288 [==============================] - 89s 310ms/step - loss: 0.5109 - accuracy: 0.8507 - rec_prec: 0.8889 - val_loss: 1.3258 - val_accuracy: 0.5484 - val_rec_prec: 0.3871\n",
            "Epoch 13/20\n",
            "288/288 [==============================] - 89s 310ms/step - loss: 0.4381 - accuracy: 0.8715 - rec_prec: 0.9132 - val_loss: 1.3924 - val_accuracy: 0.4839 - val_rec_prec: 0.4516\n",
            "Epoch 14/20\n",
            "288/288 [==============================] - 90s 311ms/step - loss: 0.3841 - accuracy: 0.8993 - rec_prec: 0.9427 - val_loss: 1.3794 - val_accuracy: 0.5161 - val_rec_prec: 0.4839\n",
            "Epoch 15/20\n",
            "288/288 [==============================] - 89s 310ms/step - loss: 0.3099 - accuracy: 0.9219 - rec_prec: 0.9670 - val_loss: 1.3536 - val_accuracy: 0.6129 - val_rec_prec: 0.4516\n",
            "Epoch 16/20\n",
            "288/288 [==============================] - 89s 311ms/step - loss: 0.2659 - accuracy: 0.9323 - rec_prec: 0.9792 - val_loss: 1.5179 - val_accuracy: 0.5484 - val_rec_prec: 0.4194\n",
            "Epoch 17/20\n",
            "288/288 [==============================] - 89s 310ms/step - loss: 0.2172 - accuracy: 0.9462 - rec_prec: 0.9896 - val_loss: 1.4688 - val_accuracy: 0.5484 - val_rec_prec: 0.4194\n",
            "Epoch 18/20\n",
            "288/288 [==============================] - 89s 310ms/step - loss: 0.1940 - accuracy: 0.9479 - rec_prec: 0.9896 - val_loss: 1.5046 - val_accuracy: 0.6129 - val_rec_prec: 0.3871\n",
            "Epoch 19/20\n",
            "288/288 [==============================] - 89s 311ms/step - loss: 0.1403 - accuracy: 0.9774 - rec_prec: 0.9983 - val_loss: 1.3675 - val_accuracy: 0.5484 - val_rec_prec: 0.3871\n",
            "Epoch 20/20\n",
            "288/288 [==============================] - 89s 310ms/step - loss: 0.1189 - accuracy: 0.9809 - rec_prec: 0.9983 - val_loss: 1.5159 - val_accuracy: 0.5161 - val_rec_prec: 0.4194\n"
          ]
        },
        {
          "output_type": "execute_result",
          "data": {
            "text/plain": [
              "<keras.callbacks.History at 0x7fb2e40b80d0>"
            ]
          },
          "metadata": {},
          "execution_count": 16
        }
      ]
    },
    {
      "cell_type": "code",
      "source": [
        "print(model_clf.history.history.keys())\n",
        "plt.plot(model_clf.history.history['accuracy'])\n",
        "plt.plot(model_clf.history.history['val_accuracy'])\n",
        "plt.title('model rec_prec')\n",
        "plt.ylabel('rec_prec')\n",
        "plt.xlabel('epoch')\n",
        "plt.legend(['train', 'val'], loc='upper left')\n",
        "plt.show()\n"
      ],
      "metadata": {
        "id": "jpOZrMC2-5sm",
        "colab": {
          "base_uri": "https://localhost:8080/",
          "height": 312
        },
        "outputId": "9622525e-650d-446c-8bad-7cc0f0e6ee3e"
      },
      "execution_count": null,
      "outputs": [
        {
          "output_type": "stream",
          "name": "stdout",
          "text": [
            "dict_keys(['loss', 'accuracy', 'rec_prec', 'val_loss', 'val_accuracy', 'val_rec_prec'])\n"
          ]
        },
        {
          "output_type": "display_data",
          "data": {
            "text/plain": [
              "<Figure size 432x288 with 1 Axes>"
            ],
            "image/png": "[encoded data removed]"
          },
          "metadata": {
            "needs_background": "light"
          }
        }
      ]
    },
    {
      "cell_type": "code",
      "source": [
        "pred = model_clf.predict(X_valid, batch_size=5).argmax(1)\n",
        "print(classification_report(y_valid.argmax(1), pred, labels=list(range(len(label2id))),\n",
        "                            target_names=list(label2id), zero_division=0))"
      ],
      "metadata": {
        "id": "q918SKKK_ABr",
        "colab": {
          "base_uri": "https://localhost:8080/"
        },
        "outputId": "6e7ce5eb-1ab2-46cd-d8e3-c4c8940d2c48"
      },
      "execution_count": null,
      "outputs": [
        {
          "output_type": "stream",
          "name": "stdout",
          "text": [
            "                   precision    recall  f1-score   support\n",
            "\n",
            "         Из жизни       0.50      1.00      0.67         3\n",
            "            Спорт       1.00      1.00      1.00         2\n",
            "              Дом       1.00      1.00      1.00         2\n",
            "             Крым       0.00      0.00      0.00         0\n",
            "   Интернет и СМИ       0.00      0.00      0.00         2\n",
            "   69-я параллель       0.00      0.00      0.00         1\n",
            "  Наука и техника       0.40      0.67      0.50         3\n",
            "       Библиотека       0.00      0.00      0.00         0\n",
            "        Экономика       1.00      0.50      0.67         2\n",
            "      Бывший СССР       0.50      0.67      0.57         3\n",
            "           Бизнес       0.50      1.00      0.67         2\n",
            "              Мир       0.00      0.00      0.00         1\n",
            "         Культура       0.67      0.67      0.67         3\n",
            "         Ценности       0.00      0.00      0.00         2\n",
            "Силовые структуры       0.00      0.00      0.00         2\n",
            "           Россия       0.00      0.00      0.00         2\n",
            "          Легпром       0.00      0.00      0.00         1\n",
            "\n",
            "        micro avg       0.52      0.52      0.52        31\n",
            "        macro avg       0.33      0.38      0.34        31\n",
            "     weighted avg       0.43      0.52      0.45        31\n",
            "\n"
          ]
        }
      ]
    },
    {
      "cell_type": "markdown",
      "source": [
        "## LaBSE-en-ru"
      ],
      "metadata": {
        "id": "Yq4z8NyVPmGp"
      }
    },
    {
      "cell_type": "code",
      "source": [
        "\n",
        "tokenizer = AutoTokenizer.from_pretrained(\"cointegrated/LaBSE-en-ru\")\n",
        "bse_model = TFAutoModel.from_pretrained(\"cointegrated/LaBSE-en-ru\", trainable=True, from_pt=True)\n",
        "\n"
      ],
      "metadata": {
        "id": "dWmT5XlL_Edy",
        "colab": {
          "base_uri": "https://localhost:8080/",
          "height": 284,
          "referenced_widgets": [
            "b660832a537c478c8b9c740864ed364c",
            "8d7f2b9384c94bbd8d36ced769e91239",
            "944816da94db4fc7b88fa26ea995ea25",
            "2d8704cbc213446181842bce945693dd",
            "8c56b5d9eff64d2591fb1b7a2a4d0ad3",
            "4eb29c0ab71a4ef2825be12bfc6903b4",
            "42ef3f48ba1b4c8c826f90f27b5aa1ae",
            "a8ae828f1d714fb3ab1ee57d86cfb0fb",
            "f704bbc5afab45888de3584e13857594",
            "24198b7a0fce495398300bd5067fbb30",
            "d72b2073bbd648959cd650050e36e8c5",
            "4a62a3a889f744e49a4ca08eba519c10",
            "b2dd36f76adf43f99cee432ecac00a81",
            "23fa94cb096c4033b0f7acc2bdf7dc48",
            "77f696b7b4ce4046bf30ddfd9e4acd1a",
            "d834d72049754bbdabe6e386bccaddcf",
            "e3ae3888465b437abf8be4185ed65818",
            "1451bdacf0ac4763bea82f51a956d65e",
            "1b5c4178e6f443988e5c1d5065005805",
            "79d24c4ab384434097d34f80ea2c0fdc",
            "b5fe096163f14cc6b80370fa726718be",
            "0dd13a865231484baa7407eaeac949f1",
            "e5b01613de1248a497c45d793730b747",
            "7d715eaa8f754a6582b86576d785dc08",
            "2496fbd1666b4fc19be26ef89b855752",
            "7fcdc2f3d9a24db1a2f95d09b2297149",
            "057d2497a19d442bb0d9b7c96d5daeb4",
            "f3f6e40fae884beea5f14b196c1c7ebe",
            "083510beb4274fffb1119d589117ea85",
            "ee086c2e88e04e809c933694248e6b1f",
            "012dde88684548e48456c1a270094542",
            "30467e543e7247f780818c7c318bb3bd",
            "ee1ac0bd0abf4c8fb63eb3709d20c609",
            "c3a03d9902bd4e0a85e3a5c71dd0c560",
            "650c61ad4b8b458ca10b9fc7f6429f7f",
            "ef3b65c5225c4efbaa3edda829f83daf",
            "f086c17071ae494c80723e27c836066a",
            "6f2f5c5bf13a499da7dfa4f00f1f0130",
            "ca491830e6fe4d089a78a3648256e123",
            "8f5d879e78eb40eea31ca509b178df19",
            "a7baa23531b5483f8141565f18047502",
            "041e2208e76d49028f036ba02287b565",
            "8b0ae00dd04c4304ab157661057d7f5a",
            "5bf9245a89154440bdeee498e1cc4d35",
            "f5610646d83848afa355672f7564715d",
            "485dd8db90694544bcda4f20b118536e",
            "89dc1229d0794642bea28a12e2689c05",
            "be3211238b104493ae40b48bb5c90c4c",
            "e5edff2bb2594e67839dad8a11ca9629",
            "2f6e17a70c874b24a5667ae0c22febd3",
            "43ce4974b5dc41eda3283e042b05b8c1",
            "043587e874174762a0cb238305b9b8ae",
            "1b275312c0a84cd3bac0c9362834e4ac",
            "3c1eecdffc794864a8f8537647b0711d",
            "dd4cb33675c34282aee0c6108d8e02cc"
          ]
        },
        "outputId": "7bbeb18f-8115-4a8d-ba40-a726d61afd84"
      },
      "execution_count": 4,
      "outputs": [
        {
          "output_type": "display_data",
          "data": {
            "text/plain": [
              "Downloading:   0%|          | 0.00/49.0 [00:00<?, ?B/s]"
            ],
            "application/vnd.jupyter.widget-view+json": {
              "version_major": 2,
              "version_minor": 0,
              "model_id": "b660832a537c478c8b9c740864ed364c"
            }
          },
          "metadata": {}
        },
        {
          "output_type": "display_data",
          "data": {
            "text/plain": [
              "Downloading:   0%|          | 0.00/806 [00:00<?, ?B/s]"
            ],
            "application/vnd.jupyter.widget-view+json": {
              "version_major": 2,
              "version_minor": 0,
              "model_id": "4a62a3a889f744e49a4ca08eba519c10"
            }
          },
          "metadata": {}
        },
        {
          "output_type": "display_data",
          "data": {
            "text/plain": [
              "Downloading:   0%|          | 0.00/509k [00:00<?, ?B/s]"
            ],
            "application/vnd.jupyter.widget-view+json": {
              "version_major": 2,
              "version_minor": 0,
              "model_id": "e5b01613de1248a497c45d793730b747"
            }
          },
          "metadata": {}
        },
        {
          "output_type": "display_data",
          "data": {
            "text/plain": [
              "Downloading:   0%|          | 0.00/112 [00:00<?, ?B/s]"
            ],
            "application/vnd.jupyter.widget-view+json": {
              "version_major": 2,
              "version_minor": 0,
              "model_id": "c3a03d9902bd4e0a85e3a5c71dd0c560"
            }
          },
          "metadata": {}
        },
        {
          "output_type": "display_data",
          "data": {
            "text/plain": [
              "Downloading:   0%|          | 0.00/492M [00:00<?, ?B/s]"
            ],
            "application/vnd.jupyter.widget-view+json": {
              "version_major": 2,
              "version_minor": 0,
              "model_id": "f5610646d83848afa355672f7564715d"
            }
          },
          "metadata": {}
        },
        {
          "output_type": "stream",
          "name": "stderr",
          "text": [
            "Some weights of the PyTorch model were not used when initializing the TF 2.0 model TFBertModel: ['cls.predictions.transform.LayerNorm.weight', 'cls.predictions.decoder.bias', 'cls.seq_relationship.bias', 'bert.embeddings.position_ids', 'cls.predictions.transform.LayerNorm.bias', 'cls.predictions.decoder.weight', 'cls.predictions.bias', 'cls.predictions.transform.dense.weight', 'cls.predictions.transform.dense.bias', 'cls.seq_relationship.weight']\n",
            "- This IS expected if you are initializing TFBertModel from a PyTorch model trained on another task or with another architecture (e.g. initializing a TFBertForSequenceClassification model from a BertForPreTraining model).\n",
            "- This IS NOT expected if you are initializing TFBertModel from a PyTorch model that you expect to be exactly identical (e.g. initializing a TFBertForSequenceClassification model from a BertForSequenceClassification model).\n",
            "All the weights of TFBertModel were initialized from the PyTorch model.\n",
            "If your task is similar to the task the model of the checkpoint was trained on, you can already use TFBertModel for predictions without further training.\n"
          ]
        }
      ]
    },
    {
      "cell_type": "code",
      "source": [
        "X = []\n",
        "\n",
        "for text in data.title:\n",
        "    ids = tokenizer.encode(text)\n",
        "    \n",
        "    X.append(ids[:512])\n",
        "  \n",
        "X = tf.keras.preprocessing.sequence.pad_sequences(X, padding='post', maxlen=512)\n",
        "\n",
        "id2label = {i:label for i, label in enumerate(set(data.topic.values))}\n",
        "label2id = {l:i for i, l in id2label.items()}\n",
        "\n",
        "y = tf.keras.utils.to_categorical([label2id[label] for label in data.topic.values])"
      ],
      "metadata": {
        "id": "4WRB1ejbAEhT"
      },
      "execution_count": 5,
      "outputs": []
    },
    {
      "cell_type": "code",
      "source": [
        "train_index, valid_index = train_test_split(list(range(len(X))), test_size=0.05, stratify=data.topic, random_state=0)\n",
        "X_train, y_train = X[train_index], y[train_index]\n",
        "X_valid, y_valid = X[valid_index], y[valid_index]"
      ],
      "metadata": {
        "id": "M8Te2PboAKXH"
      },
      "execution_count": 6,
      "outputs": []
    },
    {
      "cell_type": "code",
      "source": [
        "input_word_ids = tf.keras.layers.Input(shape=(512,), dtype=tf.int32,\n",
        "                                     name=\"input_ids\")\n",
        "\n",
        "output = bse_model({\"input_ids\":input_word_ids})\n",
        "drop = tf.keras.layers.Dropout(0.3)(output[0][:, 0]) \n",
        "dense = tf.keras.layers.Dense(y.shape[1], activation='softmax')(drop)\n",
        "\n",
        "model_clf = tf.keras.Model(inputs=input_word_ids, outputs=dense)\n",
        "\n",
        "\n",
        "model_clf.compile(tf.optimizers.Adam(learning_rate=2e-6,\n",
        "                                    ), \n",
        "                  loss='categorical_crossentropy', \n",
        "                  metrics=['accuracy', \n",
        "                           tf.keras.metrics.RecallAtPrecision(0.80, name='rec_prec')])"
      ],
      "metadata": {
        "id": "MlymMpKcANDE"
      },
      "execution_count": 7,
      "outputs": []
    },
    {
      "cell_type": "code",
      "source": [
        "model_clf.fit(X_train, y_train, \n",
        "          validation_data=(X_valid, y_valid),\n",
        "          batch_size=2,\n",
        "         epochs=20)"
      ],
      "metadata": {
        "id": "2-Zl0ej2AVku",
        "colab": {
          "base_uri": "https://localhost:8080/"
        },
        "outputId": "daa244f1-c260-45dc-d9f4-892bbcb9015b"
      },
      "execution_count": 8,
      "outputs": [
        {
          "output_type": "stream",
          "name": "stdout",
          "text": [
            "Epoch 1/20\n",
            "WARNING:tensorflow:Gradients do not exist for variables ['tf_bert_model/bert/pooler/dense/kernel:0', 'tf_bert_model/bert/pooler/dense/bias:0'] when minimizing the loss. If you're using `model.compile()`, did you forget to provide a `loss`argument?\n",
            "WARNING:tensorflow:Gradients do not exist for variables ['tf_bert_model/bert/pooler/dense/kernel:0', 'tf_bert_model/bert/pooler/dense/bias:0'] when minimizing the loss. If you're using `model.compile()`, did you forget to provide a `loss`argument?\n",
            "288/288 [==============================] - 94s 289ms/step - loss: 2.8645 - accuracy: 0.0851 - rec_prec: 0.0000e+00 - val_loss: 2.6412 - val_accuracy: 0.1935 - val_rec_prec: 0.0000e+00\n",
            "Epoch 2/20\n",
            "288/288 [==============================] - 82s 285ms/step - loss: 2.6654 - accuracy: 0.1615 - rec_prec: 0.0017 - val_loss: 2.3873 - val_accuracy: 0.3226 - val_rec_prec: 0.0323\n",
            "Epoch 3/20\n",
            "288/288 [==============================] - 82s 285ms/step - loss: 2.3031 - accuracy: 0.2951 - rec_prec: 0.0278 - val_loss: 1.8571 - val_accuracy: 0.5484 - val_rec_prec: 0.1935\n",
            "Epoch 4/20\n",
            "288/288 [==============================] - 82s 285ms/step - loss: 1.8917 - accuracy: 0.4236 - rec_prec: 0.1181 - val_loss: 1.5714 - val_accuracy: 0.5161 - val_rec_prec: 0.2581\n",
            "Epoch 5/20\n",
            "288/288 [==============================] - 82s 285ms/step - loss: 1.5034 - accuracy: 0.5469 - rec_prec: 0.3247 - val_loss: 1.3914 - val_accuracy: 0.4839 - val_rec_prec: 0.1613\n",
            "Epoch 6/20\n",
            "288/288 [==============================] - 82s 285ms/step - loss: 1.2964 - accuracy: 0.6094 - rec_prec: 0.4514 - val_loss: 1.3239 - val_accuracy: 0.4839 - val_rec_prec: 0.4194\n",
            "Epoch 7/20\n",
            "288/288 [==============================] - 82s 285ms/step - loss: 1.1177 - accuracy: 0.6337 - rec_prec: 0.4722 - val_loss: 1.3616 - val_accuracy: 0.5484 - val_rec_prec: 0.3871\n",
            "Epoch 8/20\n",
            "288/288 [==============================] - 82s 285ms/step - loss: 0.9460 - accuracy: 0.7014 - rec_prec: 0.6233 - val_loss: 1.3307 - val_accuracy: 0.5484 - val_rec_prec: 0.5161\n",
            "Epoch 9/20\n",
            "288/288 [==============================] - 82s 285ms/step - loss: 0.8366 - accuracy: 0.7257 - rec_prec: 0.6771 - val_loss: 1.1961 - val_accuracy: 0.5806 - val_rec_prec: 0.3871\n",
            "Epoch 10/20\n",
            "288/288 [==============================] - 82s 284ms/step - loss: 0.7436 - accuracy: 0.7708 - rec_prec: 0.7587 - val_loss: 1.1932 - val_accuracy: 0.6774 - val_rec_prec: 0.5806\n",
            "Epoch 11/20\n",
            "288/288 [==============================] - 82s 285ms/step - loss: 0.5961 - accuracy: 0.7951 - rec_prec: 0.8056 - val_loss: 1.2308 - val_accuracy: 0.6129 - val_rec_prec: 0.4839\n",
            "Epoch 12/20\n",
            "288/288 [==============================] - 82s 285ms/step - loss: 0.4945 - accuracy: 0.8299 - rec_prec: 0.8819 - val_loss: 1.1668 - val_accuracy: 0.6774 - val_rec_prec: 0.5161\n",
            "Epoch 13/20\n",
            "288/288 [==============================] - 82s 285ms/step - loss: 0.4530 - accuracy: 0.8663 - rec_prec: 0.9115 - val_loss: 1.1086 - val_accuracy: 0.6774 - val_rec_prec: 0.6774\n",
            "Epoch 14/20\n",
            "288/288 [==============================] - 82s 285ms/step - loss: 0.3784 - accuracy: 0.8819 - rec_prec: 0.9323 - val_loss: 1.2275 - val_accuracy: 0.6129 - val_rec_prec: 0.6129\n",
            "Epoch 15/20\n",
            "288/288 [==============================] - 82s 285ms/step - loss: 0.2806 - accuracy: 0.9184 - rec_prec: 0.9688 - val_loss: 1.2935 - val_accuracy: 0.6129 - val_rec_prec: 0.5161\n",
            "Epoch 16/20\n",
            "288/288 [==============================] - 82s 284ms/step - loss: 0.2531 - accuracy: 0.9323 - rec_prec: 0.9774 - val_loss: 1.2149 - val_accuracy: 0.6774 - val_rec_prec: 0.6774\n",
            "Epoch 17/20\n",
            "288/288 [==============================] - 82s 284ms/step - loss: 0.1886 - accuracy: 0.9462 - rec_prec: 0.9983 - val_loss: 1.2209 - val_accuracy: 0.7097 - val_rec_prec: 0.6129\n",
            "Epoch 18/20\n",
            "288/288 [==============================] - 82s 284ms/step - loss: 0.1896 - accuracy: 0.9444 - rec_prec: 0.9896 - val_loss: 1.2599 - val_accuracy: 0.7097 - val_rec_prec: 0.6774\n",
            "Epoch 19/20\n",
            "288/288 [==============================] - 82s 285ms/step - loss: 0.1119 - accuracy: 0.9792 - rec_prec: 1.0000 - val_loss: 1.3703 - val_accuracy: 0.6774 - val_rec_prec: 0.5161\n",
            "Epoch 20/20\n",
            "288/288 [==============================] - 82s 285ms/step - loss: 0.1218 - accuracy: 0.9705 - rec_prec: 0.9948 - val_loss: 1.2628 - val_accuracy: 0.6452 - val_rec_prec: 0.5161\n"
          ]
        },
        {
          "output_type": "execute_result",
          "data": {
            "text/plain": [
              "<keras.callbacks.History at 0x7fe16e0613d0>"
            ]
          },
          "metadata": {},
          "execution_count": 8
        }
      ]
    },
    {
      "cell_type": "code",
      "source": [
        "print(model_clf.history.history.keys())\n",
        "plt.plot(model_clf.history.history['accuracy'])\n",
        "plt.plot(model_clf.history.history['val_accuracy'])\n",
        "plt.title('model rec_prec')\n",
        "plt.ylabel('rec_prec')\n",
        "plt.xlabel('epoch')\n",
        "plt.legend(['train', 'val'], loc='upper left')\n",
        "plt.show()"
      ],
      "metadata": {
        "id": "pc1lrB8FAPiB",
        "colab": {
          "base_uri": "https://localhost:8080/",
          "height": 312
        },
        "outputId": "94a35d0a-f560-4412-e62f-0085fd5227bc"
      },
      "execution_count": 9,
      "outputs": [
        {
          "output_type": "stream",
          "name": "stdout",
          "text": [
            "dict_keys(['loss', 'accuracy', 'rec_prec', 'val_loss', 'val_accuracy', 'val_rec_prec'])\n"
          ]
        },
        {
          "output_type": "display_data",
          "data": {
            "text/plain": [
              "<Figure size 432x288 with 1 Axes>"
            ],
            "image/png": "[encoded data removed]"
          },
          "metadata": {
            "needs_background": "light"
          }
        }
      ]
    },
    {
      "cell_type": "code",
      "source": [
        "pred = model_clf.predict(X_valid, batch_size=5).argmax(1)\n",
        "print(classification_report(y_valid.argmax(1), pred, labels=list(range(len(label2id))),\n",
        "                            target_names=list(label2id), zero_division=0))"
      ],
      "metadata": {
        "id": "4JA8y4M4AgSl",
        "colab": {
          "base_uri": "https://localhost:8080/"
        },
        "outputId": "59152150-e070-492e-acb3-1c8dcf17521e"
      },
      "execution_count": 10,
      "outputs": [
        {
          "output_type": "stream",
          "name": "stdout",
          "text": [
            "                   precision    recall  f1-score   support\n",
            "\n",
            "   Интернет и СМИ       0.00      0.00      0.00         2\n",
            "            Спорт       1.00      1.00      1.00         2\n",
            "       Библиотека       0.00      0.00      0.00         0\n",
            "  Наука и техника       1.00      1.00      1.00         3\n",
            "        Экономика       0.00      0.00      0.00         2\n",
            "         Культура       0.67      0.67      0.67         3\n",
            "Силовые структуры       0.67      1.00      0.80         2\n",
            "              Мир       0.00      0.00      0.00         1\n",
            "              Дом       1.00      1.00      1.00         2\n",
            "           Бизнес       0.33      0.50      0.40         2\n",
            "         Ценности       0.50      0.50      0.50         2\n",
            "   69-я параллель       0.00      0.00      0.00         1\n",
            "             Крым       0.00      0.00      0.00         0\n",
            "          Легпром       1.00      1.00      1.00         1\n",
            "           Россия       1.00      0.50      0.67         2\n",
            "         Из жизни       0.67      0.67      0.67         3\n",
            "      Бывший СССР       0.60      1.00      0.75         3\n",
            "\n",
            "        micro avg       0.65      0.65      0.65        31\n",
            "        macro avg       0.50      0.52      0.50        31\n",
            "     weighted avg       0.61      0.65      0.61        31\n",
            "\n"
          ]
        }
      ]
    },
    {
      "cell_type": "markdown",
      "source": [
        "Лучшие результаты у LaBSE-en-ru"
      ],
      "metadata": {
        "id": "mV1PCUWvivIR"
      }
    },
    {
      "cell_type": "markdown",
      "source": [
        "# Задание 2 (2 балла)\n",
        "Ответьте на следующие вопросы (напишите хотя бы по несколько предложений):\n",
        " 1) Чем ROBERTA отличается от BERT? В какой статье описана ROBERTA?\n",
        " 2) Чем модель T5 отличается от ROBERTA/BERT?"
      ],
      "metadata": {
        "id": "jaUFzatKO_W9"
      }
    },
    {
      "cell_type": "markdown",
      "source": [
        "\n",
        "1) Чем ROBERTA отличается от BERT? В какой статье описана ROBERTA?\n",
        "\n",
        "Статья: [A Robustly Optimized BERT Pretraining Approach](https://arxiv.org/pdf/1907.11692.pdf)\n",
        "ROBERTA -- оптимизированный вариант BERT. \n",
        "ROBERTA обучается на большем количестве данных(16GB vs 160GB) и обучается дольше.\n",
        "токенизация: RoBERTa: byte-level BPE; BERT: character-level BPE\n",
        "Чтобы улучшить процедуру обучения, RoBERTa удаляет задачу «Предсказание следующего предложения» (NSP) из предварительной подготовки BERT и вводит динамическое маскирование, чтобы замаскированный токен изменялся в эпоху обучения.\n",
        "\n",
        "\n",
        "2) Чем модель T5 отличается от ROBERTA/BERT?\n",
        "\n",
        "\n",
        "T5 = Text-to-Text Transfer Transformer:\n",
        "умеет не только понимать, но и генерировать тексты\n",
        "построена как encoder-decoder, тогда как у BERT только encoder: каждая задача, включая перевод, ответы на вопросы и классификацию, представляет собой подачу текста в качестве входных данных и обучение созданию некоторого целевого текста. Это позволяет использовать одну и ту же модель, функцию потерь, гиперпараметры и т. д. в нашем разнообразном наборе задач.\n"
      ],
      "metadata": {
        "id": "PqfFEnUoAkOS"
      }
    }
  ]
}