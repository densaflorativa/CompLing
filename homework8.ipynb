{
  "cells": [
    {
      "cell_type": "markdown",
      "id": "1bf6f873",
      "metadata": {
        "id": "1bf6f873"
      },
      "source": [
        "# Домашнее задание № 8"
      ]
    },
    {
      "cell_type": "markdown",
      "id": "3b4bd487",
      "metadata": {
        "id": "3b4bd487"
      },
      "source": [
        "## Задание 1 (4 балла) "
      ]
    },
    {
      "cell_type": "markdown",
      "id": "bf4c4f87",
      "metadata": {
        "id": "bf4c4f87"
      },
      "source": [
        "Обучите 8 моделей для задачи классификации текста (датасет - lenta_40k ). А именно:  \n",
        "1) модель с 1 GRU слоем;   \n",
        "2) модель с 1 LSTM слоем    \n",
        "3) модель с 1 GRU и 1 LSTM слоем  \n",
        "4) модель с 1 BIGRU и 2 LSTM слоями  \n",
        "5) модель с 5 GRU слоями и 3 LSTM слоями  \n",
        "6) модель 1 BIGRU и 1 BILSTM слоями, причем так чтобы модели для forward и backward прохода отличались   \n",
        "7) модель, где последовательно идут слои: LSTM, GRU, BILSTM, BIGRU, GRU, LSTM  \n",
        "\n",
        "\n",
        "\n",
        "Параметр units и размер эмбединга можете задать любой. Оцените качество каждой модели и определите победителя."
      ]
    },
    {
      "cell_type": "code",
      "execution_count": 1,
      "id": "83db6635",
      "metadata": {
        "id": "83db6635",
        "colab": {
          "base_uri": "https://localhost:8080/"
        },
        "outputId": "63876985-24d7-44a3-a124-b678fed39227"
      },
      "outputs": [
        {
          "output_type": "stream",
          "name": "stdout",
          "text": [
            "Requirement already satisfied: pandas in /usr/local/lib/python3.7/dist-packages (1.3.5)\n",
            "Requirement already satisfied: scikit-learn in /usr/local/lib/python3.7/dist-packages (1.0.2)\n",
            "Requirement already satisfied: matplotlib in /usr/local/lib/python3.7/dist-packages (3.2.2)\n",
            "Requirement already satisfied: python-dateutil>=2.7.3 in /usr/local/lib/python3.7/dist-packages (from pandas) (2.8.2)\n",
            "Requirement already satisfied: numpy>=1.17.3 in /usr/local/lib/python3.7/dist-packages (from pandas) (1.21.6)\n",
            "Requirement already satisfied: pytz>=2017.3 in /usr/local/lib/python3.7/dist-packages (from pandas) (2022.1)\n",
            "Requirement already satisfied: six>=1.5 in /usr/local/lib/python3.7/dist-packages (from python-dateutil>=2.7.3->pandas) (1.15.0)\n",
            "Requirement already satisfied: threadpoolctl>=2.0.0 in /usr/local/lib/python3.7/dist-packages (from scikit-learn) (3.1.0)\n",
            "Requirement already satisfied: scipy>=1.1.0 in /usr/local/lib/python3.7/dist-packages (from scikit-learn) (1.4.1)\n",
            "Requirement already satisfied: joblib>=0.11 in /usr/local/lib/python3.7/dist-packages (from scikit-learn) (1.1.0)\n",
            "Requirement already satisfied: kiwisolver>=1.0.1 in /usr/local/lib/python3.7/dist-packages (from matplotlib) (1.4.2)\n",
            "Requirement already satisfied: cycler>=0.10 in /usr/local/lib/python3.7/dist-packages (from matplotlib) (0.11.0)\n",
            "Requirement already satisfied: pyparsing!=2.0.4,!=2.1.2,!=2.1.6,>=2.0.1 in /usr/local/lib/python3.7/dist-packages (from matplotlib) (3.0.9)\n",
            "Requirement already satisfied: typing-extensions in /usr/local/lib/python3.7/dist-packages (from kiwisolver>=1.0.1->matplotlib) (4.2.0)\n"
          ]
        }
      ],
      "source": [
        "!pip install pandas scikit-learn matplotlib"
      ]
    },
    {
      "cell_type": "code",
      "execution_count": 2,
      "id": "50362f6e",
      "metadata": {
        "id": "50362f6e"
      },
      "outputs": [],
      "source": [
        "import tensorflow as tf\n",
        "import pandas as pd\n",
        "import numpy as np\n",
        "from string import punctuation\n",
        "from sklearn.model_selection import train_test_split\n",
        "from collections import Counter\n",
        "from IPython.display import Image\n",
        "from IPython.core.display import HTML \n",
        "import matplotlib.pyplot as plt\n",
        "%matplotlib inline"
      ]
    },
    {
      "cell_type": "code",
      "execution_count": 3,
      "id": "b6676dab",
      "metadata": {
        "id": "b6676dab"
      },
      "outputs": [],
      "source": [
        "data = pd.read_csv('lenta_40k.csv.zip')"
      ]
    },
    {
      "cell_type": "code",
      "source": [
        "def preprocess(text):\n",
        "    tokens = text.lower().split()\n",
        "    tokens = [token.strip(punctuation) for token in tokens]\n",
        "    return tokens"
      ],
      "metadata": {
        "id": "z6q7t53FZWoH"
      },
      "id": "z6q7t53FZWoH",
      "execution_count": 4,
      "outputs": []
    },
    {
      "cell_type": "code",
      "source": [
        "from tensorflow.keras import backend as K\n",
        "def f1(y_true, y_pred):\n",
        "    def recall(y_true, y_pred):\n",
        "        \"\"\"Recall metric.\n",
        "\n",
        "        Only computes a batch-wise average of recall.\n",
        "\n",
        "        Computes the recall, a metric for multi-label classification of\n",
        "        how many relevant items are selected.\n",
        "        \"\"\"\n",
        "        true_positives = K.sum(K.round(K.clip(y_true * y_pred, 0, 1)))\n",
        "        possible_positives = K.sum(K.round(K.clip(y_true, 0, 1)))\n",
        "        recall = true_positives / (possible_positives + K.epsilon())\n",
        "        return recall\n",
        "\n",
        "    def precision(y_true, y_pred):\n",
        "        \"\"\"Precision metric.\n",
        "\n",
        "        Only computes a batch-wise average of precision.\n",
        "\n",
        "        Computes the precision, a metric for multi-label classification of\n",
        "        how many selected items are relevant.\n",
        "        \"\"\"\n",
        "        true_positives = K.sum(K.round(K.clip(y_true * y_pred, 0, 1)))\n",
        "        predicted_positives = K.sum(K.round(K.clip(y_pred, 0, 1)))\n",
        "        precision = true_positives / (predicted_positives + K.epsilon())\n",
        "        return precision\n",
        "    precision = precision(y_true, y_pred)\n",
        "    recall = recall(y_true, y_pred)\n",
        "    return 2*((precision*recall)/(precision+recall+K.epsilon()))"
      ],
      "metadata": {
        "id": "cfG18vvlZXd1"
      },
      "id": "cfG18vvlZXd1",
      "execution_count": 5,
      "outputs": []
    },
    {
      "cell_type": "code",
      "source": [
        "# словарь\n",
        "vocab = Counter()\n",
        "\n",
        "for text in data.text:\n",
        "    vocab.update(preprocess(text))\n",
        "# отфильтрованный словарь\n",
        "filtered_vocab = set()\n",
        "\n",
        "for word in vocab:\n",
        "    if vocab[word] > 30:\n",
        "        filtered_vocab.add(word)\n"
      ],
      "metadata": {
        "id": "8yJrvWRLZ87F"
      },
      "id": "8yJrvWRLZ87F",
      "execution_count": 6,
      "outputs": []
    },
    {
      "cell_type": "code",
      "source": [
        "# индексируем слова\n",
        "word2id = {'PAD':0, 'UNK':1}\n",
        "\n",
        "for word in filtered_vocab:\n",
        "    word2id[word] = len(word2id)"
      ],
      "metadata": {
        "id": "lZ0C6g9QZ8oM"
      },
      "id": "lZ0C6g9QZ8oM",
      "execution_count": 7,
      "outputs": []
    },
    {
      "cell_type": "code",
      "source": [
        "id2word = {i:word for word, i in word2id.items()}"
      ],
      "metadata": {
        "id": "KUwMPI3oZ8ZY"
      },
      "id": "KUwMPI3oZ8ZY",
      "execution_count": 8,
      "outputs": []
    },
    {
      "cell_type": "code",
      "source": [
        "# переводим тексты в последовательности индексов\n",
        "X = []\n",
        "\n",
        "for text in data.text:\n",
        "    tokens = preprocess(text)\n",
        "    ids = [word2id.get(token, 1) for token in tokens]\n",
        "    X.append(ids)"
      ],
      "metadata": {
        "id": "AMCbSbmYaOEU"
      },
      "id": "AMCbSbmYaOEU",
      "execution_count": 9,
      "outputs": []
    },
    {
      "cell_type": "code",
      "source": [
        "MEAN_LEN = np.median([len(x) for x in X])\n",
        "MAX_LEN = int(MEAN_LEN + 30)"
      ],
      "metadata": {
        "id": "bpN2cCvUaNdL"
      },
      "id": "bpN2cCvUaNdL",
      "execution_count": 10,
      "outputs": []
    },
    {
      "cell_type": "code",
      "source": [
        "X = tf.keras.preprocessing.sequence.pad_sequences(X, maxlen=MAX_LEN)"
      ],
      "metadata": {
        "id": "aNGA06-LaNXM"
      },
      "id": "aNGA06-LaNXM",
      "execution_count": 11,
      "outputs": []
    },
    {
      "cell_type": "code",
      "source": [
        "id2label = {i:label for i, label in enumerate(set(data.topic.values))}\n",
        "label2id = {l:i for i, l in id2label.items()}"
      ],
      "metadata": {
        "id": "2MpEsIq_aNS3"
      },
      "id": "2MpEsIq_aNS3",
      "execution_count": 12,
      "outputs": []
    },
    {
      "cell_type": "code",
      "source": [
        "y = tf.keras.utils.to_categorical([label2id[label] for label in data.topic.values])"
      ],
      "metadata": {
        "id": "cvec98QyaNOD"
      },
      "id": "cvec98QyaNOD",
      "execution_count": 13,
      "outputs": []
    },
    {
      "cell_type": "code",
      "source": [
        "X_train, X_valid, y_train, y_valid = train_test_split(X, y, test_size=0.05, stratify=y)"
      ],
      "metadata": {
        "id": "Zo3gjRVTaNJK"
      },
      "id": "Zo3gjRVTaNJK",
      "execution_count": 14,
      "outputs": []
    },
    {
      "cell_type": "code",
      "source": [
        "inputs = tf.keras.layers.Input(shape=(MAX_LEN,))\n",
        "embeddings = tf.keras.layers.Embedding(input_dim=len(word2id), output_dim=30)(inputs, )"
      ],
      "metadata": {
        "id": "MGECy-mjctn6"
      },
      "id": "MGECy-mjctn6",
      "execution_count": 15,
      "outputs": []
    },
    {
      "cell_type": "code",
      "source": [
        "def plot_model(model):\n",
        "  val = model.history.history['val_f1'][-1]\n",
        "  train = model.history.history['f1'][-1]\n",
        "  print('F1: \\nval = ',val, 'train = ', train)\n",
        "  # summarize history for accuracy\n",
        "  plt.plot(model.history.history['rec@prec'])\n",
        "  plt.plot(model.history.history['val_rec@prec'])\n",
        "  plt.title('model f1')\n",
        "  plt.ylabel('f1')\n",
        "  plt.xlabel('epoch')\n",
        "  plt.legend(['train', 'val'], loc='upper left')\n",
        "  plt.show()"
      ],
      "metadata": {
        "id": "6-pJBtcgfSKz"
      },
      "id": "6-pJBtcgfSKz",
      "execution_count": 16,
      "outputs": []
    },
    {
      "cell_type": "markdown",
      "source": [
        "## модель с 1 GRU слоем"
      ],
      "metadata": {
        "id": "ZzG8iPFmgX_d"
      },
      "id": "ZzG8iPFmgX_d"
    },
    {
      "cell_type": "code",
      "source": [
        "rnn = tf.keras.layers.GRU(128, return_sequences=False)(embeddings)\n",
        "outputs = tf.keras.layers.Dense(len(label2id), activation='softmax')(rnn)\n",
        "\n",
        "model = tf.keras.Model(inputs=inputs, outputs=outputs, name=\"1_GRU\")\n",
        "optimizer = tf.keras.optimizers.Adam(learning_rate=0.001)\n",
        "model.compile(optimizer=optimizer,\n",
        "              loss='categorical_crossentropy',\n",
        "              metrics=[f1, tf.keras.metrics.RecallAtPrecision(0.8, name='rec@prec')])\n",
        "model.summary()\n",
        "model.fit(X_train, y_train, \n",
        "          validation_data=(X_valid, y_valid),\n",
        "          batch_size=1000, epochs=10, verbose=1)\n",
        "\n",
        "plot_model(model)\n"
      ],
      "metadata": {
        "colab": {
          "base_uri": "https://localhost:8080/",
          "height": 992
        },
        "id": "n8o3DHcnb6Wc",
        "outputId": "f63c1f7a-3e25-44a0-ba16-f10e26ffd72c"
      },
      "id": "n8o3DHcnb6Wc",
      "execution_count": 17,
      "outputs": [
        {
          "output_type": "stream",
          "name": "stdout",
          "text": [
            "Model: \"1_GRU\"\n",
            "_________________________________________________________________\n",
            " Layer (type)                Output Shape              Param #   \n",
            "=================================================================\n",
            " input_1 (InputLayer)        [(None, 200)]             0         \n",
            "                                                                 \n",
            " embedding (Embedding)       (None, 200, 30)           722790    \n",
            "                                                                 \n",
            " gru (GRU)                   (None, 128)               61440     \n",
            "                                                                 \n",
            " dense (Dense)               (None, 19)                2451      \n",
            "                                                                 \n",
            "=================================================================\n",
            "Total params: 786,681\n",
            "Trainable params: 786,681\n",
            "Non-trainable params: 0\n",
            "_________________________________________________________________\n",
            "Epoch 1/10\n",
            "43/43 [==============================] - 15s 62ms/step - loss: 2.6061 - f1: 0.0050 - rec@prec: 0.0000e+00 - val_loss: 2.3612 - val_f1: 0.0000e+00 - val_rec@prec: 0.0000e+00\n",
            "Epoch 2/10\n",
            "43/43 [==============================] - 2s 49ms/step - loss: 2.2973 - f1: 0.0000e+00 - rec@prec: 7.1195e-05 - val_loss: 2.2554 - val_f1: 0.0000e+00 - val_rec@prec: 9.0171e-04\n",
            "Epoch 3/10\n",
            "43/43 [==============================] - 2s 50ms/step - loss: 2.1470 - f1: 0.0083 - rec@prec: 3.7970e-04 - val_loss: 2.0713 - val_f1: 6.6600e-04 - val_rec@prec: 0.0050\n",
            "Epoch 4/10\n",
            "43/43 [==============================] - 2s 50ms/step - loss: 1.8991 - f1: 0.0593 - rec@prec: 0.0166 - val_loss: 1.8837 - val_f1: 0.1078 - val_rec@prec: 0.0473\n",
            "Epoch 5/10\n",
            "43/43 [==============================] - 2s 50ms/step - loss: 1.6728 - f1: 0.2106 - rec@prec: 0.0807 - val_loss: 1.7496 - val_f1: 0.2131 - val_rec@prec: 0.0712\n",
            "Epoch 6/10\n",
            "43/43 [==============================] - 2s 50ms/step - loss: 1.4797 - f1: 0.3612 - rec@prec: 0.2101 - val_loss: 1.6357 - val_f1: 0.3588 - val_rec@prec: 0.1177\n",
            "Epoch 7/10\n",
            "43/43 [==============================] - 2s 49ms/step - loss: 1.2871 - f1: 0.4705 - rec@prec: 0.3188 - val_loss: 1.5830 - val_f1: 0.4073 - val_rec@prec: 0.1380\n",
            "Epoch 8/10\n",
            "43/43 [==============================] - 2s 49ms/step - loss: 1.1351 - f1: 0.5544 - rec@prec: 0.4317 - val_loss: 1.4626 - val_f1: 0.4653 - val_rec@prec: 0.1700\n",
            "Epoch 9/10\n",
            "43/43 [==============================] - 2s 50ms/step - loss: 0.9925 - f1: 0.6309 - rec@prec: 0.5437 - val_loss: 1.5341 - val_f1: 0.4846 - val_rec@prec: 0.2362\n",
            "Epoch 10/10\n",
            "43/43 [==============================] - 2s 50ms/step - loss: 0.8728 - f1: 0.6889 - rec@prec: 0.6351 - val_loss: 1.4605 - val_f1: 0.5354 - val_rec@prec: 0.2782\n",
            "F1: \n",
            "val =  0.5353955626487732 train =  0.6888959407806396\n"
          ]
        },
        {
          "output_type": "display_data",
          "data": {
            "text/plain": [
              "<Figure size 432x288 with 1 Axes>"
            ],
            "image/png": "[encoded data removed]"
          },
          "metadata": {
            "needs_background": "light"
          }
        }
      ]
    },
    {
      "cell_type": "markdown",
      "source": [
        "## модель с 1 LSTM слоем"
      ],
      "metadata": {
        "id": "iU0PfH6Yibqd"
      },
      "id": "iU0PfH6Yibqd"
    },
    {
      "cell_type": "code",
      "source": [
        "rnn = tf.keras.layers.LSTM(128, return_sequences=False)(embeddings)\n",
        "outputs = tf.keras.layers.Dense(len(label2id), activation='softmax')(rnn)\n",
        "\n",
        "model = tf.keras.Model(inputs=inputs, outputs=outputs, name=\"1_LSTM\")\n",
        "optimizer = tf.keras.optimizers.Adam(learning_rate=0.001)\n",
        "model.compile(optimizer=optimizer,\n",
        "              loss='categorical_crossentropy',\n",
        "              metrics=[f1, tf.keras.metrics.RecallAtPrecision(0.8, name='rec@prec')])\n",
        "model.summary()\n",
        "model.fit(X_train, y_train, \n",
        "          validation_data=(X_valid, y_valid),\n",
        "          batch_size=1000, epochs=10, verbose=1)\n",
        "\n",
        "plot_model(model)"
      ],
      "metadata": {
        "id": "YlO0C4goibD8",
        "colab": {
          "base_uri": "https://localhost:8080/",
          "height": 992
        },
        "outputId": "56535a29-4a0c-4988-f587-35d77a26032c"
      },
      "id": "YlO0C4goibD8",
      "execution_count": 18,
      "outputs": [
        {
          "output_type": "stream",
          "name": "stdout",
          "text": [
            "Model: \"1_LSTM\"\n",
            "_________________________________________________________________\n",
            " Layer (type)                Output Shape              Param #   \n",
            "=================================================================\n",
            " input_1 (InputLayer)        [(None, 200)]             0         \n",
            "                                                                 \n",
            " embedding (Embedding)       (None, 200, 30)           722790    \n",
            "                                                                 \n",
            " lstm (LSTM)                 (None, 128)               81408     \n",
            "                                                                 \n",
            " dense_1 (Dense)             (None, 19)                2451      \n",
            "                                                                 \n",
            "=================================================================\n",
            "Total params: 806,649\n",
            "Trainable params: 806,649\n",
            "Non-trainable params: 0\n",
            "_________________________________________________________________\n",
            "Epoch 1/10\n",
            "43/43 [==============================] - 5s 72ms/step - loss: 2.4343 - f1: 0.0000e+00 - rec@prec: 0.0046 - val_loss: 2.1918 - val_f1: 0.0000e+00 - val_rec@prec: 0.0198\n",
            "Epoch 2/10\n",
            "43/43 [==============================] - 2s 57ms/step - loss: 1.7904 - f1: 0.0917 - rec@prec: 0.0645 - val_loss: 1.6525 - val_f1: 0.1569 - val_rec@prec: 0.1691\n",
            "Epoch 3/10\n",
            "43/43 [==============================] - 2s 57ms/step - loss: 1.3498 - f1: 0.4537 - rec@prec: 0.3329 - val_loss: 1.4822 - val_f1: 0.5207 - val_rec@prec: 0.2705\n",
            "Epoch 4/10\n",
            "43/43 [==============================] - 2s 58ms/step - loss: 1.1307 - f1: 0.6030 - rec@prec: 0.4871 - val_loss: 1.3744 - val_f1: 0.5622 - val_rec@prec: 0.3693\n",
            "Epoch 5/10\n",
            "43/43 [==============================] - 2s 58ms/step - loss: 0.9549 - f1: 0.6882 - rec@prec: 0.6310 - val_loss: 1.2090 - val_f1: 0.6591 - val_rec@prec: 0.5027\n",
            "Epoch 6/10\n",
            "43/43 [==============================] - 2s 58ms/step - loss: 0.8172 - f1: 0.7457 - rec@prec: 0.7247 - val_loss: 1.2338 - val_f1: 0.6524 - val_rec@prec: 0.4941\n",
            "Epoch 7/10\n",
            "43/43 [==============================] - 3s 63ms/step - loss: 0.7104 - f1: 0.7826 - rec@prec: 0.7861 - val_loss: 1.1983 - val_f1: 0.6585 - val_rec@prec: 0.5257\n",
            "Epoch 8/10\n",
            "43/43 [==============================] - 3s 61ms/step - loss: 0.6318 - f1: 0.8087 - rec@prec: 0.8311 - val_loss: 1.1608 - val_f1: 0.6925 - val_rec@prec: 0.5947\n",
            "Epoch 9/10\n",
            "43/43 [==============================] - 2s 58ms/step - loss: 0.5834 - f1: 0.8286 - rec@prec: 0.8543 - val_loss: 1.1315 - val_f1: 0.6846 - val_rec@prec: 0.5884\n",
            "Epoch 10/10\n",
            "43/43 [==============================] - 3s 58ms/step - loss: 0.5223 - f1: 0.8498 - rec@prec: 0.8827 - val_loss: 1.2922 - val_f1: 0.6516 - val_rec@prec: 0.5185\n",
            "F1: \n",
            "val =  0.6516316533088684 train =  0.8497887253761292\n"
          ]
        },
        {
          "output_type": "display_data",
          "data": {
            "text/plain": [
              "<Figure size 432x288 with 1 Axes>"
            ],
            "image/png": "[encoded data removed]"
          },
          "metadata": {
            "needs_background": "light"
          }
        }
      ]
    },
    {
      "cell_type": "markdown",
      "source": [
        "## модель с 1 GRU и 1 LSTM слоем"
      ],
      "metadata": {
        "id": "99JTRYkRjAp5"
      },
      "id": "99JTRYkRjAp5"
    },
    {
      "cell_type": "code",
      "source": [
        "\n",
        "lstm_1 = tf.keras.layers.LSTM(128, return_sequences=True)(embeddings)\n",
        "lstm_2 = tf.keras.layers.GRU(128, return_sequences=False)(lstm_1)\n",
        "\n",
        "dense = tf.keras.layers.Dense(64, activation='relu')(lstm_2)\n",
        "outputs = tf.keras.layers.Dense(len(label2id), activation='softmax')(dense)\n",
        "\n",
        "model = tf.keras.Model(inputs=inputs, outputs=outputs, name=\"1_GRU_1_LSTM\")\n",
        "optimizer = tf.keras.optimizers.Adam(learning_rate=0.001)\n",
        "model.compile(optimizer=optimizer,\n",
        "              loss='categorical_crossentropy',\n",
        "              metrics=[f1, tf.keras.metrics.RecallAtPrecision(0.8, name='rec@prec')])\n",
        "model.summary()\n",
        "model.fit(X_train, y_train, \n",
        "          validation_data=(X_valid, y_valid),\n",
        "          batch_size=1000, epochs=10, verbose=1)\n",
        "\n",
        "plot_model(model)"
      ],
      "metadata": {
        "id": "I0ljbkdRkB8F",
        "colab": {
          "base_uri": "https://localhost:8080/",
          "height": 1000
        },
        "outputId": "e58b2eb6-84a5-4d56-b832-189c507ac183"
      },
      "id": "I0ljbkdRkB8F",
      "execution_count": 19,
      "outputs": [
        {
          "output_type": "stream",
          "name": "stdout",
          "text": [
            "Model: \"1_GRU_1_LSTM\"\n",
            "_________________________________________________________________\n",
            " Layer (type)                Output Shape              Param #   \n",
            "=================================================================\n",
            " input_1 (InputLayer)        [(None, 200)]             0         \n",
            "                                                                 \n",
            " embedding (Embedding)       (None, 200, 30)           722790    \n",
            "                                                                 \n",
            " lstm_1 (LSTM)               (None, 200, 128)          81408     \n",
            "                                                                 \n",
            " gru_1 (GRU)                 (None, 128)               99072     \n",
            "                                                                 \n",
            " dense_2 (Dense)             (None, 64)                8256      \n",
            "                                                                 \n",
            " dense_3 (Dense)             (None, 19)                1235      \n",
            "                                                                 \n",
            "=================================================================\n",
            "Total params: 912,761\n",
            "Trainable params: 912,761\n",
            "Non-trainable params: 0\n",
            "_________________________________________________________________\n",
            "Epoch 1/10\n",
            "43/43 [==============================] - 8s 131ms/step - loss: 2.0694 - f1: 0.1646 - rec@prec: 0.0737 - val_loss: 1.7478 - val_f1: 0.3200 - val_rec@prec: 0.1335\n",
            "Epoch 2/10\n",
            "43/43 [==============================] - 5s 118ms/step - loss: 1.1832 - f1: 0.5515 - rec@prec: 0.4365 - val_loss: 1.4862 - val_f1: 0.5982 - val_rec@prec: 0.3679\n",
            "Epoch 3/10\n",
            "43/43 [==============================] - 5s 121ms/step - loss: 0.7261 - f1: 0.7737 - rec@prec: 0.7709 - val_loss: 1.3135 - val_f1: 0.6568 - val_rec@prec: 0.5433\n",
            "Epoch 4/10\n",
            "43/43 [==============================] - 5s 120ms/step - loss: 0.5337 - f1: 0.8480 - rec@prec: 0.8801 - val_loss: 1.3339 - val_f1: 0.6731 - val_rec@prec: 0.5528\n",
            "Epoch 5/10\n",
            "43/43 [==============================] - 5s 120ms/step - loss: 0.4361 - f1: 0.8822 - rec@prec: 0.9166 - val_loss: 1.4496 - val_f1: 0.6749 - val_rec@prec: 0.5717\n",
            "Epoch 6/10\n",
            "43/43 [==============================] - 5s 124ms/step - loss: 0.3781 - f1: 0.8981 - rec@prec: 0.9346 - val_loss: 1.4746 - val_f1: 0.6786 - val_rec@prec: 0.5613\n",
            "Epoch 7/10\n",
            "43/43 [==============================] - 5s 120ms/step - loss: 0.3204 - f1: 0.9171 - rec@prec: 0.9529 - val_loss: 1.5398 - val_f1: 0.6740 - val_rec@prec: 0.5424\n",
            "Epoch 8/10\n",
            "43/43 [==============================] - 5s 120ms/step - loss: 0.2675 - f1: 0.9323 - rec@prec: 0.9659 - val_loss: 1.6904 - val_f1: 0.6645 - val_rec@prec: 0.4977\n",
            "Epoch 9/10\n",
            "43/43 [==============================] - 5s 124ms/step - loss: 0.2457 - f1: 0.9379 - rec@prec: 0.9705 - val_loss: 1.7235 - val_f1: 0.6573 - val_rec@prec: 0.5361\n",
            "Epoch 10/10\n",
            "43/43 [==============================] - 5s 124ms/step - loss: 0.2062 - f1: 0.9504 - rec@prec: 0.9779 - val_loss: 1.7768 - val_f1: 0.6612 - val_rec@prec: 0.5230\n",
            "F1: \n",
            "val =  0.6612482070922852 train =  0.9504361748695374\n"
          ]
        },
        {
          "output_type": "display_data",
          "data": {
            "text/plain": [
              "<Figure size 432x288 with 1 Axes>"
            ],
            "image/png": "[encoded data removed]"
          },
          "metadata": {
            "needs_background": "light"
          }
        }
      ]
    },
    {
      "cell_type": "markdown",
      "source": [
        "## модель с 1 BIGRU и 2 LSTM слоями"
      ],
      "metadata": {
        "id": "qJCAPwsXjONs"
      },
      "id": "qJCAPwsXjONs"
    },
    {
      "cell_type": "code",
      "source": [
        "bigru = tf.keras.layers.Bidirectional(tf.keras.layers.GRU(128, return_sequences=True))(embeddings)\n",
        "lstm_1 = tf.keras.layers.LSTM(128, return_sequences=True)(bigru)\n",
        "lstm_2 = tf.keras.layers.LSTM(128, return_sequences=False)(lstm_1)\n",
        "\n",
        "dense = tf.keras.layers.Dense(64, activation='relu')(lstm_2)\n",
        "outputs = tf.keras.layers.Dense(len(label2id), activation='softmax')(dense)\n",
        "model = tf.keras.Model(inputs=inputs, outputs=outputs, name=\"1_BIGRU_2_LSTM\")\n",
        "optimizer = tf.keras.optimizers.Adam(learning_rate=0.001)\n",
        "model.compile(optimizer=optimizer,\n",
        "              loss='categorical_crossentropy',\n",
        "              metrics=[f1, tf.keras.metrics.RecallAtPrecision(0.8, name='rec@prec')])\n",
        "model.summary()\n",
        "model.fit(X_train, y_train, \n",
        "          validation_data=(X_valid, y_valid),\n",
        "          batch_size=1000, epochs=10, verbose=1)\n",
        "\n",
        "plot_model(model)\n"
      ],
      "metadata": {
        "id": "S6OIVRZxk8xm",
        "colab": {
          "base_uri": "https://localhost:8080/",
          "height": 1000
        },
        "outputId": "1fd34a35-6c72-43f9-91db-f5b7e374ed20"
      },
      "id": "S6OIVRZxk8xm",
      "execution_count": 20,
      "outputs": [
        {
          "output_type": "stream",
          "name": "stdout",
          "text": [
            "Model: \"1_BIGRU_2_LSTM\"\n",
            "_________________________________________________________________\n",
            " Layer (type)                Output Shape              Param #   \n",
            "=================================================================\n",
            " input_1 (InputLayer)        [(None, 200)]             0         \n",
            "                                                                 \n",
            " embedding (Embedding)       (None, 200, 30)           722790    \n",
            "                                                                 \n",
            " bidirectional (Bidirectiona  (None, 200, 256)         122880    \n",
            " l)                                                              \n",
            "                                                                 \n",
            " lstm_2 (LSTM)               (None, 200, 128)          197120    \n",
            "                                                                 \n",
            " lstm_3 (LSTM)               (None, 128)               131584    \n",
            "                                                                 \n",
            " dense_4 (Dense)             (None, 64)                8256      \n",
            "                                                                 \n",
            " dense_5 (Dense)             (None, 19)                1235      \n",
            "                                                                 \n",
            "=================================================================\n",
            "Total params: 1,183,865\n",
            "Trainable params: 1,183,865\n",
            "Non-trainable params: 0\n",
            "_________________________________________________________________\n",
            "Epoch 1/10\n",
            "43/43 [==============================] - 20s 298ms/step - loss: 1.8305 - f1: 0.3092 - rec@prec: 0.2217 - val_loss: 1.7098 - val_f1: 0.4860 - val_rec@prec: 0.2295\n",
            "Epoch 2/10\n",
            "43/43 [==============================] - 12s 276ms/step - loss: 0.9056 - f1: 0.6978 - rec@prec: 0.6410 - val_loss: 1.5454 - val_f1: 0.6188 - val_rec@prec: 0.4441\n",
            "Epoch 3/10\n",
            "43/43 [==============================] - 12s 278ms/step - loss: 0.5201 - f1: 0.8477 - rec@prec: 0.8817 - val_loss: 1.5328 - val_f1: 0.6511 - val_rec@prec: 0.4982\n",
            "Epoch 4/10\n",
            "43/43 [==============================] - 12s 278ms/step - loss: 0.3672 - f1: 0.8970 - rec@prec: 0.9388 - val_loss: 1.6763 - val_f1: 0.6393 - val_rec@prec: 0.5036\n",
            "Epoch 5/10\n",
            "43/43 [==============================] - 12s 272ms/step - loss: 0.2872 - f1: 0.9228 - rec@prec: 0.9606 - val_loss: 1.7051 - val_f1: 0.6582 - val_rec@prec: 0.5140\n",
            "Epoch 6/10\n",
            "43/43 [==============================] - 12s 270ms/step - loss: 0.2368 - f1: 0.9381 - rec@prec: 0.9708 - val_loss: 1.7846 - val_f1: 0.6500 - val_rec@prec: 0.5135\n",
            "Epoch 7/10\n",
            "43/43 [==============================] - 12s 271ms/step - loss: 0.2582 - f1: 0.9303 - rec@prec: 0.9663 - val_loss: 1.8693 - val_f1: 0.6227 - val_rec@prec: 0.3891\n",
            "Epoch 8/10\n",
            "43/43 [==============================] - 12s 272ms/step - loss: 0.1968 - f1: 0.9488 - rec@prec: 0.9793 - val_loss: 1.8569 - val_f1: 0.6489 - val_rec@prec: 0.5005\n",
            "Epoch 9/10\n",
            "43/43 [==============================] - 12s 273ms/step - loss: 0.1780 - f1: 0.9557 - rec@prec: 0.9818 - val_loss: 1.9200 - val_f1: 0.6491 - val_rec@prec: 0.5059\n",
            "Epoch 10/10\n",
            "43/43 [==============================] - 12s 273ms/step - loss: 0.1569 - f1: 0.9622 - rec@prec: 0.9852 - val_loss: 1.9471 - val_f1: 0.6518 - val_rec@prec: 0.5104\n",
            "F1: \n",
            "val =  0.6518149971961975 train =  0.9622196555137634\n"
          ]
        },
        {
          "output_type": "display_data",
          "data": {
            "text/plain": [
              "<Figure size 432x288 with 1 Axes>"
            ],
            "image/png": "[encoded data removed]"
          },
          "metadata": {
            "needs_background": "light"
          }
        }
      ]
    },
    {
      "cell_type": "markdown",
      "source": [
        "## модель с 5 GRU слоями и 3 LSTM слоями"
      ],
      "metadata": {
        "id": "lYy65P6jjVS6"
      },
      "id": "lYy65P6jjVS6"
    },
    {
      "cell_type": "code",
      "source": [
        "gru_1 = tf.keras.layers.GRU(128, return_sequences=True)(embeddings)\n",
        "gru_2 = tf.keras.layers.GRU(128, return_sequences=True)(gru_1)\n",
        "gru_3 = tf.keras.layers.GRU(128, return_sequences=True)(gru_2)\n",
        "gru_4 = tf.keras.layers.GRU(128, return_sequences=True)(gru_3)\n",
        "gru_5 = tf.keras.layers.GRU(128, return_sequences=True)(gru_4)\n",
        "lstm_1 = tf.keras.layers.LSTM(128, return_sequences=True)(gru_5)\n",
        "lstm_2 = tf.keras.layers.LSTM(128, return_sequences=True)(lstm_1)\n",
        "lstm_3 = tf.keras.layers.LSTM(128, return_sequences=False)(lstm_2)\n",
        "\n",
        "dense = tf.keras.layers.Dense(64, activation='relu')(lstm_3)\n",
        "outputs = tf.keras.layers.Dense(len(label2id), activation='softmax')(dense)\n",
        "model = tf.keras.Model(inputs=inputs, outputs=outputs, name=\"5_GRU_3_LSTM\")\n",
        "optimizer = tf.keras.optimizers.Adam(learning_rate=0.001)\n",
        "model.compile(optimizer=optimizer,\n",
        "              loss='categorical_crossentropy',\n",
        "              metrics=[f1, tf.keras.metrics.RecallAtPrecision(0.8, name='rec@prec')])\n",
        "model.summary()\n",
        "model.fit(X_train, y_train, \n",
        "          validation_data=(X_valid, y_valid),\n",
        "          batch_size=1000, epochs=10, verbose=1)\n",
        "\n",
        "plot_model(model)"
      ],
      "metadata": {
        "colab": {
          "base_uri": "https://localhost:8080/",
          "height": 1000
        },
        "id": "BllEh4nPqylo",
        "outputId": "0f9e37d9-54c6-473e-e817-bc0c560f18e0"
      },
      "id": "BllEh4nPqylo",
      "execution_count": 21,
      "outputs": [
        {
          "output_type": "stream",
          "name": "stdout",
          "text": [
            "Model: \"5_GRU_3_LSTM\"\n",
            "_________________________________________________________________\n",
            " Layer (type)                Output Shape              Param #   \n",
            "=================================================================\n",
            " input_1 (InputLayer)        [(None, 200)]             0         \n",
            "                                                                 \n",
            " embedding (Embedding)       (None, 200, 30)           722790    \n",
            "                                                                 \n",
            " gru_3 (GRU)                 (None, 200, 128)          61440     \n",
            "                                                                 \n",
            " gru_4 (GRU)                 (None, 200, 128)          99072     \n",
            "                                                                 \n",
            " gru_5 (GRU)                 (None, 200, 128)          99072     \n",
            "                                                                 \n",
            " gru_6 (GRU)                 (None, 200, 128)          99072     \n",
            "                                                                 \n",
            " gru_7 (GRU)                 (None, 200, 128)          99072     \n",
            "                                                                 \n",
            " lstm_4 (LSTM)               (None, 200, 128)          131584    \n",
            "                                                                 \n",
            " lstm_5 (LSTM)               (None, 200, 128)          131584    \n",
            "                                                                 \n",
            " lstm_6 (LSTM)               (None, 128)               131584    \n",
            "                                                                 \n",
            " dense_6 (Dense)             (None, 64)                8256      \n",
            "                                                                 \n",
            " dense_7 (Dense)             (None, 19)                1235      \n",
            "                                                                 \n",
            "=================================================================\n",
            "Total params: 1,584,761\n",
            "Trainable params: 1,584,761\n",
            "Non-trainable params: 0\n",
            "_________________________________________________________________\n",
            "Epoch 1/10\n",
            "43/43 [==============================] - 33s 554ms/step - loss: 2.2815 - f1: 0.0080 - rec@prec: 1.4239e-04 - val_loss: 1.9333 - val_f1: 0.1052 - val_rec@prec: 0.0000e+00\n",
            "Epoch 2/10\n",
            "43/43 [==============================] - 22s 511ms/step - loss: 1.5635 - f1: 0.3354 - rec@prec: 0.1544 - val_loss: 1.7640 - val_f1: 0.3504 - val_rec@prec: 0.0365\n",
            "Epoch 3/10\n",
            "43/43 [==============================] - 22s 505ms/step - loss: 1.1283 - f1: 0.6037 - rec@prec: 0.4761 - val_loss: 1.6222 - val_f1: 0.5229 - val_rec@prec: 0.2786\n",
            "Epoch 4/10\n",
            "43/43 [==============================] - 21s 499ms/step - loss: 0.8915 - f1: 0.6924 - rec@prec: 0.6254 - val_loss: 1.5637 - val_f1: 0.5861 - val_rec@prec: 0.3431\n",
            "Epoch 5/10\n",
            "43/43 [==============================] - 22s 505ms/step - loss: 0.6636 - f1: 0.7879 - rec@prec: 0.7897 - val_loss: 1.5243 - val_f1: 0.6233 - val_rec@prec: 0.4500\n",
            "Epoch 6/10\n",
            "43/43 [==============================] - 22s 508ms/step - loss: 0.5279 - f1: 0.8386 - rec@prec: 0.8667 - val_loss: 1.4496 - val_f1: 0.6526 - val_rec@prec: 0.4991\n",
            "Epoch 7/10\n",
            "43/43 [==============================] - 22s 506ms/step - loss: 0.4181 - f1: 0.8766 - rec@prec: 0.9188 - val_loss: 1.5898 - val_f1: 0.6336 - val_rec@prec: 0.4901\n",
            "Epoch 8/10\n",
            "43/43 [==============================] - 22s 503ms/step - loss: 0.3649 - f1: 0.8942 - rec@prec: 0.9390 - val_loss: 1.6848 - val_f1: 0.6429 - val_rec@prec: 0.4779\n",
            "Epoch 9/10\n",
            "43/43 [==============================] - 22s 504ms/step - loss: 0.3285 - f1: 0.9067 - rec@prec: 0.9500 - val_loss: 1.7612 - val_f1: 0.6292 - val_rec@prec: 0.4351\n",
            "Epoch 10/10\n",
            "43/43 [==============================] - 22s 505ms/step - loss: 0.3004 - f1: 0.9135 - rec@prec: 0.9579 - val_loss: 1.8177 - val_f1: 0.6361 - val_rec@prec: 0.4612\n",
            "F1: \n",
            "val =  0.6360560059547424 train =  0.913517951965332\n"
          ]
        },
        {
          "output_type": "display_data",
          "data": {
            "text/plain": [
              "<Figure size 432x288 with 1 Axes>"
            ],
            "image/png": "[encoded data removed]"
          },
          "metadata": {
            "needs_background": "light"
          }
        }
      ]
    },
    {
      "cell_type": "markdown",
      "source": [
        "## модель с 1 BIGRU и 1 BILSTM слоями"
      ],
      "metadata": {
        "id": "3fvqdRzPjpt1"
      },
      "id": "3fvqdRzPjpt1"
    },
    {
      "cell_type": "code",
      "source": [
        "bigru = tf.keras.layers.Bidirectional(tf.keras.layers.GRU(128, return_sequences=True),\n",
        "                                      backward_layer=tf.keras.layers.GRU(128, return_sequences=True,\n",
        "                                                                         go_backwards=True))(embeddings)\n",
        "bilstm = tf.keras.layers.Bidirectional(tf.keras.layers.LSTM(128, return_sequences=False),\n",
        "                                      backward_layer=tf.keras.layers.LSTM(128, return_sequences=False,\n",
        "                                                                         go_backwards=True))(bigru)\n",
        "\n",
        "dense = tf.keras.layers.Dense(64, activation='relu')(bilstm)\n",
        "outputs = tf.keras.layers.Dense(len(label2id), activation='softmax')(dense)\n",
        "model = tf.keras.Model(inputs=inputs, outputs=outputs, name=\"1_BIGRU_1_BILSTM\")\n",
        "optimizer = tf.keras.optimizers.Adam(learning_rate=0.001)\n",
        "model.compile(optimizer=optimizer,\n",
        "              loss='categorical_crossentropy',\n",
        "              metrics=[f1, tf.keras.metrics.RecallAtPrecision(0.8, name='rec@prec')])\n",
        "model.summary()\n",
        "model.fit(X_train, y_train, \n",
        "          validation_data=(X_valid, y_valid),\n",
        "          batch_size=1000, epochs=10, verbose=1)\n",
        "\n",
        "plot_model(model)"
      ],
      "metadata": {
        "colab": {
          "base_uri": "https://localhost:8080/",
          "height": 1000
        },
        "id": "BWvadgnVrqHn",
        "outputId": "8bce0c13-7b41-4950-b39c-cc69c1f90d7c"
      },
      "id": "BWvadgnVrqHn",
      "execution_count": 22,
      "outputs": [
        {
          "output_type": "stream",
          "name": "stdout",
          "text": [
            "Model: \"1_BIGRU_1_BILSTM\"\n",
            "_________________________________________________________________\n",
            " Layer (type)                Output Shape              Param #   \n",
            "=================================================================\n",
            " input_1 (InputLayer)        [(None, 200)]             0         \n",
            "                                                                 \n",
            " embedding (Embedding)       (None, 200, 30)           722790    \n",
            "                                                                 \n",
            " bidirectional_1 (Bidirectio  (None, 200, 64)          12288     \n",
            " nal)                                                            \n",
            "                                                                 \n",
            " bidirectional_2 (Bidirectio  (None, 64)               24832     \n",
            " nal)                                                            \n",
            "                                                                 \n",
            " dense_8 (Dense)             (None, 64)                4160      \n",
            "                                                                 \n",
            " dense_9 (Dense)             (None, 19)                1235      \n",
            "                                                                 \n",
            "=================================================================\n",
            "Total params: 765,305\n",
            "Trainable params: 765,305\n",
            "Non-trainable params: 0\n",
            "_________________________________________________________________\n",
            "Epoch 1/10\n",
            "43/43 [==============================] - 10s 106ms/step - loss: 2.4887 - f1: 0.0012 - rec@prec: 0.0090 - val_loss: 1.9845 - val_f1: 0.0428 - val_rec@prec: 0.0969\n",
            "Epoch 2/10\n",
            "43/43 [==============================] - 3s 71ms/step - loss: 1.5948 - f1: 0.2404 - rec@prec: 0.2036 - val_loss: 1.6818 - val_f1: 0.3725 - val_rec@prec: 0.2480\n",
            "Epoch 3/10\n",
            "43/43 [==============================] - 3s 71ms/step - loss: 1.1819 - f1: 0.5899 - rec@prec: 0.5283 - val_loss: 1.5740 - val_f1: 0.5074 - val_rec@prec: 0.3039\n",
            "Epoch 4/10\n",
            "43/43 [==============================] - 3s 71ms/step - loss: 0.9685 - f1: 0.6926 - rec@prec: 0.6451 - val_loss: 1.5450 - val_f1: 0.5802 - val_rec@prec: 0.3282\n",
            "Epoch 5/10\n",
            "43/43 [==============================] - 3s 72ms/step - loss: 0.7623 - f1: 0.7644 - rec@prec: 0.7497 - val_loss: 1.5950 - val_f1: 0.6029 - val_rec@prec: 0.3778\n",
            "Epoch 6/10\n",
            "43/43 [==============================] - 3s 71ms/step - loss: 0.6381 - f1: 0.8130 - rec@prec: 0.8227 - val_loss: 1.6222 - val_f1: 0.6107 - val_rec@prec: 0.4621\n",
            "Epoch 7/10\n",
            "43/43 [==============================] - 3s 72ms/step - loss: 0.5447 - f1: 0.8406 - rec@prec: 0.8772 - val_loss: 1.6825 - val_f1: 0.6492 - val_rec@prec: 0.3571\n",
            "Epoch 8/10\n",
            "43/43 [==============================] - 3s 71ms/step - loss: 0.4284 - f1: 0.8814 - rec@prec: 0.9224 - val_loss: 1.7841 - val_f1: 0.6440 - val_rec@prec: 0.4468\n",
            "Epoch 9/10\n",
            "43/43 [==============================] - 3s 72ms/step - loss: 0.3576 - f1: 0.9028 - rec@prec: 0.9437 - val_loss: 1.7554 - val_f1: 0.6482 - val_rec@prec: 0.5113\n",
            "Epoch 10/10\n",
            "43/43 [==============================] - 3s 72ms/step - loss: 0.2857 - f1: 0.9279 - rec@prec: 0.9661 - val_loss: 1.8659 - val_f1: 0.6435 - val_rec@prec: 0.4986\n",
            "F1: \n",
            "val =  0.6435307860374451 train =  0.9278895258903503\n"
          ]
        },
        {
          "output_type": "display_data",
          "data": {
            "text/plain": [
              "<Figure size 432x288 with 1 Axes>"
            ],
            "image/png": "[encoded data removed]"
          },
          "metadata": {
            "needs_background": "light"
          }
        }
      ]
    },
    {
      "cell_type": "markdown",
      "source": [
        "## модель, где последовательно идут слои: LSTM, GRU, BILSTM, BIGRU, GRU, LSTM"
      ],
      "metadata": {
        "id": "aeo07Wryj3Ub"
      },
      "id": "aeo07Wryj3Ub"
    },
    {
      "cell_type": "code",
      "source": [
        "lstm_1 = tf.keras.layers.LSTM(128, return_sequences=True)(embeddings)\n",
        "gru_1 = tf.keras.layers.GRU(128, return_sequences=True)(lstm_1)\n",
        "bilstm = tf.keras.layers.Bidirectional(tf.keras.layers.LSTM(128, return_sequences=True))(gru_1)\n",
        "bigru = tf.keras.layers.Bidirectional(tf.keras.layers.GRU(128, return_sequences=True))(bilstm)\n",
        "gru_2 = tf.keras.layers.GRU(128, return_sequences=True)(bigru)\n",
        "lstm_2 = tf.keras.layers.LSTM(128, return_sequences=False)(gru_2)\n",
        "\n",
        "\n",
        "dense = tf.keras.layers.Dense(64, activation='relu')(lstm_2)\n",
        "outputs = tf.keras.layers.Dense(len(label2id), activation='softmax')(dense)\n",
        "model = tf.keras.Model(inputs=inputs, outputs=outputs, name=\"LSTM_GRU_BILSTM_BIGRU_GRU_LSTM\")\n",
        "optimizer = tf.keras.optimizers.Adam(learning_rate=0.001)\n",
        "model.compile(optimizer=optimizer,\n",
        "              loss='categorical_crossentropy',\n",
        "              metrics=[f1, tf.keras.metrics.RecallAtPrecision(0.8, name='rec@prec')])\n",
        "model.summary()\n",
        "model.fit(X_train, y_train, \n",
        "          validation_data=(X_valid, y_valid),\n",
        "          batch_size=1000, epochs=10, verbose=1)\n",
        "\n",
        "plot_model(model)"
      ],
      "metadata": {
        "id": "aL_K6q02aNEx",
        "colab": {
          "base_uri": "https://localhost:8080/",
          "height": 1000
        },
        "outputId": "7cf84edc-3ab0-4931-bb90-c4e6e0f028be"
      },
      "id": "aL_K6q02aNEx",
      "execution_count": 23,
      "outputs": [
        {
          "output_type": "stream",
          "name": "stdout",
          "text": [
            "Model: \"LSTM_GRU_BILSTM_BIGRU_GRU_LSTM\"\n",
            "_________________________________________________________________\n",
            " Layer (type)                Output Shape              Param #   \n",
            "=================================================================\n",
            " input_1 (InputLayer)        [(None, 200)]             0         \n",
            "                                                                 \n",
            " embedding (Embedding)       (None, 200, 30)           722790    \n",
            "                                                                 \n",
            " lstm_9 (LSTM)               (None, 200, 128)          81408     \n",
            "                                                                 \n",
            " gru_10 (GRU)                (None, 200, 128)          99072     \n",
            "                                                                 \n",
            " bidirectional_3 (Bidirectio  (None, 200, 256)         263168    \n",
            " nal)                                                            \n",
            "                                                                 \n",
            " bidirectional_4 (Bidirectio  (None, 200, 256)         296448    \n",
            " nal)                                                            \n",
            "                                                                 \n",
            " gru_12 (GRU)                (None, 200, 128)          148224    \n",
            "                                                                 \n",
            " lstm_11 (LSTM)              (None, 128)               131584    \n",
            "                                                                 \n",
            " dense_10 (Dense)            (None, 64)                8256      \n",
            "                                                                 \n",
            " dense_11 (Dense)            (None, 19)                1235      \n",
            "                                                                 \n",
            "=================================================================\n",
            "Total params: 1,752,185\n",
            "Trainable params: 1,752,185\n",
            "Non-trainable params: 0\n",
            "_________________________________________________________________\n",
            "Epoch 1/10\n",
            "43/43 [==============================] - 37s 645ms/step - loss: 1.9678 - f1: 0.2173 - rec@prec: 0.0984 - val_loss: 1.7868 - val_f1: 0.4048 - val_rec@prec: 0.1578\n",
            "Epoch 2/10\n",
            "43/43 [==============================] - 26s 594ms/step - loss: 1.1249 - f1: 0.6205 - rec@prec: 0.5112 - val_loss: 1.5402 - val_f1: 0.5606 - val_rec@prec: 0.3494\n",
            "Epoch 3/10\n",
            "43/43 [==============================] - 25s 590ms/step - loss: 0.5618 - f1: 0.8299 - rec@prec: 0.8547 - val_loss: 1.6333 - val_f1: 0.6195 - val_rec@prec: 0.4369\n",
            "Epoch 4/10\n",
            "43/43 [==============================] - 25s 590ms/step - loss: 0.3675 - f1: 0.8943 - rec@prec: 0.9365 - val_loss: 1.8341 - val_f1: 0.6015 - val_rec@prec: 0.4400\n",
            "Epoch 5/10\n",
            "43/43 [==============================] - 25s 591ms/step - loss: 0.3162 - f1: 0.9120 - rec@prec: 0.9538 - val_loss: 1.7992 - val_f1: 0.6300 - val_rec@prec: 0.4635\n",
            "Epoch 6/10\n",
            "43/43 [==============================] - 25s 590ms/step - loss: 0.2484 - f1: 0.9335 - rec@prec: 0.9694 - val_loss: 1.9037 - val_f1: 0.6273 - val_rec@prec: 0.4472\n",
            "Epoch 7/10\n",
            "43/43 [==============================] - 25s 591ms/step - loss: 0.2200 - f1: 0.9428 - rec@prec: 0.9747 - val_loss: 1.9555 - val_f1: 0.6135 - val_rec@prec: 0.4315\n",
            "Epoch 8/10\n",
            "43/43 [==============================] - 25s 590ms/step - loss: 0.1967 - f1: 0.9489 - rec@prec: 0.9792 - val_loss: 1.9801 - val_f1: 0.6326 - val_rec@prec: 0.4644\n",
            "Epoch 9/10\n",
            "43/43 [==============================] - 25s 590ms/step - loss: 0.1521 - f1: 0.9639 - rec@prec: 0.9861 - val_loss: 2.1021 - val_f1: 0.6285 - val_rec@prec: 0.4306\n",
            "Epoch 10/10\n",
            "43/43 [==============================] - 25s 591ms/step - loss: 0.1318 - f1: 0.9690 - rec@prec: 0.9885 - val_loss: 2.2121 - val_f1: 0.6119 - val_rec@prec: 0.4405\n",
            "F1: \n",
            "val =  0.6118516325950623 train =  0.9690437316894531\n"
          ]
        },
        {
          "output_type": "display_data",
          "data": {
            "text/plain": [
              "<Figure size 432x288 with 1 Axes>"
            ],
            "image/png": "[encoded data removed]"
          },
          "metadata": {
            "needs_background": "light"
          }
        }
      ]
    },
    {
      "cell_type": "markdown",
      "source": [
        ""
      ],
      "metadata": {
        "id": "tUEjlIuQ2c7B"
      },
      "id": "tUEjlIuQ2c7B"
    },
    {
      "cell_type": "markdown",
      "source": [
        "Лучше всего себя показала модель с 1 GRU и 1 LSTM слоем"
      ],
      "metadata": {
        "id": "jNCqefBUaQsM"
      },
      "id": "jNCqefBUaQsM"
    },
    {
      "cell_type": "markdown",
      "id": "ed5d6eea",
      "metadata": {
        "id": "ed5d6eea"
      },
      "source": [
        "## Задание 2 (6 баллов)\n"
      ]
    },
    {
      "cell_type": "markdown",
      "id": "5c2c07cf",
      "metadata": {
        "id": "5c2c07cf"
      },
      "source": [
        "На данных википедии (wikiann) обучите 2 модели:  \n",
        "1) модель в которой будут использованы предобученные эмбединги слов и несколько BILSTM слоев. \n",
        "1) модель в которой будут использованы предобученные эмбединги слов и несколько BIGRU слоев. \n",
        "\n",
        "Сравните качество по метрикам. Также придумайте несколько сложных примеров и проверьте, какие сущности определяет каждая из моделей."
      ]
    },
    {
      "cell_type": "code",
      "execution_count": 139,
      "id": "fb704b1b",
      "metadata": {
        "id": "fb704b1b",
        "colab": {
          "base_uri": "https://localhost:8080/"
        },
        "outputId": "f04630b1-115b-4d42-a44f-dde83bf1249e"
      },
      "outputs": [
        {
          "output_type": "stream",
          "name": "stdout",
          "text": [
            "Requirement already satisfied: navec in /usr/local/lib/python3.7/dist-packages (0.10.0)\n",
            "Requirement already satisfied: numpy in /usr/local/lib/python3.7/dist-packages (from navec) (1.21.6)\n"
          ]
        }
      ],
      "source": [
        "! pip install navec"
      ]
    },
    {
      "cell_type": "code",
      "source": [
        "! pip install slovnet"
      ],
      "metadata": {
        "colab": {
          "base_uri": "https://localhost:8080/"
        },
        "id": "ZVRdboFK5IV-",
        "outputId": "17287942-1ca2-4674-a813-4da170f91dcf"
      },
      "id": "ZVRdboFK5IV-",
      "execution_count": 140,
      "outputs": [
        {
          "output_type": "stream",
          "name": "stdout",
          "text": [
            "Requirement already satisfied: slovnet in /usr/local/lib/python3.7/dist-packages (0.5.0)\n",
            "Requirement already satisfied: navec in /usr/local/lib/python3.7/dist-packages (from slovnet) (0.10.0)\n",
            "Requirement already satisfied: numpy in /usr/local/lib/python3.7/dist-packages (from slovnet) (1.21.6)\n",
            "Requirement already satisfied: razdel in /usr/local/lib/python3.7/dist-packages (from slovnet) (0.5.0)\n"
          ]
        }
      ]
    },
    {
      "cell_type": "code",
      "execution_count": 141,
      "id": "24b4e4aa",
      "metadata": {
        "id": "24b4e4aa"
      },
      "outputs": [],
      "source": [
        "from navec import Navec\n",
        "import torch\n",
        "from slovnet.model.emb import NavecEmbedding\n",
        "from datasets import load_dataset\n",
        "\n",
        "path = 'navec_news_v1_1B_250K_300d_100q.tar'\n",
        "navec = Navec.load(path)"
      ]
    },
    {
      "cell_type": "code",
      "source": [
        "dataset = load_dataset(\"wikiann\", 'ru')"
      ],
      "metadata": {
        "colab": {
          "base_uri": "https://localhost:8080/",
          "height": 66,
          "referenced_widgets": [
            "bb838ada89e540aeb2e09913780bafab",
            "b147007023c84e37829a218c0c55be72",
            "c3267fc53b6f4c85b745f700d1c29914",
            "ae275984d9964ffab686ec9568be78fc",
            "9d90258ddce74d978d5315035520e589",
            "2edd19bc0ec3428dbf5c267d23980eaa",
            "d229557feb9d4160bfc0edf816364eca",
            "d9b9c7ca8029478ebd66278b1961d001",
            "c05566740abd4953bca1b584c51de68f",
            "36e5b9f306714cbf887a7282874f1ea9",
            "696694bd0d9042d283f83333cddfd121"
          ]
        },
        "id": "qNiOBGNv5qve",
        "outputId": "d55d6280-153d-48cd-ed02-30dab133dd5a"
      },
      "id": "qNiOBGNv5qve",
      "execution_count": 142,
      "outputs": [
        {
          "output_type": "stream",
          "name": "stderr",
          "text": [
            "Reusing dataset wikiann (/root/.cache/huggingface/datasets/wikiann/ru/1.1.0/4bfd4fe4468ab78bb6e096968f61fab7a888f44f9d3371c2f3fea7e74a5a354e)\n"
          ]
        },
        {
          "output_type": "display_data",
          "data": {
            "text/plain": [
              "  0%|          | 0/3 [00:00<?, ?it/s]"
            ],
            "application/vnd.jupyter.widget-view+json": {
              "version_major": 2,
              "version_minor": 0,
              "model_id": "bb838ada89e540aeb2e09913780bafab"
            }
          },
          "metadata": {}
        }
      ]
    },
    {
      "cell_type": "code",
      "source": [
        "vocab = Counter()\n",
        "\n",
        "for sent in dataset['train']['tokens']:\n",
        "  vocab.update([x.lower() for x in sent])\n",
        "word2id = {'<pad>':0, '<unk>':1}\n",
        "for word in vocab:\n",
        "    word2id[word] = len(word2id)\n",
        "id2word = {i:word for word, i in word2id.items()}\n",
        "\n",
        "\n",
        "X = []\n",
        "for sent in dataset['train']['tokens']:\n",
        "    tokens = [w.lower() for w in sent]\n",
        "    ids = [word2id.get(token, 1) for token in tokens]\n",
        "    X.append(ids)\n",
        "X_test = []\n",
        "for sent in dataset['test']['tokens']:\n",
        "    tokens = [w.lower() for w in sent]\n",
        "    ids = [word2id.get(token, 1) for token in tokens]\n",
        "    X_test.append(ids)\n",
        "\n",
        "\n",
        "MAX_LEN = max(len(x) for x in X)\n",
        "X = tf.keras.preprocessing.sequence.pad_sequences(X, maxlen=MAX_LEN, padding='post')\n",
        "X_test = tf.keras.preprocessing.sequence.pad_sequences(X_test, maxlen=MAX_LEN, padding='post')\n",
        "\n",
        "id2labels = {0:'O', 1:'B-PER', 2:'I-PER', 3:'B-ORG', 4:'I-ORG', 5: 'B-LOC', 6:'I-LOC', 7:'<pad>'}\n",
        "label2id = {v:k for k,v in id2labels.items()} \n",
        "y = tf.keras.preprocessing.sequence.pad_sequences(dataset['train']['ner_tags'], value=7,\n",
        "                                                  maxlen=MAX_LEN,  padding='post')\n",
        "y_test = tf.keras.preprocessing.sequence.pad_sequences(dataset['test']['ner_tags'], value=7,\n",
        "                                                       maxlen=MAX_LEN,  padding='post')"
      ],
      "metadata": {
        "id": "JbzwsS5kJj4_"
      },
      "id": "JbzwsS5kJj4_",
      "execution_count": 143,
      "outputs": []
    },
    {
      "cell_type": "markdown",
      "source": [
        "# предобученные эмбединги слов и несколько BILSTM слоев"
      ],
      "metadata": {
        "id": "zvHfSASo_qgH"
      },
      "id": "zvHfSASo_qgH"
    },
    {
      "cell_type": "code",
      "source": [
        "emb = NavecEmbedding(navec)\n",
        "ebmedding_matrix = np.zeros((len(word2id), 300))\n",
        "\n",
        "for word, i in word2id.items():\n",
        "\n",
        "    try:\n",
        "        idx = navec.vocab[word]\n",
        "        ebmedding_matrix[i]  = emb(np.array(idx))\n",
        "    \n",
        "    \n",
        "    except KeyError:\n",
        "      idx = navec.vocab['<unk>']\n",
        "      ebmedding_matrix[i]  = emb(np.array(idx))\n",
        "      \n"
      ],
      "metadata": {
        "id": "3cmVw1C4OrHs"
      },
      "id": "3cmVw1C4OrHs",
      "execution_count": 144,
      "outputs": []
    },
    {
      "cell_type": "code",
      "source": [
        "inputs = tf.keras.layers.Input(shape=(MAX_LEN,)) \n",
        "\n",
        "embeddings = tf.keras.layers.Embedding(len(word2id),\n",
        "                        300,\n",
        "                        weights=[ebmedding_matrix],\n",
        "                        input_length=MAX_LEN,\n",
        "                        trainable=False)(inputs)"
      ],
      "metadata": {
        "id": "WLpTVw2VRlOE"
      },
      "id": "WLpTVw2VRlOE",
      "execution_count": 146,
      "outputs": []
    },
    {
      "cell_type": "code",
      "source": [
        "lstm_1 = tf.keras.layers.Bidirectional(tf.keras.layers.LSTM(128, return_sequences=True))(embeddings)\n",
        "lstm_2 = tf.keras.layers.Bidirectional(tf.keras.layers.LSTM(128, return_sequences=True))(lstm_1)\n",
        "lstm_3 = tf.keras.layers.Bidirectional(tf.keras.layers.LSTM(128, return_sequences=True))(lstm_2)\n",
        "\n",
        "outputs = tf.keras.layers.Dense(len(label2id), activation='softmax')(lstm_3)\n",
        "\n",
        "model = tf.keras.Model(inputs=inputs, outputs=outputs)\n",
        "model.compile(optimizer='adam',\n",
        "              loss='sparse_categorical_crossentropy', \n",
        "             metrics=['accuracy'])\n",
        "\n",
        "model.fit(X, y, \n",
        "          validation_data=(X_test, y_test),\n",
        "          batch_size=128,\n",
        "         epochs=5)"
      ],
      "metadata": {
        "colab": {
          "base_uri": "https://localhost:8080/"
        },
        "id": "Xo0uf-7GSY-d",
        "outputId": "45ca3845-8cee-4123-fe75-eb75aa9495a6"
      },
      "id": "Xo0uf-7GSY-d",
      "execution_count": 147,
      "outputs": [
        {
          "output_type": "stream",
          "name": "stdout",
          "text": [
            "Epoch 1/5\n",
            "157/157 [==============================] - 17s 60ms/step - loss: 0.2191 - accuracy: 0.9414 - val_loss: 0.1038 - val_accuracy: 0.9657\n",
            "Epoch 2/5\n",
            "157/157 [==============================] - 7s 45ms/step - loss: 0.0796 - accuracy: 0.9743 - val_loss: 0.0704 - val_accuracy: 0.9785\n",
            "Epoch 3/5\n",
            "157/157 [==============================] - 7s 42ms/step - loss: 0.0549 - accuracy: 0.9830 - val_loss: 0.0596 - val_accuracy: 0.9813\n",
            "Epoch 4/5\n",
            "157/157 [==============================] - 7s 45ms/step - loss: 0.0462 - accuracy: 0.9855 - val_loss: 0.0572 - val_accuracy: 0.9830\n",
            "Epoch 5/5\n",
            "157/157 [==============================] - 10s 64ms/step - loss: 0.0407 - accuracy: 0.9873 - val_loss: 0.0578 - val_accuracy: 0.9813\n"
          ]
        },
        {
          "output_type": "execute_result",
          "data": {
            "text/plain": [
              "<keras.callbacks.History at 0x7f4864c42590>"
            ]
          },
          "metadata": {},
          "execution_count": 147
        }
      ]
    },
    {
      "cell_type": "code",
      "source": [
        "print(model.history.history.keys())\n",
        "plt.plot(model.history.history['accuracy'])\n",
        "plt.plot(model.history.history['val_accuracy'])\n",
        "plt.title('model acc')\n",
        "plt.ylabel('accuracy')\n",
        "plt.xlabel('epoch')\n",
        "plt.legend(['train', 'val'], loc='upper left')\n",
        "plt.show()"
      ],
      "metadata": {
        "colab": {
          "base_uri": "https://localhost:8080/",
          "height": 312
        },
        "id": "ioNTWuHmSshF",
        "outputId": "7a7b2dfa-e7d7-4d25-d7d3-1e852feb6eff"
      },
      "id": "ioNTWuHmSshF",
      "execution_count": 149,
      "outputs": [
        {
          "output_type": "stream",
          "name": "stdout",
          "text": [
            "dict_keys(['loss', 'accuracy', 'val_loss', 'val_accuracy'])\n"
          ]
        },
        {
          "output_type": "display_data",
          "data": {
            "text/plain": [
              "<Figure size 432x288 with 1 Axes>"
            ],
            "image/png": "[encoded data removed]"
          },
          "metadata": {
            "needs_background": "light"
          }
        }
      ]
    },
    {
      "cell_type": "code",
      "source": [
        ""
      ],
      "metadata": {
        "id": "thbtGmbRTORM"
      },
      "id": "thbtGmbRTORM",
      "execution_count": null,
      "outputs": []
    },
    {
      "cell_type": "markdown",
      "source": [
        "# предобученные эмбединги слов и несколько BIGRU слоев"
      ],
      "metadata": {
        "id": "5DMFkTrTTTzm"
      },
      "id": "5DMFkTrTTTzm"
    },
    {
      "cell_type": "code",
      "source": [
        "inputs = tf.keras.layers.Input(shape=(MAX_LEN,)) \n",
        "\n",
        "embeddings = tf.keras.layers.Embedding(len(word2id),\n",
        "                        300,\n",
        "                        weights=[ebmedding_matrix],\n",
        "                        input_length=MAX_LEN,\n",
        "                        trainable=False)(inputs)\n",
        "gru_1 = tf.keras.layers.Bidirectional(tf.keras.layers.GRU(128, return_sequences=True))(embeddings)\n",
        "gru_2 = tf.keras.layers.Bidirectional(tf.keras.layers.GRU(128, return_sequences=True))(gru_1)\n",
        "gru_3 = tf.keras.layers.Bidirectional(tf.keras.layers.GRU(128, return_sequences=True))(gru_2)\n",
        "\n",
        "outputs = tf.keras.layers.Dense(len(label2id), activation='softmax')(gru_3)\n",
        "\n",
        "model2 = tf.keras.Model(inputs=inputs, outputs=outputs)\n",
        "model2.compile(optimizer='adam',\n",
        "              loss='sparse_categorical_crossentropy', \n",
        "             metrics=['accuracy'])\n",
        "\n",
        "model2.fit(X, y, \n",
        "          validation_data=(X_test, y_test),\n",
        "          batch_size=128,\n",
        "         epochs=5)"
      ],
      "metadata": {
        "colab": {
          "base_uri": "https://localhost:8080/"
        },
        "id": "R1kiGflXKrVh",
        "outputId": "1e781f15-5b98-4af2-d38d-523ba547ef35"
      },
      "id": "R1kiGflXKrVh",
      "execution_count": 150,
      "outputs": [
        {
          "output_type": "stream",
          "name": "stdout",
          "text": [
            "Epoch 1/5\n",
            "157/157 [==============================] - 19s 67ms/step - loss: 0.1869 - accuracy: 0.9546 - val_loss: 0.0795 - val_accuracy: 0.9750\n",
            "Epoch 2/5\n",
            "157/157 [==============================] - 8s 49ms/step - loss: 0.0632 - accuracy: 0.9802 - val_loss: 0.0634 - val_accuracy: 0.9798\n",
            "Epoch 3/5\n",
            "157/157 [==============================] - 6s 39ms/step - loss: 0.0510 - accuracy: 0.9839 - val_loss: 0.0593 - val_accuracy: 0.9812\n",
            "Epoch 4/5\n",
            "157/157 [==============================] - 6s 37ms/step - loss: 0.0436 - accuracy: 0.9863 - val_loss: 0.0539 - val_accuracy: 0.9833\n",
            "Epoch 5/5\n",
            "157/157 [==============================] - 6s 40ms/step - loss: 0.0384 - accuracy: 0.9879 - val_loss: 0.0523 - val_accuracy: 0.9838\n"
          ]
        },
        {
          "output_type": "execute_result",
          "data": {
            "text/plain": [
              "<keras.callbacks.History at 0x7f452b6d6650>"
            ]
          },
          "metadata": {},
          "execution_count": 150
        }
      ]
    },
    {
      "cell_type": "code",
      "source": [
        "print(model2.history.history.keys())\n",
        "plt.plot(model2.history.history['accuracy'])\n",
        "plt.plot(model2.history.history['val_accuracy'])\n",
        "plt.title('model acc')\n",
        "plt.ylabel('accuracy')\n",
        "plt.xlabel('epoch')\n",
        "plt.legend(['train', 'val'], loc='upper left')\n",
        "plt.show()"
      ],
      "metadata": {
        "colab": {
          "base_uri": "https://localhost:8080/",
          "height": 312
        },
        "id": "LYx94T48TmCy",
        "outputId": "1ef3fea7-a14b-4edf-f68f-1d66b056bd21"
      },
      "id": "LYx94T48TmCy",
      "execution_count": 151,
      "outputs": [
        {
          "output_type": "stream",
          "name": "stdout",
          "text": [
            "dict_keys(['loss', 'accuracy', 'val_loss', 'val_accuracy'])\n"
          ]
        },
        {
          "output_type": "display_data",
          "data": {
            "text/plain": [
              "<Figure size 432x288 with 1 Axes>"
            ],
            "image/png": "[encoded data removed]"
          },
          "metadata": {
            "needs_background": "light"
          }
        }
      ]
    },
    {
      "cell_type": "code",
      "source": [
        "import re\n",
        "\n",
        "def tokenize(text, word2id):\n",
        "    # токенизирует и переводит в индексы\n",
        "    tokens = re.findall('\\w+|[^\\w\\s]+', text)\n",
        "    ids = [word2id.get(token.lower(), 1) for token in tokens]\n",
        "    return tokens, ids\n",
        "\n",
        "def pred2tags(pred, id2label, length):\n",
        "    # декодирует индексы в части речи\n",
        "    # length нужно чтобы откидывать паддинги или некорректные предсказания\n",
        "    pred = pred.argmax(2)[0, :length]\n",
        "    labels = [id2label[l] for l in pred]\n",
        "    return labels\n",
        "\n",
        "def label_seq(text, word2id, id2label, max_len, model):\n",
        "    tokens, ids = tokenize(text, word2id)\n",
        "    pred = model.predict(tf.keras.preprocessing.sequence.pad_sequences([ids], \n",
        "                                                                       maxlen=max_len, \n",
        "                                                                       padding='post'))\n",
        "    labels = pred2tags(pred, id2label, len(ids))\n",
        "    \n",
        "    return list(zip(tokens, labels))"
      ],
      "metadata": {
        "id": "6klNNBNiTsCk"
      },
      "id": "6klNNBNiTsCk",
      "execution_count": 152,
      "outputs": []
    },
    {
      "cell_type": "code",
      "source": [
        "sentence = 'Алексей сказал Светлане, чтобы она собиралась на поезд в Москву.'\n",
        "print('BILSTM')\n",
        "print(label_seq(sentence, word2id, id2labels, MAX_LEN, model))\n",
        "print('BIGRU')\n",
        "print(label_seq(sentence, word2id, id2labels, MAX_LEN, model2))\n"
      ],
      "metadata": {
        "colab": {
          "base_uri": "https://localhost:8080/"
        },
        "id": "JHcFvV7ZT8oM",
        "outputId": "537091e8-0065-4f09-8ecb-715a0248800c"
      },
      "id": "JHcFvV7ZT8oM",
      "execution_count": 154,
      "outputs": [
        {
          "output_type": "stream",
          "name": "stdout",
          "text": [
            "BILSTM\n",
            "[('Алексей', 'B-PER'), ('сказал', 'I-PER'), ('Светлане', 'I-PER'), (',', 'O'), ('чтобы', 'O'), ('она', 'O'), ('собиралась', 'O'), ('на', 'O'), ('поезд', 'O'), ('в', 'O'), ('Москву', 'B-LOC'), ('.', 'O')]\n",
            "BIGRU\n",
            "[('Алексей', 'B-PER'), ('сказал', 'I-PER'), ('Светлане', 'O'), (',', 'O'), ('чтобы', 'O'), ('она', 'O'), ('собиралась', 'O'), ('на', 'O'), ('поезд', 'O'), ('в', 'O'), ('Москву', 'B-LOC'), ('.', 'O')]\n"
          ]
        }
      ]
    },
    {
      "cell_type": "code",
      "source": [
        "sentence = 'Иван да Марья гуляли в Коломенском парке.'\n",
        "print('BILSTM')\n",
        "print(label_seq(sentence, word2id, id2labels, MAX_LEN, model))\n",
        "print('BIGRU')\n",
        "print(label_seq(sentence, word2id, id2labels, MAX_LEN, model2))"
      ],
      "metadata": {
        "colab": {
          "base_uri": "https://localhost:8080/"
        },
        "id": "BqRKWaovUhM9",
        "outputId": "7758c556-035e-4657-f2b8-afae904ce451"
      },
      "id": "BqRKWaovUhM9",
      "execution_count": 155,
      "outputs": [
        {
          "output_type": "stream",
          "name": "stdout",
          "text": [
            "BILSTM\n",
            "[('Иван', 'B-PER'), ('да', 'I-PER'), ('Марья', 'I-PER'), ('гуляли', 'I-PER'), ('в', 'O'), ('Коломенском', 'O'), ('парке', 'O'), ('.', 'O')]\n",
            "BIGRU\n",
            "[('Иван', 'B-PER'), ('да', 'I-PER'), ('Марья', 'O'), ('гуляли', 'O'), ('в', 'O'), ('Коломенском', 'O'), ('парке', 'O'), ('.', 'O')]\n"
          ]
        }
      ]
    },
    {
      "cell_type": "markdown",
      "source": [
        "Все выглядит так как будто бы BILSTM показывает результаты немного лучше, в частности в распознавании имен, но надо проверить на тестовых данных"
      ],
      "metadata": {
        "id": "AhJkJNceVB4p"
      },
      "id": "AhJkJNceVB4p"
    },
    {
      "cell_type": "code",
      "source": [
        "from sklearn.metrics import classification_report"
      ],
      "metadata": {
        "id": "tKz6odceVzjO"
      },
      "id": "tKz6odceVzjO",
      "execution_count": 158,
      "outputs": []
    },
    {
      "cell_type": "code",
      "source": [
        "pred = model.predict(X_test)\n",
        "print(classification_report(y_test.reshape(-1), np.argmax(pred, axis=2).reshape(-1),\n",
        "                                                                     target_names=list(id2labels.values())))"
      ],
      "metadata": {
        "colab": {
          "base_uri": "https://localhost:8080/"
        },
        "id": "ScxA12gkViKz",
        "outputId": "2f5fd550-66a9-4f1d-e1de-a2540c18a2a3"
      },
      "id": "ScxA12gkViKz",
      "execution_count": 175,
      "outputs": [
        {
          "output_type": "stream",
          "name": "stdout",
          "text": [
            "              precision    recall  f1-score   support\n",
            "\n",
            "           O       0.92      0.92      0.92     40480\n",
            "       B-PER       0.82      0.85      0.83      3542\n",
            "       I-PER       0.83      0.92      0.87      7544\n",
            "       B-ORG       0.67      0.64      0.65      4074\n",
            "       I-ORG       0.76      0.76      0.76      8008\n",
            "       B-LOC       0.80      0.70      0.75      4560\n",
            "       I-LOC       0.77      0.74      0.75      3060\n",
            "       <pad>       1.00      1.00      1.00    468732\n",
            "\n",
            "    accuracy                           0.98    540000\n",
            "   macro avg       0.82      0.81      0.82    540000\n",
            "weighted avg       0.98      0.98      0.98    540000\n",
            "\n"
          ]
        }
      ]
    },
    {
      "cell_type": "code",
      "source": [
        "pred = model2.predict(X_test)\n",
        "print(classification_report(y_test.reshape(-1), np.argmax(pred, axis=2).reshape(-1),\n",
        "                                                                     target_names=list(id2labels.values())))"
      ],
      "metadata": {
        "colab": {
          "base_uri": "https://localhost:8080/"
        },
        "id": "-LvaVWTaUyCx",
        "outputId": "7cd6ba01-89de-475c-cecf-f6a714543c42"
      },
      "id": "-LvaVWTaUyCx",
      "execution_count": 176,
      "outputs": [
        {
          "output_type": "stream",
          "name": "stdout",
          "text": [
            "              precision    recall  f1-score   support\n",
            "\n",
            "           O       0.89      0.97      0.93     40480\n",
            "       B-PER       0.89      0.83      0.86      3542\n",
            "       I-PER       0.93      0.88      0.91      7544\n",
            "       B-ORG       0.78      0.60      0.68      4074\n",
            "       I-ORG       0.88      0.69      0.77      8008\n",
            "       B-LOC       0.75      0.76      0.76      4560\n",
            "       I-LOC       0.80      0.74      0.77      3060\n",
            "       <pad>       1.00      1.00      1.00    468732\n",
            "\n",
            "    accuracy                           0.98    540000\n",
            "   macro avg       0.87      0.81      0.83    540000\n",
            "weighted avg       0.98      0.98      0.98    540000\n",
            "\n"
          ]
        }
      ]
    },
    {
      "cell_type": "markdown",
      "source": [
        "Судя по тестовым данным, у BIGRU результаты лучше"
      ],
      "metadata": {
        "id": "FL8BX_GbZ4x9"
      },
      "id": "FL8BX_GbZ4x9"
    }
  ],
  "metadata": {
    "kernelspec": {
      "display_name": "Python 3 (ipykernel)",
      "language": "python",
      "name": "python3"
    },
    "language_info": {
      "codemirror_mode": {
        "name": "ipython",
        "version": 3
      },
      "file_extension": ".py",
      "mimetype": "text/x-python",
      "name": "python",
      "nbconvert_exporter": "python",
      "pygments_lexer": "ipython3",
      "version": "3.8.12"
    },
    "colab": {
      "name": "homework8",
      "provenance": [],
      "toc_visible": true,
      "collapsed_sections": []
    },
    "accelerator": "GPU",
    "widgets": {
      "application/vnd.jupyter.widget-state+json": {
        "bb838ada89e540aeb2e09913780bafab": {
          "model_module": "@jupyter-widgets/controls",
          "model_name": "HBoxModel",
          "model_module_version": "1.5.0",
          "state": {
            "_dom_classes": [],
            "_model_module": "@jupyter-widgets/controls",
            "_model_module_version": "1.5.0",
            "_model_name": "HBoxModel",
            "_view_count": null,
            "_view_module": "@jupyter-widgets/controls",
            "_view_module_version": "1.5.0",
            "_view_name": "HBoxView",
            "box_style": "",
            "children": [
              "IPY_MODEL_b147007023c84e37829a218c0c55be72",
              "IPY_MODEL_c3267fc53b6f4c85b745f700d1c29914",
              "IPY_MODEL_ae275984d9964ffab686ec9568be78fc"
            ],
            "layout": "IPY_MODEL_9d90258ddce74d978d5315035520e589"
          }
        },
        "b147007023c84e37829a218c0c55be72": {
          "model_module": "@jupyter-widgets/controls",
          "model_name": "HTMLModel",
          "model_module_version": "1.5.0",
          "state": {
            "_dom_classes": [],
            "_model_module": "@jupyter-widgets/controls",
            "_model_module_version": "1.5.0",
            "_model_name": "HTMLModel",
            "_view_count": null,
            "_view_module": "@jupyter-widgets/controls",
            "_view_module_version": "1.5.0",
            "_view_name": "HTMLView",
            "description": "",
            "description_tooltip": null,
            "layout": "IPY_MODEL_2edd19bc0ec3428dbf5c267d23980eaa",
            "placeholder": "​",
            "style": "IPY_MODEL_d229557feb9d4160bfc0edf816364eca",
            "value": "100%"
          }
        },
        "c3267fc53b6f4c85b745f700d1c29914": {
          "model_module": "@jupyter-widgets/controls",
          "model_name": "FloatProgressModel",
          "model_module_version": "1.5.0",
          "state": {
            "_dom_classes": [],
            "_model_module": "@jupyter-widgets/controls",
            "_model_module_version": "1.5.0",
            "_model_name": "FloatProgressModel",
            "_view_count": null,
            "_view_module": "@jupyter-widgets/controls",
            "_view_module_version": "1.5.0",
            "_view_name": "ProgressView",
            "bar_style": "success",
            "description": "",
            "description_tooltip": null,
            "layout": "IPY_MODEL_d9b9c7ca8029478ebd66278b1961d001",
            "max": 3,
            "min": 0,
            "orientation": "horizontal",
            "style": "IPY_MODEL_c05566740abd4953bca1b584c51de68f",
            "value": 3
          }
        },
        "ae275984d9964ffab686ec9568be78fc": {
          "model_module": "@jupyter-widgets/controls",
          "model_name": "HTMLModel",
          "model_module_version": "1.5.0",
          "state": {
            "_dom_classes": [],
            "_model_module": "@jupyter-widgets/controls",
            "_model_module_version": "1.5.0",
            "_model_name": "HTMLModel",
            "_view_count": null,
            "_view_module": "@jupyter-widgets/controls",
            "_view_module_version": "1.5.0",
            "_view_name": "HTMLView",
            "description": "",
            "description_tooltip": null,
            "layout": "IPY_MODEL_36e5b9f306714cbf887a7282874f1ea9",
            "placeholder": "​",
            "style": "IPY_MODEL_696694bd0d9042d283f83333cddfd121",
            "value": " 3/3 [00:00&lt;00:00, 68.60it/s]"
          }
        },
        "9d90258ddce74d978d5315035520e589": {
          "model_module": "@jupyter-widgets/base",
          "model_name": "LayoutModel",
          "model_module_version": "1.2.0",
          "state": {
            "_model_module": "@jupyter-widgets/base",
            "_model_module_version": "1.2.0",
            "_model_name": "LayoutModel",
            "_view_count": null,
            "_view_module": "@jupyter-widgets/base",
            "_view_module_version": "1.2.0",
            "_view_name": "LayoutView",
            "align_content": null,
            "align_items": null,
            "align_self": null,
            "border": null,
            "bottom": null,
            "display": null,
            "flex": null,
            "flex_flow": null,
            "grid_area": null,
            "grid_auto_columns": null,
            "grid_auto_flow": null,
            "grid_auto_rows": null,
            "grid_column": null,
            "grid_gap": null,
            "grid_row": null,
            "grid_template_areas": null,
            "grid_template_columns": null,
            "grid_template_rows": null,
            "height": null,
            "justify_content": null,
            "justify_items": null,
            "left": null,
            "margin": null,
            "max_height": null,
            "max_width": null,
            "min_height": null,
            "min_width": null,
            "object_fit": null,
            "object_position": null,
            "order": null,
            "overflow": null,
            "overflow_x": null,
            "overflow_y": null,
            "padding": null,
            "right": null,
            "top": null,
            "visibility": null,
            "width": null
          }
        },
        "2edd19bc0ec3428dbf5c267d23980eaa": {
          "model_module": "@jupyter-widgets/base",
          "model_name": "LayoutModel",
          "model_module_version": "1.2.0",
          "state": {
            "_model_module": "@jupyter-widgets/base",
            "_model_module_version": "1.2.0",
            "_model_name": "LayoutModel",
            "_view_count": null,
            "_view_module": "@jupyter-widgets/base",
            "_view_module_version": "1.2.0",
            "_view_name": "LayoutView",
            "align_content": null,
            "align_items": null,
            "align_self": null,
            "border": null,
            "bottom": null,
            "display": null,
            "flex": null,
            "flex_flow": null,
            "grid_area": null,
            "grid_auto_columns": null,
            "grid_auto_flow": null,
            "grid_auto_rows": null,
            "grid_column": null,
            "grid_gap": null,
            "grid_row": null,
            "grid_template_areas": null,
            "grid_template_columns": null,
            "grid_template_rows": null,
            "height": null,
            "justify_content": null,
            "justify_items": null,
            "left": null,
            "margin": null,
            "max_height": null,
            "max_width": null,
            "min_height": null,
            "min_width": null,
            "object_fit": null,
            "object_position": null,
            "order": null,
            "overflow": null,
            "overflow_x": null,
            "overflow_y": null,
            "padding": null,
            "right": null,
            "top": null,
            "visibility": null,
            "width": null
          }
        },
        "d229557feb9d4160bfc0edf816364eca": {
          "model_module": "@jupyter-widgets/controls",
          "model_name": "DescriptionStyleModel",
          "model_module_version": "1.5.0",
          "state": {
            "_model_module": "@jupyter-widgets/controls",
            "_model_module_version": "1.5.0",
            "_model_name": "DescriptionStyleModel",
            "_view_count": null,
            "_view_module": "@jupyter-widgets/base",
            "_view_module_version": "1.2.0",
            "_view_name": "StyleView",
            "description_width": ""
          }
        },
        "d9b9c7ca8029478ebd66278b1961d001": {
          "model_module": "@jupyter-widgets/base",
          "model_name": "LayoutModel",
          "model_module_version": "1.2.0",
          "state": {
            "_model_module": "@jupyter-widgets/base",
            "_model_module_version": "1.2.0",
            "_model_name": "LayoutModel",
            "_view_count": null,
            "_view_module": "@jupyter-widgets/base",
            "_view_module_version": "1.2.0",
            "_view_name": "LayoutView",
            "align_content": null,
            "align_items": null,
            "align_self": null,
            "border": null,
            "bottom": null,
            "display": null,
            "flex": null,
            "flex_flow": null,
            "grid_area": null,
            "grid_auto_columns": null,
            "grid_auto_flow": null,
            "grid_auto_rows": null,
            "grid_column": null,
            "grid_gap": null,
            "grid_row": null,
            "grid_template_areas": null,
            "grid_template_columns": null,
            "grid_template_rows": null,
            "height": null,
            "justify_content": null,
            "justify_items": null,
            "left": null,
            "margin": null,
            "max_height": null,
            "max_width": null,
            "min_height": null,
            "min_width": null,
            "object_fit": null,
            "object_position": null,
            "order": null,
            "overflow": null,
            "overflow_x": null,
            "overflow_y": null,
            "padding": null,
            "right": null,
            "top": null,
            "visibility": null,
            "width": null
          }
        },
        "c05566740abd4953bca1b584c51de68f": {
          "model_module": "@jupyter-widgets/controls",
          "model_name": "ProgressStyleModel",
          "model_module_version": "1.5.0",
          "state": {
            "_model_module": "@jupyter-widgets/controls",
            "_model_module_version": "1.5.0",
            "_model_name": "ProgressStyleModel",
            "_view_count": null,
            "_view_module": "@jupyter-widgets/base",
            "_view_module_version": "1.2.0",
            "_view_name": "StyleView",
            "bar_color": null,
            "description_width": ""
          }
        },
        "36e5b9f306714cbf887a7282874f1ea9": {
          "model_module": "@jupyter-widgets/base",
          "model_name": "LayoutModel",
          "model_module_version": "1.2.0",
          "state": {
            "_model_module": "@jupyter-widgets/base",
            "_model_module_version": "1.2.0",
            "_model_name": "LayoutModel",
            "_view_count": null,
            "_view_module": "@jupyter-widgets/base",
            "_view_module_version": "1.2.0",
            "_view_name": "LayoutView",
            "align_content": null,
            "align_items": null,
            "align_self": null,
            "border": null,
            "bottom": null,
            "display": null,
            "flex": null,
            "flex_flow": null,
            "grid_area": null,
            "grid_auto_columns": null,
            "grid_auto_flow": null,
            "grid_auto_rows": null,
            "grid_column": null,
            "grid_gap": null,
            "grid_row": null,
            "grid_template_areas": null,
            "grid_template_columns": null,
            "grid_template_rows": null,
            "height": null,
            "justify_content": null,
            "justify_items": null,
            "left": null,
            "margin": null,
            "max_height": null,
            "max_width": null,
            "min_height": null,
            "min_width": null,
            "object_fit": null,
            "object_position": null,
            "order": null,
            "overflow": null,
            "overflow_x": null,
            "overflow_y": null,
            "padding": null,
            "right": null,
            "top": null,
            "visibility": null,
            "width": null
          }
        },
        "696694bd0d9042d283f83333cddfd121": {
          "model_module": "@jupyter-widgets/controls",
          "model_name": "DescriptionStyleModel",
          "model_module_version": "1.5.0",
          "state": {
            "_model_module": "@jupyter-widgets/controls",
            "_model_module_version": "1.5.0",
            "_model_name": "DescriptionStyleModel",
            "_view_count": null,
            "_view_module": "@jupyter-widgets/base",
            "_view_module_version": "1.2.0",
            "_view_name": "StyleView",
            "description_width": ""
          }
        }
      }
    }
  },
  "nbformat": 4,
  "nbformat_minor": 5
}