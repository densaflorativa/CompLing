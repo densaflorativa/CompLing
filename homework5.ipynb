{
 "cells": [
  {
   "cell_type": "markdown",
   "metadata": {},
   "source": [
    "# Домашнее задание  № 5. Матричные разложения/Тематическое моделирование"
   ]
  },
  {
   "cell_type": "code",
   "execution_count": 11,
   "metadata": {
    "ExecuteTime": {
     "end_time": "2022-01-20T18:39:17.636159Z",
     "start_time": "2022-01-20T18:39:17.237413Z"
    },
    "collapsed": true
   },
   "outputs": [],
   "source": [
    "import gensim\n",
    "import pandas as pd\n",
    "import numpy as np\n",
    "from pymorphy2 import MorphAnalyzer\n",
    "import pyLDAvis\n",
    "from collections import Counter\n",
    "from string import punctuation\n",
    "from razdel import tokenize as razdel_tokenize\n",
    "from IPython.display import Image\n",
    "from IPython.core.display import HTML \n",
    "from sklearn.decomposition import TruncatedSVD, NMF, PCA, LatentDirichletAllocation\n",
    "from sklearn.manifold import TSNE\n",
    "from sklearn.feature_extraction.text import TfidfVectorizer, CountVectorizer, TfidfTransformer\n",
    "from sklearn.metrics.pairwise import cosine_distances\n",
    "from sklearn.ensemble import RandomForestClassifier, ExtraTreesClassifier\n",
    "from sklearn.metrics import accuracy_score, precision_score, recall_score, f1_score, confusion_matrix\n",
    "from sklearn.pipeline import Pipeline\n",
    "from sklearn.model_selection import KFold, StratifiedKFold\n",
    "from sklearn.linear_model import SGDClassifier\n",
    "from sklearn.neighbors import KNeighborsClassifier\n",
    "import warnings\n",
    "from matplotlib import pyplot as plt\n",
    "import seaborn as sns\n",
    "morph = MorphAnalyzer()\n",
    "warnings.filterwarnings(\"ignore\")"
   ]
  },
  {
   "cell_type": "code",
   "execution_count": 12,
   "metadata": {
    "ExecuteTime": {
     "end_time": "2022-01-20T18:39:53.746950Z",
     "start_time": "2022-01-20T18:39:53.686647Z"
    },
    "collapsed": true
   },
   "outputs": [],
   "source": [
    "# добавим лемматизацию\n",
    "def normalize(text):\n",
    "    normalized_text = [word.text.strip(punctuation) for word \\\n",
    "                                                            in razdel_tokenize(text)]\n",
    "    normalized_text = [word.lower() for word in normalized_text if word and len(word) < 20 ]\n",
    "    normalized_text = [morph.parse(word)[0].normal_form for word in normalized_text]\n",
    "    return ' '.join(normalized_text)"
   ]
  },
  {
   "cell_type": "markdown",
   "metadata": {},
   "source": [
    "### Задание № 1 (4 балла)"
   ]
  },
  {
   "cell_type": "markdown",
   "metadata": {},
   "source": [
    "Попробуйте матричные разложения с 5 классификаторами - SGDClassifier, KNeighborsClassifier,  RandomForest, ExtraTreesClassifier (про него подробнее почитайте в документации, он похож на RF). Используйте и NMF и SVD. Сравните результаты на кросс-валидации и выберите лучшее сочетание.\n",
    "\n",
    "В итоге у вас должно получиться, как минимум 10 моделей (два разложения на каждый классификатор). Используйте 1 и те же параметры кросс-валидации. Параметры векторизации, параметры K в матричных разложениях, параметры классификаторов могут быть разными между экспериментами."
   ]
  },
  {
   "cell_type": "markdown",
   "metadata": {},
   "source": [
    "Можете взять поменьше данных, если все будет обучаться слишком долго (не ставьте параметр K слишком большим в NMF, иначе точно будет слишком долго)"
   ]
  },
  {
   "cell_type": "code",
   "execution_count": null,
   "metadata": {
    "collapsed": true
   },
   "outputs": [],
   "source": [
    "data = pd.read_csv('avito_category_classification.csv')\n",
    "data['description_norm'] = data['description'].apply(normalize)"
   ]
  },
  {
   "cell_type": "code",
   "execution_count": 3,
   "metadata": {
    "ExecuteTime": {
     "end_time": "2022-01-19T20:54:04.096479Z",
     "start_time": "2022-01-19T20:54:03.989482Z"
    },
    "collapsed": true
   },
   "outputs": [],
   "source": [
    "def eval_table(X, y, pipeline, N=6):\n",
    "    labels = list(set(y))\n",
    "    fold_metrics = pd.DataFrame(index=labels)\n",
    "    errors = np.zeros((len(labels), len(labels)))\n",
    "    kfold = StratifiedKFold(n_splits=N, shuffle=True, )\n",
    "    \n",
    "    for i, (train_index, test_index) in enumerate(kfold.split(X, y)):\n",
    "        pipeline.fit(X[train_index], y[train_index])\n",
    "        preds = pipeline.predict(X[test_index])\n",
    "        \n",
    "        # записываем метрику и индекс фолда\n",
    "        fold_metrics[f'precision_{i}'] = precision_score(y[test_index], preds, labels=labels, average=None)\n",
    "        fold_metrics[f'recall_{i}'] = recall_score(y[test_index], preds, labels=labels, average=None)\n",
    "        fold_metrics[f'f1_{i}'] = f1_score(y[test_index], preds, labels=labels, average=None)\n",
    "        errors += confusion_matrix(y[test_index], preds, labels=labels, normalize='true')\n",
    "\n",
    "    result = pd.DataFrame(index=labels)\n",
    "    result['precision'] = fold_metrics[[f'precision_{i}' for i in range(N)]].mean(axis=1).round(2)\n",
    "    result['precision_std'] = fold_metrics[[f'precision_{i}' for i in range(N)]].std(axis=1).round(2)\n",
    "    \n",
    "    result['recall'] = fold_metrics[[f'recall_{i}' for i in range(N)]].mean(axis=1).round(2)\n",
    "    result['recall_std'] = fold_metrics[[f'recall_{i}' for i in range(N)]].std(axis=1).round(2)\n",
    "    \n",
    "    result['f1'] = fold_metrics[[f'f1_{i}' for i in range(N)]].mean(axis=1).round(2)\n",
    "    result['f1_std'] = fold_metrics[[f'f1_{i}' for i in range(N)]].std(axis=1).round(2)\n",
    "    \n",
    "    result.loc['mean'] = result.mean().round(2)\n",
    "    errors /= N\n",
    "    \n",
    "    return result, errors"
   ]
  },
  {
   "cell_type": "code",
   "execution_count": 4,
   "metadata": {
    "ExecuteTime": {
     "end_time": "2022-01-19T20:54:04.143485Z",
     "start_time": "2022-01-19T20:54:04.100485Z"
    },
    "collapsed": true
   },
   "outputs": [],
   "source": [
    "pipeline_svd_RF = Pipeline([\n",
    "    ('bow', CountVectorizer(tokenizer=lambda x: x.split(), ngram_range=(1,2), min_df=5, max_df=0.4)),\n",
    "    ('svd', TruncatedSVD(500)),\n",
    "    ('clf', RandomForestClassifier(n_estimators=100, max_depth=10))\n",
    "])\n",
    "pipeline_svd_SGDC = Pipeline([\n",
    "    ('bow', CountVectorizer(tokenizer=lambda x: x.split(), ngram_range=(1,2), min_df=5, max_df=0.4)),\n",
    "    ('svd', TruncatedSVD(500)),\n",
    "    ('clf', SGDClassifier(max_iter=1000, tol=1e-3))\n",
    "])\n",
    "pipeline_svd_KNC = Pipeline([\n",
    "    ('bow', CountVectorizer(tokenizer=lambda x: x.split(), ngram_range=(1,2), min_df=5, max_df=0.4)),\n",
    "    ('svd', TruncatedSVD(500)),\n",
    "    ('clf', KNeighborsClassifier())\n",
    "])\n",
    "pipeline_svd_ETC = Pipeline([\n",
    "    ('bow', CountVectorizer(tokenizer=lambda x: x.split(), ngram_range=(1,2), min_df=5, max_df=0.4)),\n",
    "    ('svd', TruncatedSVD(500)),\n",
    "    ('clf', ExtraTreesClassifier(n_estimators=100, max_depth=10))\n",
    "])\n",
    "svd = {'Random Forest': pipeline_svd_RF, 'SGDClassifier': pipeline_svd_SGDC, 'KNeighborsClassifier': pipeline_svd_KNC,'ExtraTreesClassifier': pipeline_svd_ETC}"
   ]
  },
  {
   "cell_type": "code",
   "execution_count": 5,
   "metadata": {
    "ExecuteTime": {
     "end_time": "2022-01-19T20:54:04.175480Z",
     "start_time": "2022-01-19T20:54:04.146483Z"
    },
    "collapsed": true
   },
   "outputs": [],
   "source": [
    "pipeline_nmf_RF = Pipeline([\n",
    "    ('bow', CountVectorizer(tokenizer=lambda x: x.split(), ngram_range=(1,2), min_df=5, max_df=0.4)),\n",
    "    ('svd', NMF(100)),\n",
    "    ('clf', RandomForestClassifier(n_estimators=100, max_depth=10))\n",
    "])\n",
    "pipeline_nmf_SGDC = Pipeline([\n",
    "    ('bow', CountVectorizer(tokenizer=lambda x: x.split(), ngram_range=(1,2), min_df=5, max_df=0.4)),\n",
    "    ('svd', NMF(100)),\n",
    "    ('clf', SGDClassifier(max_iter=1000, tol=1e-3))\n",
    "])\n",
    "pipeline_nmf_KNC = Pipeline([\n",
    "    ('bow', CountVectorizer(tokenizer=lambda x: x.split(), ngram_range=(1,2), min_df=5, max_df=0.4)),\n",
    "    ('svd', NMF(100)),\n",
    "    ('clf', KNeighborsClassifier())\n",
    "])\n",
    "pipeline_nmf_ETC = Pipeline([\n",
    "    ('bow', CountVectorizer(tokenizer=lambda x: x.split(), ngram_range=(1,2), min_df=5, max_df=0.4)),\n",
    "    ('svd', NMF(100)),\n",
    "    ('clf', ExtraTreesClassifier(n_estimators=100, max_depth=10))\n",
    "])\n",
    "nmf = {'Random Forest': pipeline_nmf_RF, 'SGDClassifier': pipeline_nmf_SGDC, 'KNeighborsClassifier': pipeline_nmf_KNC,'ExtraTreesClassifier': pipeline_nmf_ETC}"
   ]
  },
  {
   "cell_type": "code",
   "execution_count": 7,
   "metadata": {
    "ExecuteTime": {
     "end_time": "2022-01-19T22:04:51.652058Z",
     "start_time": "2022-01-19T21:09:59.469897Z"
    }
   },
   "outputs": [
    {
     "name": "stdout",
     "output_type": "stream",
     "text": [
      "svd: \n",
      "Random Forest 0.45\n",
      "SGDClassifier 0.73\n",
      "KNeighborsClassifier 0.46\n",
      "ExtraTreesClassifier 0.24\n",
      "nmf: \n",
      "Random Forest 0.55\n",
      "SGDClassifier 0.52\n",
      "KNeighborsClassifier 0.42\n",
      "ExtraTreesClassifier 0.37\n"
     ]
    }
   ],
   "source": [
    "print('svd: ')\n",
    "for name, pipe in svd.items():\n",
    "    result, error = eval_table(data['description_norm'], data['category_name'], pipe)\n",
    "    print(name, result.loc[\"mean\"][\"f1\"].round(3))\n",
    "print('nmf: ')\n",
    "for name, pipe in nmf.items():\n",
    "    result, error = eval_table(data['description_norm'], data['category_name'], pipe)\n",
    "    print(name, result.loc[\"mean\"][\"f1\"].round(3))    "
   ]
  },
  {
   "cell_type": "markdown",
   "metadata": {},
   "source": [
    "По f1 лучшее сочетание - это SVD+SGD"
   ]
  },
  {
   "cell_type": "markdown",
   "metadata": {},
   "source": [
    "### Задание № 2 (6 баллов)"
   ]
  },
  {
   "cell_type": "markdown",
   "metadata": {},
   "source": [
    "В Gensim тоже можно добавить нграммы и tfidf. Постройте 1 модель без них (как в семинаре) и еще 3 модели (1 с нграммами, 1 с tfidf и 1 с нграммами и с tfidf). Сранивте качество с помощью метрик (перплексия, когерентность) и на глаз. Определите лучшую модель. Для каждой модели выберите 1 самую красивую на ваш взгляд тему.\n",
    "\n",
    "Используйте данные википедии из семинара. Можете взять поменьше данных, если все обучается долго.\n",
    "\n",
    "Важное требование - получившиеся модели не должны быть совсем плохими. Если хороших тем не получается, попробуйте настроить гиперпараметры, отфильтровать словарь по-другому. "
   ]
  },
  {
   "cell_type": "markdown",
   "metadata": {},
   "source": [
    "Нграммы добавляются вот так (перед созданиеv словаря)"
   ]
  },
  {
   "cell_type": "code",
   "execution_count": 34,
   "metadata": {
    "ExecuteTime": {
     "end_time": "2022-01-20T20:19:40.275166Z",
     "start_time": "2022-01-20T20:19:06.361906Z"
    },
    "collapsed": true
   },
   "outputs": [],
   "source": [
    "texts = open('wiki_data.txt', encoding=\"utf8\").read().splitlines()[:1000]\n",
    "texts = ([normalize(text) for text in texts])\n",
    "\n",
    "texts = [text.split() for text in texts]\n",
    "ph = gensim.models.Phrases(texts, scoring='npmi', threshold=0.4) # threshold можно подбирать\n",
    "p = gensim.models.phrases.Phraser(ph)\n",
    "ngrammed_texts = p[texts] \n",
    "\n",
    "# ! не забудьте, что далее вам нужно будет использовать ngrammed_texts"
   ]
  },
  {
   "cell_type": "markdown",
   "metadata": {},
   "source": [
    "!! В модели с нграммами вначале посмотрите, что получается после преобразования\n",
    "Если вы выведите несколько первых текстов в ngrammed_texts, то там должно быть что-то такое:"
   ]
  },
  {
   "cell_type": "code",
   "execution_count": 20,
   "metadata": {
    "ExecuteTime": {
     "end_time": "2022-01-20T18:57:39.413486Z",
     "start_time": "2022-01-20T18:57:39.390180Z"
    },
    "collapsed": true
   },
   "outputs": [],
   "source": [
    "num_topics = 100"
   ]
  },
  {
   "cell_type": "code",
   "execution_count": 29,
   "metadata": {
    "ExecuteTime": {
     "end_time": "2022-01-20T20:10:43.973596Z",
     "start_time": "2022-01-20T20:10:43.758445Z"
    },
    "collapsed": true
   },
   "outputs": [],
   "source": [
    "def metrics(model, texts, dictionary, corpus):\n",
    "    topics = []\n",
    "    for topic_id, topic in model.show_topics(num_topics=num_topics, formatted=False):\n",
    "        topic = [word for word, _ in topic]\n",
    "        topics.append(topic)\n",
    "    coherence_model_lda = gensim.models.CoherenceModel(topics=topics,\n",
    "                                                       texts=texts,\n",
    "                                                       dictionary=dictionary, coherence='c_v')\n",
    "    return coherence_model_lda.get_coherence(), np.exp2(-model.log_perplexity(corpus))\n"
   ]
  },
  {
   "cell_type": "code",
   "execution_count": 30,
   "metadata": {
    "ExecuteTime": {
     "end_time": "2022-01-20T20:13:07.883496Z",
     "start_time": "2022-01-20T20:10:47.168209Z"
    }
   },
   "outputs": [
    {
     "name": "stdout",
     "output_type": "stream",
     "text": [
      "Default\n",
      "Coherence:  0.4972254817989352 Perplexity:  220.5182706399927\n"
     ]
    }
   ],
   "source": [
    "dictionary = gensim.corpora.Dictionary((text for text in texts))\n",
    "dictionary.filter_extremes(no_above=0.1, no_below=10)\n",
    "dictionary.compactify()\n",
    "\n",
    "corpus = [dictionary.doc2bow(text) for text in texts]\n",
    "\n",
    "lda_1 = gensim.models.LdaMulticore(corpus, \n",
    "                                 num_topics, \n",
    "                                 alpha='asymmetric',\n",
    "                                 id2word=dictionary, \n",
    "                                 passes=10)\n",
    "coherence, perplexity = metrics(lda_1, texts, dictionary, corpus)\n",
    "print('Default')\n",
    "print('Coherence: ',coherence, 'Perplexity: ',perplexity)\n"
   ]
  },
  {
   "cell_type": "code",
   "execution_count": 41,
   "metadata": {
    "ExecuteTime": {
     "end_time": "2022-01-20T20:43:45.163617Z",
     "start_time": "2022-01-20T20:43:45.109621Z"
    },
    "scrolled": true
   },
   "outputs": [
    {
     "data": {
      "text/plain": [
       "[(99,\n",
       "  '0.058*\"посёлок\" + 0.025*\"житель\" + 0.022*\"село\" + 0.018*\"округа\" + 0.018*\"иметься\" + 0.017*\"ботсвана\" + 0.016*\"пункт\" + 0.015*\"море\" + 0.013*\"центральный\" + 0.012*\"данные\"'),\n",
       " (98,\n",
       "  '0.053*\"животное\" + 0.028*\"процесс\" + 0.022*\"задача\" + 0.021*\"способность\" + 0.017*\"связь\" + 0.016*\"использовать\" + 0.015*\"учёный\" + 0.013*\"тип\" + 0.013*\"способный\" + 0.012*\"исследование\"'),\n",
       " (97,\n",
       "  '0.052*\"хутор\" + 0.031*\"дубовский\" + 0.026*\"поселение\" + 0.024*\"сельский\" + 0.021*\"газета\" + 0.014*\"численность\" + 0.013*\"ростовский\" + 0.013*\"иметься\" + 0.013*\"река\" + 0.013*\"согласно\"'),\n",
       " (96,\n",
       "  '0.049*\"клуб\" + 0.042*\"команда\" + 0.032*\"матч\" + 0.030*\"чемпионат\" + 0.021*\"сезон\" + 0.015*\"кубок\" + 0.015*\"чемпион\" + 0.014*\"контракт\" + 0.014*\"против\" + 0.014*\"выступать\"'),\n",
       " (95,\n",
       "  '0.045*\"тысяча\" + 0.018*\"южный\" + 0.018*\"данные\" + 0.014*\"2015\" + 0.013*\"колледж\" + 0.012*\"перепись\" + 0.011*\"университет\" + 0.009*\"библиотека\" + 0.009*\"здание\" + 0.009*\"житель\"'),\n",
       " (94,\n",
       "  '0.029*\"культура\" + 0.019*\"сср\" + 0.018*\"период\" + 0.018*\"наш\" + 0.017*\"э\" + 0.016*\"регион\" + 0.015*\"тысяча\" + 0.013*\"европа\" + 0.013*\"век\" + 0.010*\"возраст\"'),\n",
       " (93,\n",
       "  '0.041*\"институт\" + 0.027*\"наука\" + 0.023*\"научный\" + 0.021*\"профессор\" + 0.019*\"метод\" + 0.019*\"академия\" + 0.017*\"определение\" + 0.016*\"исследование\" + 0.014*\"наш\" + 0.013*\"кафедра\"'),\n",
       " (92,\n",
       "  '0.042*\"сезон\" + 0.037*\"сериал\" + 0.021*\"лос-анджелес\" + 0.017*\"полиция\" + 0.017*\"морской\" + 0.016*\"эпизод\" + 0.016*\"персонаж\" + 0.015*\"„\" + 0.015*\"“\" + 0.015*\"играть\"'),\n",
       " (91,\n",
       "  '0.042*\"2004\" + 0.037*\"институт\" + 0.026*\"национальный\" + 0.020*\"афины\" + 0.019*\"карта\" + 0.016*\"точка\" + 0.012*\"франция\" + 0.012*\"игрок\" + 0.009*\"прохождение\" + 0.009*\"трасса\"'),\n",
       " (90,\n",
       "  '0.047*\"россия\" + 0.047*\"экономический\" + 0.046*\"общество\" + 0.017*\"наш\" + 0.014*\"далее\" + 0.013*\"труд\" + 0.011*\"российский\" + 0.010*\"развитие\" + 0.010*\"организация\" + 0.010*\"президент\"'),\n",
       " (9,\n",
       "  '0.033*\"штат\" + 0.018*\"уровень\" + 0.012*\"состояние\" + 0.012*\"система\" + 0.011*\"переход\" + 0.010*\"точка\" + 0.009*\"помощь\" + 0.009*\"представитель\" + 0.008*\"камень\" + 0.008*\"свет\"'),\n",
       " (8,\n",
       "  '0.063*\"фильм\" + 0.030*\"роль\" + 0.025*\"’\" + 0.020*\"ямайка\" + 0.011*\"сыграть\" + 0.011*\"главный\" + 0.010*\"американский\" + 0.009*\"1948\" + 0.009*\"актёр\" + 0.009*\"сняться\"'),\n",
       " (7,\n",
       "  '0.026*\"парк\" + 0.025*\"роман\" + 0.016*\"епархия\" + 0.012*\"хотеть\" + 0.010*\"александр\" + 0.010*\"национальный\" + 0.009*\"друг\" + 0.007*\"заключённый\" + 0.007*\"заключение\" + 0.006*\"кафедра\"'),\n",
       " (6,\n",
       "  '0.088*\"атлетика\" + 0.085*\"спортсмен\" + 0.064*\"лёгкий\" + 0.052*\"2000\" + 0.047*\"1996\" + 0.039*\"тяжёлый\" + 0.036*\"фиджи\" + 0.034*\"австралия\" + 0.029*\"плавание\" + 0.024*\"сидней\"'),\n",
       " (5,\n",
       "  '0.038*\"1956\" + 0.022*\"фильм\" + 0.013*\"компания\" + 0.012*\"главный\" + 0.012*\"смерть\" + 0.012*\"двигатель\" + 0.011*\"роль\" + 0.011*\"язык\" + 0.009*\"1999\" + 0.008*\"британский\"')]"
      ]
     },
     "execution_count": 41,
     "metadata": {},
     "output_type": "execute_result"
    }
   ],
   "source": [
    "lda_1.print_topics()[:15]"
   ]
  },
  {
   "cell_type": "markdown",
   "metadata": {
    "ExecuteTime": {
     "end_time": "2022-01-20T20:44:49.502726Z",
     "start_time": "2022-01-20T20:44:49.455991Z"
    }
   },
   "source": [
    "мне нравится эта тема, понятно, что она про какой-то вид спорта:<br/>\n",
    "'0.049*\"клуб\" + 0.042*\"команда\" + 0.032*\"матч\" + 0.030*\"чемпионат\" + 0.021*\"сезон\" + 0.015*\"кубок\" + 0.015*\"чемпион\" + 0.014*\"контракт\" + 0.014*\"против\" + 0.014*\"выступать\"'<br/>\n",
    "здесь про образование:<br/>\n",
    "'0.041*\"институт\" + 0.027*\"наука\" + 0.023*\"научный\" + 0.021*\"профессор\" + 0.019*\"метод\" + 0.019*\"академия\" + 0.017*\"определение\" + 0.016*\"исследование\" + 0.014*\"наш\" + 0.013*\"кафедра\"<br/>\n",
    "про кино: <br/>\n",
    "'0.063*\"фильм\" + 0.030*\"роль\" + 0.025*\"’\" + 0.020*\"ямайка\" + 0.011*\"сыграть\" + 0.011*\"главный\" + 0.010*\"американский\" + 0.009*\"1948\" + 0.009*\"актёр\" + 0.009*\"сняться\"'<br/>"
   ]
  },
  {
   "cell_type": "code",
   "execution_count": 31,
   "metadata": {
    "ExecuteTime": {
     "end_time": "2022-01-20T20:14:39.495409Z",
     "start_time": "2022-01-20T20:13:10.471256Z"
    }
   },
   "outputs": [
    {
     "name": "stdout",
     "output_type": "stream",
     "text": [
      "TF-idf\n",
      "Coherence:  0.4531671817773997 Perplexity:  515.2402667594639\n"
     ]
    }
   ],
   "source": [
    "dictionary = gensim.corpora.Dictionary((text for text in texts))\n",
    "dictionary.filter_extremes(no_above=0.1, no_below=10)\n",
    "dictionary.compactify()\n",
    "\n",
    "corpus = [dictionary.doc2bow(text) for text in texts]\n",
    "tfidf = gensim.models.TfidfModel(corpus, id2word=dictionary)\n",
    "tf_idf_corpus = tfidf[corpus]\n",
    "\n",
    "lda_2 = gensim.models.LdaMulticore(tf_idf_corpus,\n",
    "                                        num_topics,\n",
    "                                        alpha='asymmetric',\n",
    "                                        id2word=dictionary,\n",
    "                                        passes=10)\n",
    "coherence, perplexity = metrics(lda_2, texts, dictionary, corpus)\n",
    "print('TF-idf')\n",
    "print('Coherence: ',coherence, 'Perplexity: ',perplexity)"
   ]
  },
  {
   "cell_type": "code",
   "execution_count": 43,
   "metadata": {
    "ExecuteTime": {
     "end_time": "2022-01-20T20:45:32.588181Z",
     "start_time": "2022-01-20T20:45:32.538065Z"
    },
    "scrolled": true
   },
   "outputs": [
    {
     "data": {
      "text/plain": [
       "[(99,\n",
       "  '0.000*\"личный\" + 0.000*\"мария\" + 0.000*\"историк\" + 0.000*\"каменный\" + 0.000*\"конгресс\" + 0.000*\"конечный\" + 0.000*\"круглый\" + 0.000*\"крыло\" + 0.000*\"золото\" + 0.000*\"монреаль\"'),\n",
       " (97,\n",
       "  '0.120*\"фамилия\" + 0.000*\"сценарий\" + 0.000*\"анатолий\" + 0.000*\"российский\" + 0.000*\"окончить\" + 0.000*\"москва\" + 0.000*\"1953\" + 0.000*\"поиск\" + 0.000*\"факультет\" + 0.000*\"руководитель\"'),\n",
       " (98,\n",
       "  '0.001*\"всемирный\" + 0.001*\"волость\" + 0.001*\"промышленность\" + 0.001*\"горный\" + 0.001*\"провинция\" + 0.001*\"уезд\" + 0.000*\"перевести\" + 0.000*\"климат\" + 0.000*\"подчинение\" + 0.000*\"посёлок\"'),\n",
       " (96,\n",
       "  '0.001*\"съезд\" + 0.001*\"1905\" + 0.001*\"организация\" + 0.000*\"москва\" + 0.000*\"партийный\" + 0.000*\"комитет\" + 0.000*\"участвовать\" + 0.000*\"московский\" + 0.000*\"тюрьма\" + 0.000*\"член\"'),\n",
       " (95,\n",
       "  '0.001*\"мост\" + 0.001*\"рабочий\" + 0.000*\"подразделение\" + 0.000*\"июнь\" + 0.000*\"рота\" + 0.000*\"командование\" + 0.000*\"железнодорожный\" + 0.000*\"армия\" + 0.000*\"корпус\" + 0.000*\"бой\"'),\n",
       " (94,\n",
       "  '0.001*\"сборный\" + 0.001*\"ссср\" + 0.001*\"тренер\" + 0.001*\"матч\" + 0.001*\"чемпионат\" + 0.000*\"победа\" + 0.000*\"чемпион\" + 0.000*\"заслужить\" + 0.000*\"москва\" + 0.000*\"спортивный\"'),\n",
       " (93,\n",
       "  '0.000*\"личный\" + 0.000*\"мария\" + 0.000*\"историк\" + 0.000*\"каменный\" + 0.000*\"конгресс\" + 0.000*\"конечный\" + 0.000*\"круглый\" + 0.000*\"крыло\" + 0.000*\"золото\" + 0.000*\"монреаль\"'),\n",
       " (92,\n",
       "  '0.000*\"личный\" + 0.000*\"мария\" + 0.000*\"историк\" + 0.000*\"каменный\" + 0.000*\"конгресс\" + 0.000*\"конечный\" + 0.000*\"круглый\" + 0.000*\"крыло\" + 0.000*\"золото\" + 0.000*\"монреаль\"'),\n",
       " (90,\n",
       "  '0.000*\"личный\" + 0.000*\"мария\" + 0.000*\"историк\" + 0.000*\"каменный\" + 0.000*\"конгресс\" + 0.000*\"конечный\" + 0.000*\"круглый\" + 0.000*\"крыло\" + 0.000*\"золото\" + 0.000*\"монреаль\"'),\n",
       " (91,\n",
       "  '0.000*\"личный\" + 0.000*\"мария\" + 0.000*\"историк\" + 0.000*\"каменный\" + 0.000*\"конгресс\" + 0.000*\"конечный\" + 0.000*\"круглый\" + 0.000*\"крыло\" + 0.000*\"золото\" + 0.000*\"монреаль\"'),\n",
       " (9,\n",
       "  '0.001*\"солнечный\" + 0.001*\"солнце\" + 0.001*\"1960\" + 0.001*\"книга\" + 0.001*\"изучение\" + 0.001*\"камера\" + 0.001*\"доступный\" + 0.001*\"издание\" + 0.001*\"аппарат\" + 0.001*\"200\"'),\n",
       " (8,\n",
       "  '0.001*\"племя\" + 0.001*\"доступный\" + 0.001*\"трасса\" + 0.001*\"точка\" + 0.001*\"прохождение\" + 0.001*\"колумбия\" + 0.001*\"игрок\" + 0.001*\"поверхность\" + 0.001*\"оскар\" + 0.001*\"зритель\"'),\n",
       " (7,\n",
       "  '0.023*\"расчёт\" + 0.001*\"дисциплина\" + 0.001*\"европейский\" + 0.001*\"сегодня\" + 0.001*\"швейцария\" + 0.001*\"парк\" + 0.001*\"университет\" + 0.001*\"европа\" + 0.001*\"присутствие\" + 0.001*\"спорт\"'),\n",
       " (6,\n",
       "  '0.080*\"афины\" + 0.062*\"суд\" + 0.060*\"распространение\" + 0.026*\"200\" + 0.025*\"связывать\" + 0.016*\"рассмотрение\" + 0.010*\"подняться\" + 0.006*\"путём\" + 0.004*\"лондонский\" + 0.004*\"процесс\"'),\n",
       " (5,\n",
       "  '0.051*\"студия\" + 0.036*\"математика\" + 0.036*\"корабль\" + 0.008*\"приходить\" + 0.007*\"выпускать\" + 0.002*\"павел\" + 0.001*\"григорий\" + 0.001*\"реализовать\" + 0.001*\"публичный\" + 0.001*\"сад\"')]"
      ]
     },
     "execution_count": 43,
     "metadata": {},
     "output_type": "execute_result"
    }
   ],
   "source": [
    "lda_2.print_topics()[:15]"
   ]
  },
  {
   "cell_type": "markdown",
   "metadata": {},
   "source": [
    "мне кажется, тут про ссср:<br/>\n",
    "'0.001*\"съезд\" + 0.001*\"1905\" + 0.001*\"организация\" + 0.000*\"москва\" + 0.000*\"партийный\" + 0.000*\"комитет\" + 0.000*\"участвоват\" + 0.000*\"московский\" + 0.000*\"тюрьма\" + 0.000*\"член\" <br/>\n",
    "а тут про спорт:<br/>\n",
    "'0.001*\"сборный\" + 0.001*\"ссср\" + 0.001*\"тренер\" + 0.001*\"матч\" + 0.001*\"чемпионат\" + 0.000*\"победа\" + 0.000*\"чемпион\" + 0.000*\"заслужить\" + 0.000*\"москва\" + 0.000*\"спортивный\"'<br/>"
   ]
  },
  {
   "cell_type": "code",
   "execution_count": 39,
   "metadata": {
    "ExecuteTime": {
     "end_time": "2022-01-20T20:35:59.577856Z",
     "start_time": "2022-01-20T20:34:20.430052Z"
    }
   },
   "outputs": [
    {
     "name": "stdout",
     "output_type": "stream",
     "text": [
      "ngrams\n",
      "Coherence:  0.45483407229482187 Perplexity:  264.19025257345805\n"
     ]
    }
   ],
   "source": [
    "dictionary = gensim.corpora.Dictionary((text for text in ngrammed_texts))\n",
    "dictionary.filter_extremes(no_above=0.05, no_below=10)\n",
    "dictionary.compactify()\n",
    "\n",
    "corpus = [dictionary.doc2bow(text) for text in ngrammed_texts]\n",
    "\n",
    "lda_3 = gensim.models.LdaMulticore(corpus, \n",
    "                                     num_topics, \n",
    "                                     alpha='asymmetric',\n",
    "                                     id2word=dictionary, \n",
    "                                     passes=10) \n",
    "coherence, perplexity = metrics(lda_3, ngrammed_texts, dictionary, corpus)\n",
    "print('ngrams')\n",
    "print('Coherence: ',coherence, 'Perplexity: ',perplexity)"
   ]
  },
  {
   "cell_type": "code",
   "execution_count": 44,
   "metadata": {
    "ExecuteTime": {
     "end_time": "2022-01-20T20:45:48.302968Z",
     "start_time": "2022-01-20T20:45:48.255840Z"
    }
   },
   "outputs": [
    {
     "data": {
      "text/plain": [
       "[(99,\n",
       "  '0.045*\"церковь\" + 0.021*\"1965_год\" + 0.017*\"здание\" + 0.016*\"автомобиль\" + 0.014*\"процесс\" + 0.012*\"московский\" + 0.011*\"задача\" + 0.011*\"архитектор\" + 0.011*\"тренер\" + 0.011*\"дерево\"'),\n",
       " (98,\n",
       "  '0.077*\"станция\" + 0.023*\"комплекс\" + 0.021*\"институт\" + 0.015*\"наш\" + 0.014*\"опытный\" + 0.013*\"федеральный\" + 0.013*\"академик\" + 0.012*\"совет\" + 0.012*\"передавать\" + 0.012*\"оборудование\"'),\n",
       " (96,\n",
       "  '0.039*\"монастырь\" + 0.024*\"собор\" + 0.021*\"культура\" + 0.014*\"святой\" + 0.013*\"башня\" + 0.012*\"регион\" + 0.011*\"озеро\" + 0.011*\"восточный\" + 0.010*\"э\" + 0.010*\"до_наш\"'),\n",
       " (97,\n",
       "  '0.022*\"фестиваль\" + 0.021*\"выставка\" + 0.020*\"городской\" + 0.020*\"пространство\" + 0.018*\"мы\" + 0.011*\"среда\" + 0.011*\"площадь\" + 0.011*\"акция\" + 0.011*\"италия\" + 0.010*\"архитектор\"'),\n",
       " (94,\n",
       "  '0.013*\"север\" + 0.012*\"карта\" + 0.009*\"22\" + 0.009*\"канал\" + 0.009*\"произвести\" + 0.009*\"китайский\" + 0.009*\"станция\" + 0.009*\"перевод\" + 0.008*\"западный\" + 0.008*\"запад\"'),\n",
       " (95,\n",
       "  '0.150*\"уезд\" + 0.030*\"кнр\" + 0.026*\"быть_преобразовать\" + 0.025*\"губерния\" + 0.024*\"каждый_заезд\" + 0.024*\"империя\" + 0.023*\"следующий_раунд\" + 0.022*\"быть_создать\" + 0.022*\"дисциплина\" + 0.021*\"сильнейший_экипаж\"'),\n",
       " (93,\n",
       "  '0.041*\"волость\" + 0.036*\"сельсовет\" + 0.033*\"озеро\" + 0.016*\"1929_год\" + 0.016*\"сесть\" + 0.015*\"образоваться\" + 0.013*\"торговый\" + 0.013*\"камень\" + 0.012*\"японский\" + 0.012*\"двор\"'),\n",
       " (91,\n",
       "  '0.093*\"сесть\" + 0.054*\"–\" + 0.050*\"село\" + 0.038*\"сель\" + 0.024*\"сельский_поселение\" + 0.021*\"крым\" + 0.017*\"километр_к\" + 0.015*\"поселение\" + 0.015*\"отделение\" + 0.014*\"населить_пункт\"'),\n",
       " (92,\n",
       "  '0.034*\"церковь\" + 0.034*\"здание\" + 0.023*\"передача\" + 0.023*\"передать\" + 0.019*\"объект\" + 0.019*\"закон\" + 0.018*\"культура\" + 0.018*\"собственность\" + 0.017*\"религиозный\" + 0.014*\"музей\"'),\n",
       " (90,\n",
       "  '0.034*\"архитектор\" + 0.033*\"предложить\" + 0.030*\"шоу\" + 0.025*\"сеть\" + 0.020*\"идея\" + 0.015*\"сериал\" + 0.014*\"социальный\" + 0.013*\"1998\" + 0.013*\"правило\" + 0.012*\"древний\"'),\n",
       " (9,\n",
       "  '0.028*\"провинция\" + 0.025*\"программа\" + 0.019*\"факультет\" + 0.017*\"1994_год\" + 0.014*\"студент\" + 0.014*\"горный\" + 0.013*\"занимать\" + 0.013*\"наука\" + 0.013*\"математика\" + 0.012*\"зимний_олимпийский\"'),\n",
       " (8,\n",
       "  '0.029*\"игра_2000\" + 0.028*\"2000\" + 0.026*\"сидней_австралия\" + 0.023*\"место_занятой\" + 0.022*\"следующий_раунд\" + 0.021*\"свой_заплыв\" + 0.021*\"проходить_хороший\" + 0.021*\"каждый_дистанция\" + 0.021*\"время_независимо\" + 0.017*\"проиграть\"'),\n",
       " (7,\n",
       "  '0.015*\"владимир\" + 0.013*\"директор\" + 0.013*\"институт\" + 0.012*\"александр\" + 0.012*\"депутат\" + 0.011*\"глава\" + 0.011*\"председатель\" + 0.010*\"завод\" + 0.010*\"партия\" + 0.009*\"сотрудник\"'),\n",
       " (6,\n",
       "  '0.072*\"газета\" + 0.027*\"хороший_результат\" + 0.026*\"1976\" + 0.020*\"1978\" + 0.018*\"предприятие\" + 0.017*\"1975\" + 0.017*\"1987\" + 0.016*\"1977\" + 0.015*\"турнир\" + 0.014*\"1974\"'),\n",
       " (5,\n",
       "  '0.039*\"кладбище\" + 0.018*\"полка\" + 0.017*\"командир\" + 0.014*\"памятник\" + 0.014*\"полковник\" + 0.013*\"павел\" + 0.012*\"фронт\" + 0.011*\"крест\" + 0.010*\"александр\" + 0.009*\"участок\"')]"
      ]
     },
     "execution_count": 44,
     "metadata": {},
     "output_type": "execute_result"
    }
   ],
   "source": [
    "lda_3.print_topics()[:15]"
   ]
  },
  {
   "cell_type": "markdown",
   "metadata": {},
   "source": [
    "про населенные пункты:<br/>\n",
    "'0.093*\"сесть\" + 0.054*\"–\" + 0.050*\"село\" + 0.038*\"сель\" + 0.024*\"сельский_поселение\" + 0.021*\"крым\" + 0.017*\"километр_к\" + 0.015*\"поселение\" + 0.015*\"отделение\" + 0.014*\"населить_пункт\"'<br/>\n",
    "про урбанистику: <br/>\n",
    "'0.022*\"фестиваль\" + 0.021*\"выставка\" + 0.020*\"городской\" + 0.020*\"пространство\" + 0.018*\"мы\" + 0.011*\"среда\" + 0.011*\"площадь\" + 0.011*\"акция\" + 0.011*\"италия\" + 0.010*\"архитектор\"'"
   ]
  },
  {
   "cell_type": "code",
   "execution_count": 47,
   "metadata": {
    "ExecuteTime": {
     "end_time": "2022-01-20T21:05:49.195307Z",
     "start_time": "2022-01-20T21:04:55.048950Z"
    },
    "run_control": {
     "marked": true
    }
   },
   "outputs": [
    {
     "name": "stdout",
     "output_type": "stream",
     "text": [
      "ngrams + tfidf\n",
      "Coherence:  0.35663227044628837 Perplexity:  612.2806054946521\n"
     ]
    }
   ],
   "source": [
    "dictionary = gensim.corpora.Dictionary((text for text in ngrammed_texts))\n",
    "dictionary.filter_extremes(no_above=0.05, no_below=10)\n",
    "dictionary.compactify()\n",
    "\n",
    "corpus = [dictionary.doc2bow(text) for text in ngrammed_texts]\n",
    "\n",
    "tfidf = gensim.models.TfidfModel(corpus, id2word=dictionary)\n",
    "corpus = tfidf[corpus]\n",
    "\n",
    "lda_4 = gensim.models.LdaMulticore(corpus, \n",
    "                                 15,\n",
    "                                 alpha='asymmetric',\n",
    "                                 id2word=dictionary, \n",
    "                                 passes=10) \n",
    "coherence, perplexity = metrics(lda_4, ngrammed_texts, dictionary, corpus)\n",
    "print('ngrams + tfidf')\n",
    "print('Coherence: ',coherence, 'Perplexity: ',perplexity)\n"
   ]
  },
  {
   "cell_type": "code",
   "execution_count": 48,
   "metadata": {
    "ExecuteTime": {
     "end_time": "2022-01-20T21:05:51.167113Z",
     "start_time": "2022-01-20T21:05:51.140675Z"
    },
    "scrolled": true
   },
   "outputs": [
    {
     "data": {
      "text/plain": [
       "[(0,\n",
       "  '0.003*\"сесть\" + 0.003*\"уезд\" + 0.003*\"посёлок\" + 0.003*\"зимний_олимпийский\" + 0.002*\"клуб\" + 0.002*\"соревнование_по\" + 0.002*\"альбом\" + 0.002*\"сезон\" + 0.002*\"станция\" + 0.002*\"турнир\"'),\n",
       " (1,\n",
       "  '0.025*\"значение\" + 0.016*\"департамент\" + 0.014*\"аргентина\" + 0.012*\"каждый_заезд\" + 0.012*\"сильнейший_экипаж\" + 0.011*\"хороший_экипаж\" + 0.011*\"проходить_несколько\" + 0.011*\"следующий_раунд\" + 0.011*\"пункт\" + 0.010*\"выходить_6\"'),\n",
       " (2,\n",
       "  '0.027*\"ямайка\" + 0.026*\"ямайка_принимать\" + 0.011*\"сборная_страна\" + 0.008*\"1952\" + 0.006*\"слава\" + 0.006*\"два_бронзовый\" + 0.006*\"шесть_раз\" + 0.006*\"монастырь\" + 0.005*\"золотой_медаль\" + 0.005*\"серебряный_медаль\"'),\n",
       " (3,\n",
       "  '0.001*\"орудие\" + 0.001*\"процесс\" + 0.000*\"институт\" + 0.000*\"угол\" + 0.000*\"изображение\" + 0.000*\"карта\" + 0.000*\"мм\" + 0.000*\"параметр\" + 0.000*\"солнечный\" + 0.000*\"соревнование\"'),\n",
       " (4,\n",
       "  '0.001*\"равнина\" + 0.001*\"запад\" + 0.001*\"заказ\" + 0.001*\"гражданский_война\" + 0.001*\"индеец\" + 0.001*\"начинаться\" + 0.001*\"солдат\" + 0.001*\"1936\" + 0.001*\"возвращаться\" + 0.001*\"закончиться\"'),\n",
       " (5,\n",
       "  '0.000*\"фраза\" + 0.000*\"инструмент\" + 0.000*\"автомобиль\" + 0.000*\"защищать\" + 0.000*\"игрок\" + 0.000*\"сезон\" + 0.000*\"ошибка\" + 0.000*\"суметь\" + 0.000*\"уезд\" + 0.000*\"пилот\"'),\n",
       " (6,\n",
       "  '0.012*\"термин\" + 0.000*\"животное\" + 0.000*\"песня\" + 0.000*\"какой\" + 0.000*\"полёт\" + 0.000*\"экономика\" + 0.000*\"практика\" + 0.000*\"социальный\" + 0.000*\"эксперимент\" + 0.000*\"экипаж\"'),\n",
       " (7,\n",
       "  '0.000*\"–\" + 0.000*\"лагерь\" + 0.000*\"птица\" + 0.000*\"польский\" + 0.000*\"заключённый\" + 0.000*\"король\" + 0.000*\"сельский_поселение\" + 0.000*\"iv\" + 0.000*\"собор\" + 0.000*\"тонкий\"'),\n",
       " (8,\n",
       "  '0.000*\"чемпионат\" + 0.000*\"матч\" + 0.000*\"турнир\" + 0.000*\"писатель\" + 0.000*\"1928\" + 0.000*\"раунд\" + 0.000*\"каждый_заезд\" + 0.000*\"победа\" + 0.000*\"польский\" + 0.000*\"х\"'),\n",
       " (9,\n",
       "  '0.000*\"задача\" + 0.000*\"процесс\" + 0.000*\"выполнение\" + 0.000*\"состояние\" + 0.000*\"необходимый_для\" + 0.000*\"свет\" + 0.000*\"линия\" + 0.000*\"разделение\" + 0.000*\"реальный\" + 0.000*\"излучение\"'),\n",
       " (10,\n",
       "  '0.000*\"финансовый\" + 0.000*\"песня\" + 0.000*\"2017_год\" + 0.000*\"греция\" + 0.000*\"уход\" + 0.000*\"станция\" + 0.000*\"вместе\" + 0.000*\"состояться\" + 0.000*\"испания\" + 0.000*\"2015_год\"'),\n",
       " (11,\n",
       "  '0.000*\"марка\" + 0.000*\"лист\" + 0.000*\"процесс\" + 0.000*\"сантиметр\" + 0.000*\"королева\" + 0.000*\"диаметр\" + 0.000*\"изготовление\" + 0.000*\"растение\" + 0.000*\"короткий\" + 0.000*\"альбом\"'),\n",
       " (12,\n",
       "  '0.000*\"добыча\" + 0.000*\"глубина\" + 0.000*\"том\" + 0.000*\"начальный\" + 0.000*\"бассейн\" + 0.000*\"дворец\" + 0.000*\"сутки\" + 0.000*\"правитель\" + 0.000*\"путешествие\" + 0.000*\"факультет\"'),\n",
       " (13,\n",
       "  '0.000*\"общество\" + 0.000*\"производить\" + 0.000*\"песня\" + 0.000*\"the\" + 0.000*\"and\" + 0.000*\"рынок\" + 0.000*\"экономический\" + 0.000*\"камера\" + 0.000*\"наш\" + 0.000*\"конституция\"'),\n",
       " (14,\n",
       "  '0.001*\"знание\" + 0.000*\"литва\" + 0.000*\"сфера\" + 0.000*\"наш\" + 0.000*\"математика\" + 0.000*\"газета\" + 0.000*\"е\" + 0.000*\"один_секретарь\" + 0.000*\"наука\" + 0.000*\"кафедра\"')]"
      ]
     },
     "execution_count": 48,
     "metadata": {},
     "output_type": "execute_result"
    }
   ],
   "source": [
    "lda_4.print_topics()"
   ]
  },
  {
   "cell_type": "markdown",
   "metadata": {},
   "source": [
    "про спортивные состязания:<br/>\n",
    "'0.000*\"чемпионат\" + 0.000*\"матч\" + 0.000*\"турнир\" + 0.000*\"писатель\" + 0.000*\"1928\" + 0.000*\"раунд\" + 0.000*\"каждый_заезд\" + 0.000*\"победа\" + 0.000*\"польский\" + 0.000*\"х\"' <br/>\n"
   ]
  },
  {
   "cell_type": "markdown",
   "metadata": {},
   "source": [
    "Мне кажется, что модель с нграммами -- самая лучшая и содержит самые осмысленные темы<br/>\n",
    "по метрикам лучше всего дефолтная модель"
   ]
  }
 ],
 "metadata": {
  "kernelspec": {
   "display_name": "Python 3",
   "language": "python",
   "name": "python3"
  },
  "language_info": {
   "codemirror_mode": {
    "name": "ipython",
    "version": 3
   },
   "file_extension": ".py",
   "mimetype": "text/x-python",
   "name": "python",
   "nbconvert_exporter": "python",
   "pygments_lexer": "ipython3",
   "version": "3.6.8"
  },
  "toc": {
   "base_numbering": 1,
   "nav_menu": {},
   "number_sections": true,
   "sideBar": true,
   "skip_h1_title": false,
   "title_cell": "Table of Contents",
   "title_sidebar": "Contents",
   "toc_cell": false,
   "toc_position": {},
   "toc_section_display": true,
   "toc_window_display": false
  },
  "varInspector": {
   "cols": {
    "lenName": 16,
    "lenType": 16,
    "lenVar": 40
   },
   "kernels_config": {
    "python": {
     "delete_cmd_postfix": "",
     "delete_cmd_prefix": "del ",
     "library": "var_list.py",
     "varRefreshCmd": "print(var_dic_list())"
    },
    "r": {
     "delete_cmd_postfix": ") ",
     "delete_cmd_prefix": "rm(",
     "library": "var_list.r",
     "varRefreshCmd": "cat(var_dic_list()) "
    }
   },
   "types_to_exclude": [
    "module",
    "function",
    "builtin_function_or_method",
    "instance",
    "_Feature"
   ],
   "window_display": false
  }
 },
 "nbformat": 4,
 "nbformat_minor": 5
}
